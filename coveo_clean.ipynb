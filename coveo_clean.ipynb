{
 "cells": [
  {
   "cell_type": "markdown",
   "id": "1a60588d",
   "metadata": {},
   "source": [
    "# EDA"
   ]
  },
  {
   "cell_type": "code",
   "execution_count": 1,
   "id": "bb9286d8",
   "metadata": {},
   "outputs": [],
   "source": [
    "import pandas as pd\n",
    "import numpy as np\n",
    "import pathlib"
   ]
  },
  {
   "cell_type": "code",
   "execution_count": 2,
   "id": "173382da",
   "metadata": {},
   "outputs": [],
   "source": [
    "browsing_train_path = '../data/train/browsing_train.csv'\n",
    "search_train_path = '../data/train/search_train.csv'\n",
    "sku_to_content_path = '../data/train/sku_to_content.csv'"
   ]
  },
  {
   "cell_type": "code",
   "execution_count": 3,
   "id": "859c5076",
   "metadata": {},
   "outputs": [],
   "source": [
    "browse_df = pd.read_csv(browsing_train_path)"
   ]
  },
  {
   "cell_type": "code",
   "execution_count": 4,
   "id": "4e4a199f",
   "metadata": {},
   "outputs": [
    {
     "data": {
      "text/html": [
       "<div>\n",
       "<style scoped>\n",
       "    .dataframe tbody tr th:only-of-type {\n",
       "        vertical-align: middle;\n",
       "    }\n",
       "\n",
       "    .dataframe tbody tr th {\n",
       "        vertical-align: top;\n",
       "    }\n",
       "\n",
       "    .dataframe thead th {\n",
       "        text-align: right;\n",
       "    }\n",
       "</style>\n",
       "<table border=\"1\" class=\"dataframe\">\n",
       "  <thead>\n",
       "    <tr style=\"text-align: right;\">\n",
       "      <th></th>\n",
       "      <th>session_id_hash</th>\n",
       "      <th>event_type</th>\n",
       "      <th>product_action</th>\n",
       "      <th>product_sku_hash</th>\n",
       "      <th>server_timestamp_epoch_ms</th>\n",
       "      <th>hashed_url</th>\n",
       "    </tr>\n",
       "  </thead>\n",
       "  <tbody>\n",
       "    <tr>\n",
       "      <th>0</th>\n",
       "      <td>20c458b802f6ea9374783bfc528b19421be977a6769785...</td>\n",
       "      <td>event_product</td>\n",
       "      <td>detail</td>\n",
       "      <td>d5157f8bc52965390fa21ad5842a8502bc3eb8b0930f3f...</td>\n",
       "      <td>1550885210881</td>\n",
       "      <td>7e4527ac6a32deed4f4f06bb7c49b907b7ca371e59d57d...</td>\n",
       "    </tr>\n",
       "    <tr>\n",
       "      <th>1</th>\n",
       "      <td>20c458b802f6ea9374783bfc528b19421be977a6769785...</td>\n",
       "      <td>event_product</td>\n",
       "      <td>detail</td>\n",
       "      <td>61ef3869355b78e11011f39fc7ac8f8dfb209b3442a9d5...</td>\n",
       "      <td>1550885213307</td>\n",
       "      <td>4ed279f4f0deab6dfc80f4f7bf49d527fd894fa478a9ce...</td>\n",
       "    </tr>\n",
       "    <tr>\n",
       "      <th>2</th>\n",
       "      <td>20c458b802f6ea9374783bfc528b19421be977a6769785...</td>\n",
       "      <td>pageview</td>\n",
       "      <td>NaN</td>\n",
       "      <td>NaN</td>\n",
       "      <td>1550885213307</td>\n",
       "      <td>4ed279f4f0deab6dfc80f4f7bf49d527fd894fa478a9ce...</td>\n",
       "    </tr>\n",
       "    <tr>\n",
       "      <th>3</th>\n",
       "      <td>20c458b802f6ea9374783bfc528b19421be977a6769785...</td>\n",
       "      <td>event_product</td>\n",
       "      <td>detail</td>\n",
       "      <td>d5157f8bc52965390fa21ad5842a8502bc3eb8b0930f3f...</td>\n",
       "      <td>1550885215484</td>\n",
       "      <td>7e4527ac6a32deed4f4f06bb7c49b907b7ca371e59d57d...</td>\n",
       "    </tr>\n",
       "    <tr>\n",
       "      <th>4</th>\n",
       "      <td>20c458b802f6ea9374783bfc528b19421be977a6769785...</td>\n",
       "      <td>pageview</td>\n",
       "      <td>NaN</td>\n",
       "      <td>NaN</td>\n",
       "      <td>1550885215484</td>\n",
       "      <td>7e4527ac6a32deed4f4f06bb7c49b907b7ca371e59d57d...</td>\n",
       "    </tr>\n",
       "  </tbody>\n",
       "</table>\n",
       "</div>"
      ],
      "text/plain": [
       "                                     session_id_hash     event_type  \\\n",
       "0  20c458b802f6ea9374783bfc528b19421be977a6769785...  event_product   \n",
       "1  20c458b802f6ea9374783bfc528b19421be977a6769785...  event_product   \n",
       "2  20c458b802f6ea9374783bfc528b19421be977a6769785...       pageview   \n",
       "3  20c458b802f6ea9374783bfc528b19421be977a6769785...  event_product   \n",
       "4  20c458b802f6ea9374783bfc528b19421be977a6769785...       pageview   \n",
       "\n",
       "  product_action                                   product_sku_hash  \\\n",
       "0         detail  d5157f8bc52965390fa21ad5842a8502bc3eb8b0930f3f...   \n",
       "1         detail  61ef3869355b78e11011f39fc7ac8f8dfb209b3442a9d5...   \n",
       "2            NaN                                                NaN   \n",
       "3         detail  d5157f8bc52965390fa21ad5842a8502bc3eb8b0930f3f...   \n",
       "4            NaN                                                NaN   \n",
       "\n",
       "   server_timestamp_epoch_ms  \\\n",
       "0              1550885210881   \n",
       "1              1550885213307   \n",
       "2              1550885213307   \n",
       "3              1550885215484   \n",
       "4              1550885215484   \n",
       "\n",
       "                                          hashed_url  \n",
       "0  7e4527ac6a32deed4f4f06bb7c49b907b7ca371e59d57d...  \n",
       "1  4ed279f4f0deab6dfc80f4f7bf49d527fd894fa478a9ce...  \n",
       "2  4ed279f4f0deab6dfc80f4f7bf49d527fd894fa478a9ce...  \n",
       "3  7e4527ac6a32deed4f4f06bb7c49b907b7ca371e59d57d...  \n",
       "4  7e4527ac6a32deed4f4f06bb7c49b907b7ca371e59d57d...  "
      ]
     },
     "execution_count": 4,
     "metadata": {},
     "output_type": "execute_result"
    }
   ],
   "source": [
    "browse_df.head()"
   ]
  },
  {
   "cell_type": "code",
   "execution_count": 5,
   "id": "3dbf4504",
   "metadata": {},
   "outputs": [
    {
     "data": {
      "text/html": [
       "<div>\n",
       "<style scoped>\n",
       "    .dataframe tbody tr th:only-of-type {\n",
       "        vertical-align: middle;\n",
       "    }\n",
       "\n",
       "    .dataframe tbody tr th {\n",
       "        vertical-align: top;\n",
       "    }\n",
       "\n",
       "    .dataframe thead th {\n",
       "        text-align: right;\n",
       "    }\n",
       "</style>\n",
       "<table border=\"1\" class=\"dataframe\">\n",
       "  <thead>\n",
       "    <tr style=\"text-align: right;\">\n",
       "      <th></th>\n",
       "      <th>event_type</th>\n",
       "      <th>product_action</th>\n",
       "    </tr>\n",
       "  </thead>\n",
       "  <tbody>\n",
       "    <tr>\n",
       "      <th>0</th>\n",
       "      <td>event_product</td>\n",
       "      <td>detail</td>\n",
       "    </tr>\n",
       "    <tr>\n",
       "      <th>2</th>\n",
       "      <td>pageview</td>\n",
       "      <td>NaN</td>\n",
       "    </tr>\n",
       "    <tr>\n",
       "      <th>713</th>\n",
       "      <td>event_product</td>\n",
       "      <td>add</td>\n",
       "    </tr>\n",
       "    <tr>\n",
       "      <th>717</th>\n",
       "      <td>event_product</td>\n",
       "      <td>purchase</td>\n",
       "    </tr>\n",
       "    <tr>\n",
       "      <th>2192</th>\n",
       "      <td>event_product</td>\n",
       "      <td>remove</td>\n",
       "    </tr>\n",
       "  </tbody>\n",
       "</table>\n",
       "</div>"
      ],
      "text/plain": [
       "         event_type product_action\n",
       "0     event_product         detail\n",
       "2          pageview            NaN\n",
       "713   event_product            add\n",
       "717   event_product       purchase\n",
       "2192  event_product         remove"
      ]
     },
     "execution_count": 5,
     "metadata": {},
     "output_type": "execute_result"
    }
   ],
   "source": [
    "browse_df[['event_type', 'product_action']].drop_duplicates()"
   ]
  },
  {
   "cell_type": "code",
   "execution_count": 6,
   "id": "5a21edf9",
   "metadata": {},
   "outputs": [],
   "source": [
    "# No search term\n",
    "search_df = pd.read_csv(search_train_path)"
   ]
  },
  {
   "cell_type": "code",
   "execution_count": 7,
   "id": "642db6c9",
   "metadata": {},
   "outputs": [
    {
     "data": {
      "text/html": [
       "<div>\n",
       "<style scoped>\n",
       "    .dataframe tbody tr th:only-of-type {\n",
       "        vertical-align: middle;\n",
       "    }\n",
       "\n",
       "    .dataframe tbody tr th {\n",
       "        vertical-align: top;\n",
       "    }\n",
       "\n",
       "    .dataframe thead th {\n",
       "        text-align: right;\n",
       "    }\n",
       "</style>\n",
       "<table border=\"1\" class=\"dataframe\">\n",
       "  <thead>\n",
       "    <tr style=\"text-align: right;\">\n",
       "      <th></th>\n",
       "      <th>session_id_hash</th>\n",
       "      <th>query_vector</th>\n",
       "      <th>clicked_skus_hash</th>\n",
       "      <th>product_skus_hash</th>\n",
       "      <th>server_timestamp_epoch_ms</th>\n",
       "    </tr>\n",
       "  </thead>\n",
       "  <tbody>\n",
       "    <tr>\n",
       "      <th>0</th>\n",
       "      <td>48fade624d47870058ce07dd789ccc04e46c70c0fa2a1b...</td>\n",
       "      <td>[-0.20255649089813232, -0.016908567398786545, ...</td>\n",
       "      <td>NaN</td>\n",
       "      <td>NaN</td>\n",
       "      <td>1548575194779</td>\n",
       "    </tr>\n",
       "    <tr>\n",
       "      <th>1</th>\n",
       "      <td>8731ca84ff7bb8cb647531d54e64feedb2519b4a7792a7...</td>\n",
       "      <td>[-0.007610442116856575, -0.14909175038337708, ...</td>\n",
       "      <td>NaN</td>\n",
       "      <td>['9ee9ffd7e2529a65f9a0b0c9eaae6330df85cf2e3af3...</td>\n",
       "      <td>1548276763869</td>\n",
       "    </tr>\n",
       "    <tr>\n",
       "      <th>2</th>\n",
       "      <td>9be980708345944960645d03606ea83b637cae9106b705...</td>\n",
       "      <td>[-0.20023074746131897, -0.03151938319206238, 0...</td>\n",
       "      <td>NaN</td>\n",
       "      <td>['7cc72dbed53bab78ec6a62feaa5052a7a1db7d201664...</td>\n",
       "      <td>1548937997295</td>\n",
       "    </tr>\n",
       "    <tr>\n",
       "      <th>3</th>\n",
       "      <td>9be980708345944960645d03606ea83b637cae9106b705...</td>\n",
       "      <td>[-0.18556387722492218, -0.07620412111282349, 0...</td>\n",
       "      <td>NaN</td>\n",
       "      <td>['62c4ddab6c1c81c74d315376b3c0dc7768c0286b3dc6...</td>\n",
       "      <td>1548938038268</td>\n",
       "    </tr>\n",
       "    <tr>\n",
       "      <th>4</th>\n",
       "      <td>9be980708345944960645d03606ea83b637cae9106b705...</td>\n",
       "      <td>[-0.03269264101982117, -0.27234694361686707, 0...</td>\n",
       "      <td>NaN</td>\n",
       "      <td>['2a0ee2924feabeec35e21e8fcb4d5b0684d190e46cef...</td>\n",
       "      <td>1548938093827</td>\n",
       "    </tr>\n",
       "  </tbody>\n",
       "</table>\n",
       "</div>"
      ],
      "text/plain": [
       "                                     session_id_hash  \\\n",
       "0  48fade624d47870058ce07dd789ccc04e46c70c0fa2a1b...   \n",
       "1  8731ca84ff7bb8cb647531d54e64feedb2519b4a7792a7...   \n",
       "2  9be980708345944960645d03606ea83b637cae9106b705...   \n",
       "3  9be980708345944960645d03606ea83b637cae9106b705...   \n",
       "4  9be980708345944960645d03606ea83b637cae9106b705...   \n",
       "\n",
       "                                        query_vector clicked_skus_hash  \\\n",
       "0  [-0.20255649089813232, -0.016908567398786545, ...               NaN   \n",
       "1  [-0.007610442116856575, -0.14909175038337708, ...               NaN   \n",
       "2  [-0.20023074746131897, -0.03151938319206238, 0...               NaN   \n",
       "3  [-0.18556387722492218, -0.07620412111282349, 0...               NaN   \n",
       "4  [-0.03269264101982117, -0.27234694361686707, 0...               NaN   \n",
       "\n",
       "                                   product_skus_hash  \\\n",
       "0                                                NaN   \n",
       "1  ['9ee9ffd7e2529a65f9a0b0c9eaae6330df85cf2e3af3...   \n",
       "2  ['7cc72dbed53bab78ec6a62feaa5052a7a1db7d201664...   \n",
       "3  ['62c4ddab6c1c81c74d315376b3c0dc7768c0286b3dc6...   \n",
       "4  ['2a0ee2924feabeec35e21e8fcb4d5b0684d190e46cef...   \n",
       "\n",
       "   server_timestamp_epoch_ms  \n",
       "0              1548575194779  \n",
       "1              1548276763869  \n",
       "2              1548937997295  \n",
       "3              1548938038268  \n",
       "4              1548938093827  "
      ]
     },
     "execution_count": 7,
     "metadata": {},
     "output_type": "execute_result"
    }
   ],
   "source": [
    "search_df.head()"
   ]
  },
  {
   "cell_type": "code",
   "execution_count": 8,
   "id": "50894ea3",
   "metadata": {},
   "outputs": [
    {
     "data": {
      "text/plain": [
       "(819516, 5)"
      ]
     },
     "execution_count": 8,
     "metadata": {},
     "output_type": "execute_result"
    }
   ],
   "source": [
    "search_df.shape"
   ]
  },
  {
   "cell_type": "code",
   "execution_count": 9,
   "id": "a0c10565",
   "metadata": {},
   "outputs": [
    {
     "data": {
      "text/plain": [
       "Index(['session_id_hash', 'query_vector', 'clicked_skus_hash',\n",
       "       'product_skus_hash', 'server_timestamp_epoch_ms'],\n",
       "      dtype='object')"
      ]
     },
     "execution_count": 9,
     "metadata": {},
     "output_type": "execute_result"
    }
   ],
   "source": [
    "search_df.columns"
   ]
  },
  {
   "cell_type": "code",
   "execution_count": 10,
   "id": "4bd6fee4",
   "metadata": {},
   "outputs": [],
   "source": [
    "pd.set_option('display.float_format', lambda x: '%.2f' % x)"
   ]
  },
  {
   "cell_type": "code",
   "execution_count": 11,
   "id": "d8ce3669",
   "metadata": {},
   "outputs": [],
   "source": [
    "# search_df = search_df[~search_df['clicked_skus_hash'].isna()][['session_id_hash', 'server_timestamp_epoch_ms']]"
   ]
  },
  {
   "cell_type": "code",
   "execution_count": 12,
   "id": "582549ed",
   "metadata": {},
   "outputs": [],
   "source": [
    "df = pd.concat([browse_df, search_df])"
   ]
  },
  {
   "cell_type": "code",
   "execution_count": 13,
   "id": "18eb5cd5",
   "metadata": {},
   "outputs": [],
   "source": [
    "df.set_index(['session_id_hash','server_timestamp_epoch_ms'], inplace=True)"
   ]
  },
  {
   "cell_type": "code",
   "execution_count": 14,
   "id": "9ce94f4c",
   "metadata": {},
   "outputs": [],
   "source": [
    "df.sort_index(level=(0,1), inplace=True)"
   ]
  },
  {
   "cell_type": "code",
   "execution_count": 15,
   "id": "da49e6e6",
   "metadata": {},
   "outputs": [],
   "source": [
    "df.loc[~df['query_vector'].isna(),'event_type'] = 'search'\n",
    "df.loc[~df['query_vector'].isna(),'product_action'] = 'search'"
   ]
  },
  {
   "cell_type": "code",
   "execution_count": 16,
   "id": "7b3f9459",
   "metadata": {},
   "outputs": [
    {
     "data": {
      "text/html": [
       "<div>\n",
       "<style scoped>\n",
       "    .dataframe tbody tr th:only-of-type {\n",
       "        vertical-align: middle;\n",
       "    }\n",
       "\n",
       "    .dataframe tbody tr th {\n",
       "        vertical-align: top;\n",
       "    }\n",
       "\n",
       "    .dataframe thead th {\n",
       "        text-align: right;\n",
       "    }\n",
       "</style>\n",
       "<table border=\"1\" class=\"dataframe\">\n",
       "  <thead>\n",
       "    <tr style=\"text-align: right;\">\n",
       "      <th></th>\n",
       "      <th></th>\n",
       "      <th>event_type</th>\n",
       "      <th>product_action</th>\n",
       "    </tr>\n",
       "    <tr>\n",
       "      <th>session_id_hash</th>\n",
       "      <th>server_timestamp_epoch_ms</th>\n",
       "      <th></th>\n",
       "      <th></th>\n",
       "    </tr>\n",
       "  </thead>\n",
       "  <tbody>\n",
       "    <tr>\n",
       "      <th rowspan=\"3\" valign=\"top\">00000114e1075962f022114fcfc17f2d874e694ac5d2010985bbba0a595340db</th>\n",
       "      <th>1552423391039</th>\n",
       "      <td>pageview</td>\n",
       "      <td>NaN</td>\n",
       "    </tr>\n",
       "    <tr>\n",
       "      <th>1552423391039</th>\n",
       "      <td>event_product</td>\n",
       "      <td>detail</td>\n",
       "    </tr>\n",
       "    <tr>\n",
       "      <th>1552424389158</th>\n",
       "      <td>event_product</td>\n",
       "      <td>add</td>\n",
       "    </tr>\n",
       "    <tr>\n",
       "      <th>00000277639fc5c6f816654b78bf3654ece7fd53a7338ffee6c34160f3c446c5</th>\n",
       "      <th>1551911424766</th>\n",
       "      <td>search</td>\n",
       "      <td>search</td>\n",
       "    </tr>\n",
       "    <tr>\n",
       "      <th>000010504025397b03290c7457e0e7ef7ae93529f21eae384b277d851ba71ca1</th>\n",
       "      <th>1550148902604</th>\n",
       "      <td>event_product</td>\n",
       "      <td>remove</td>\n",
       "    </tr>\n",
       "    <tr>\n",
       "      <th>0000a73bb38c1404dfbe7b7a61ab8417179bddb0a8d2e03fd75d0e6936e3c74a</th>\n",
       "      <th>1552406377448</th>\n",
       "      <td>event_product</td>\n",
       "      <td>purchase</td>\n",
       "    </tr>\n",
       "  </tbody>\n",
       "</table>\n",
       "</div>"
      ],
      "text/plain": [
       "                                                                                 event_type  \\\n",
       "session_id_hash                                    server_timestamp_epoch_ms                  \n",
       "00000114e1075962f022114fcfc17f2d874e694ac5d2010... 1552423391039                   pageview   \n",
       "                                                   1552423391039              event_product   \n",
       "                                                   1552424389158              event_product   \n",
       "00000277639fc5c6f816654b78bf3654ece7fd53a7338ff... 1551911424766                     search   \n",
       "000010504025397b03290c7457e0e7ef7ae93529f21eae3... 1550148902604              event_product   \n",
       "0000a73bb38c1404dfbe7b7a61ab8417179bddb0a8d2e03... 1552406377448              event_product   \n",
       "\n",
       "                                                                             product_action  \n",
       "session_id_hash                                    server_timestamp_epoch_ms                 \n",
       "00000114e1075962f022114fcfc17f2d874e694ac5d2010... 1552423391039                        NaN  \n",
       "                                                   1552423391039                     detail  \n",
       "                                                   1552424389158                        add  \n",
       "00000277639fc5c6f816654b78bf3654ece7fd53a7338ff... 1551911424766                     search  \n",
       "000010504025397b03290c7457e0e7ef7ae93529f21eae3... 1550148902604                     remove  \n",
       "0000a73bb38c1404dfbe7b7a61ab8417179bddb0a8d2e03... 1552406377448                   purchase  "
      ]
     },
     "execution_count": 16,
     "metadata": {},
     "output_type": "execute_result"
    }
   ],
   "source": [
    "df[['event_type', 'product_action']].drop_duplicates()"
   ]
  },
  {
   "cell_type": "code",
   "execution_count": 17,
   "id": "2f41f5a1",
   "metadata": {},
   "outputs": [],
   "source": [
    "df.loc[df['product_action'].isna(), 'product_action'] = 'view'"
   ]
  },
  {
   "cell_type": "code",
   "execution_count": 18,
   "id": "5b896de1",
   "metadata": {},
   "outputs": [
    {
     "data": {
      "text/html": [
       "<div>\n",
       "<style scoped>\n",
       "    .dataframe tbody tr th:only-of-type {\n",
       "        vertical-align: middle;\n",
       "    }\n",
       "\n",
       "    .dataframe tbody tr th {\n",
       "        vertical-align: top;\n",
       "    }\n",
       "\n",
       "    .dataframe thead th {\n",
       "        text-align: right;\n",
       "    }\n",
       "</style>\n",
       "<table border=\"1\" class=\"dataframe\">\n",
       "  <thead>\n",
       "    <tr style=\"text-align: right;\">\n",
       "      <th></th>\n",
       "      <th></th>\n",
       "      <th>event_type</th>\n",
       "      <th>product_action</th>\n",
       "    </tr>\n",
       "    <tr>\n",
       "      <th>session_id_hash</th>\n",
       "      <th>server_timestamp_epoch_ms</th>\n",
       "      <th></th>\n",
       "      <th></th>\n",
       "    </tr>\n",
       "  </thead>\n",
       "  <tbody>\n",
       "    <tr>\n",
       "      <th rowspan=\"3\" valign=\"top\">00000114e1075962f022114fcfc17f2d874e694ac5d2010985bbba0a595340db</th>\n",
       "      <th>1552423391039</th>\n",
       "      <td>pageview</td>\n",
       "      <td>view</td>\n",
       "    </tr>\n",
       "    <tr>\n",
       "      <th>1552423391039</th>\n",
       "      <td>event_product</td>\n",
       "      <td>detail</td>\n",
       "    </tr>\n",
       "    <tr>\n",
       "      <th>1552424389158</th>\n",
       "      <td>event_product</td>\n",
       "      <td>add</td>\n",
       "    </tr>\n",
       "    <tr>\n",
       "      <th>00000277639fc5c6f816654b78bf3654ece7fd53a7338ffee6c34160f3c446c5</th>\n",
       "      <th>1551911424766</th>\n",
       "      <td>search</td>\n",
       "      <td>search</td>\n",
       "    </tr>\n",
       "    <tr>\n",
       "      <th>000010504025397b03290c7457e0e7ef7ae93529f21eae384b277d851ba71ca1</th>\n",
       "      <th>1550148902604</th>\n",
       "      <td>event_product</td>\n",
       "      <td>remove</td>\n",
       "    </tr>\n",
       "    <tr>\n",
       "      <th>0000a73bb38c1404dfbe7b7a61ab8417179bddb0a8d2e03fd75d0e6936e3c74a</th>\n",
       "      <th>1552406377448</th>\n",
       "      <td>event_product</td>\n",
       "      <td>purchase</td>\n",
       "    </tr>\n",
       "  </tbody>\n",
       "</table>\n",
       "</div>"
      ],
      "text/plain": [
       "                                                                                 event_type  \\\n",
       "session_id_hash                                    server_timestamp_epoch_ms                  \n",
       "00000114e1075962f022114fcfc17f2d874e694ac5d2010... 1552423391039                   pageview   \n",
       "                                                   1552423391039              event_product   \n",
       "                                                   1552424389158              event_product   \n",
       "00000277639fc5c6f816654b78bf3654ece7fd53a7338ff... 1551911424766                     search   \n",
       "000010504025397b03290c7457e0e7ef7ae93529f21eae3... 1550148902604              event_product   \n",
       "0000a73bb38c1404dfbe7b7a61ab8417179bddb0a8d2e03... 1552406377448              event_product   \n",
       "\n",
       "                                                                             product_action  \n",
       "session_id_hash                                    server_timestamp_epoch_ms                 \n",
       "00000114e1075962f022114fcfc17f2d874e694ac5d2010... 1552423391039                       view  \n",
       "                                                   1552423391039                     detail  \n",
       "                                                   1552424389158                        add  \n",
       "00000277639fc5c6f816654b78bf3654ece7fd53a7338ff... 1551911424766                     search  \n",
       "000010504025397b03290c7457e0e7ef7ae93529f21eae3... 1550148902604                     remove  \n",
       "0000a73bb38c1404dfbe7b7a61ab8417179bddb0a8d2e03... 1552406377448                   purchase  "
      ]
     },
     "execution_count": 18,
     "metadata": {},
     "output_type": "execute_result"
    }
   ],
   "source": [
    "df[['event_type', 'product_action']].drop_duplicates()"
   ]
  },
  {
   "cell_type": "markdown",
   "id": "ec54d9e2",
   "metadata": {},
   "source": [
    "## Initial Data Analysis"
   ]
  },
  {
   "cell_type": "code",
   "execution_count": 19,
   "id": "284befa2",
   "metadata": {},
   "outputs": [
    {
     "name": "stdout",
     "output_type": "stream",
     "text": [
      "Total number of rows: 36898823\n",
      "Total number of sessions: 5010682\n"
     ]
    }
   ],
   "source": [
    "print(f'Total number of rows: {df.shape[0]}')\n",
    "print(f'Total number of sessions: {df.index.get_level_values(0).nunique()}')"
   ]
  },
  {
   "cell_type": "code",
   "execution_count": 20,
   "id": "8413bbcd",
   "metadata": {},
   "outputs": [],
   "source": [
    "conversions = pd.get_dummies(df['product_action'])['purchase'].groupby('session_id_hash').sum()"
   ]
  },
  {
   "cell_type": "code",
   "execution_count": 21,
   "id": "15351d0d",
   "metadata": {},
   "outputs": [],
   "source": [
    "df = df.join(conversions)"
   ]
  },
  {
   "cell_type": "code",
   "execution_count": 22,
   "id": "f0f908a6",
   "metadata": {},
   "outputs": [],
   "source": [
    "df['purchase'] = df['purchase'].where(df['purchase'] < 1, 1)"
   ]
  },
  {
   "cell_type": "code",
   "execution_count": 23,
   "id": "9fb8a361",
   "metadata": {},
   "outputs": [],
   "source": [
    "abandonments = pd.get_dummies(df['product_action'])['add'].groupby('session_id_hash').sum()"
   ]
  },
  {
   "cell_type": "code",
   "execution_count": 24,
   "id": "f13b1bca",
   "metadata": {},
   "outputs": [],
   "source": [
    "abandonments = abandonments.where(abandonments < 1, 1)"
   ]
  },
  {
   "cell_type": "code",
   "execution_count": 25,
   "id": "7706fe2f",
   "metadata": {},
   "outputs": [],
   "source": [
    "df = df.join(abandonments)"
   ]
  },
  {
   "cell_type": "code",
   "execution_count": 26,
   "id": "bf79f957",
   "metadata": {},
   "outputs": [],
   "source": [
    "df.loc[(df['purchase'] == 0) & (df['add'] == 1), 'purchase'] = 2"
   ]
  },
  {
   "cell_type": "code",
   "execution_count": 27,
   "id": "7ab90131",
   "metadata": {},
   "outputs": [
    {
     "data": {
      "text/plain": [
       "0    30521621\n",
       "2     4549357\n",
       "1     1827845\n",
       "Name: purchase, dtype: int64"
      ]
     },
     "execution_count": 27,
     "metadata": {},
     "output_type": "execute_result"
    }
   ],
   "source": [
    "df['purchase'].value_counts()"
   ]
  },
  {
   "cell_type": "code",
   "execution_count": 28,
   "id": "7614128a",
   "metadata": {},
   "outputs": [],
   "source": [
    "status_codes_rev = {\n",
    "    100:'add',\n",
    "    200:'detail',\n",
    "    300:'view',\n",
    "    400:'search',\n",
    "    500:'remove'\n",
    "}\n",
    "\n",
    "status_codes = {v:k for k,v in status_codes_rev.items()}\n",
    "\n",
    "df['status'] = df['product_action'].map(status_codes)"
   ]
  },
  {
   "cell_type": "code",
   "execution_count": 29,
   "id": "ca2adc67",
   "metadata": {},
   "outputs": [],
   "source": [
    "df.to_parquet('joined_df.parquet')"
   ]
  },
  {
   "cell_type": "code",
   "execution_count": 30,
   "id": "b19390f1",
   "metadata": {},
   "outputs": [],
   "source": [
    "# Remove sessions with less than 5 interactions\n",
    "session_clicks = df['product_action'].groupby(df.index.get_level_values(0)).count()\n",
    "valid_session_ids = session_clicks[(session_clicks >= 5) & (session_clicks < 200)].index.values"
   ]
  },
  {
   "cell_type": "code",
   "execution_count": 31,
   "id": "90efc991",
   "metadata": {},
   "outputs": [
    {
     "name": "stdout",
     "output_type": "stream",
     "text": [
      "Sessions before trimming based on session length: 5010682\n",
      "Sessions after trimming based on session length: 1923272\n"
     ]
    }
   ],
   "source": [
    "print(f'Sessions before trimming based on session length: {df.index.get_level_values(0).unique().shape[0]}')\n",
    "df = df[df.index.get_level_values(0).isin(valid_session_ids)]\n",
    "print(f'Sessions after trimming based on session length: {df.index.get_level_values(0).unique().shape[0]}')"
   ]
  },
  {
   "cell_type": "code",
   "execution_count": 32,
   "id": "bc5c77e3",
   "metadata": {},
   "outputs": [
    {
     "name": "stdout",
     "output_type": "stream",
     "text": [
      "Number of converted sessions\n",
      "50029\n",
      "Number of unconverted sessions\n",
      "1718113\n",
      "Number of abandoned sessions\n",
      "155130\n",
      "Percentage of total session converted: 2.60%\n",
      "Percentage of total session abandoned: 8.07%\n"
     ]
    }
   ],
   "source": [
    "total_count = df.index.get_level_values(0).unique().shape[0]\n",
    "converted_count = df[df['purchase'] == 1].index.get_level_values(0).unique().shape[0]\n",
    "unconverted_count = df[df['purchase'] == 0].index.get_level_values(0).unique().shape[0]\n",
    "abandonment_count = df[df['purchase'] == 2].index.get_level_values(0).unique().shape[0]\n",
    "print('Number of converted sessions')\n",
    "print(converted_count)\n",
    "print('Number of unconverted sessions')\n",
    "print(unconverted_count)\n",
    "print('Number of abandoned sessions')\n",
    "print(abandonment_count)\n",
    "print(f'Percentage of total session converted: {(converted_count/total_count*100):.2f}%')\n",
    "print(f'Percentage of total session abandoned: {(abandonment_count/total_count*100):.2f}%')"
   ]
  },
  {
   "cell_type": "markdown",
   "id": "87b12bac",
   "metadata": {},
   "source": [
    "## Probability of conversion depending on the presence of a particular action"
   ]
  },
  {
   "cell_type": "code",
   "execution_count": 33,
   "id": "b3b102d7",
   "metadata": {},
   "outputs": [],
   "source": [
    "status_codes = ['view', 'detail', 'add', 'search', 'remove', 'purchase']\n",
    "\n",
    "# Calculate proportion of converted sessions which contained each status code\n",
    "conversion_status_counts = df[df['purchase'] == 1]['product_action'].groupby('session_id_hash').value_counts()\n",
    "conversion_status_counts.iloc[:] = 1\n",
    "\n",
    "conversion_dict = {code:{} for code in status_codes}\n",
    "for code in status_codes:\n",
    "    conversion_dict[code]['count'] = (conversion_status_counts.index.get_level_values(1) == code).sum()\n",
    "    conversion_dict[code]['prob'] = conversion_dict[code]['count']/converted_count\n",
    "\n",
    "\n",
    "# Calculate the proportion of unconverted sessions which contained each status code\n",
    "unconv_status_counts = df[df['purchase'] == 0]['product_action'].groupby('session_id_hash').value_counts()\n",
    "unconv_status_counts.iloc[:] = 1\n",
    "\n",
    "unconverted_dict = {code:{} for code in status_codes}\n",
    "for code in status_codes:\n",
    "    unconverted_dict[code]['count'] = (unconv_status_counts.index.get_level_values(1) == code).sum()\n",
    "    unconverted_dict[code]['prob'] = unconverted_dict[code]['count']/unconverted_count\n",
    "    \n",
    "\n",
    "    # Calculate proportion of converted sessions which contained each status code\n",
    "abandonment_status_counts = df[df['purchase'] == 2]['product_action'].groupby('session_id_hash').value_counts()\n",
    "abandonment_status_counts.iloc[:] = 1\n",
    "\n",
    "abandonment_dict = {code:{} for code in status_codes}\n",
    "for code in status_codes:\n",
    "    abandonment_dict[code]['count'] = (abandonment_status_counts.index.get_level_values(1) == code).sum()\n",
    "    abandonment_dict[code]['prob'] = abandonment_dict[code]['count']/abandonment_count\n"
   ]
  },
  {
   "cell_type": "code",
   "execution_count": 34,
   "id": "fe11d6ea",
   "metadata": {},
   "outputs": [],
   "source": [
    "# Convert each of the above dictonarys to pandas dataframes and a jopin together\n",
    "conv_df = pd.DataFrame(conversion_dict).T.rename(\n",
    "    columns={'count':'converted_count', 'prob':'converted_prob'}\n",
    ")\n",
    "unconv_df = pd.DataFrame(unconverted_dict).T.rename(\n",
    "    columns={'count':'unconverted_count', 'prob':'unconverted_prob'}\n",
    ")\n",
    "aband_df = pd.DataFrame(abandonment_dict).T.rename(\n",
    "    columns={'count':'abandonment_count', 'prob':'abandonment_prob'}\n",
    ")\n",
    "\n",
    "conv_probs = conv_df.join(unconv_df).join(aband_df)"
   ]
  },
  {
   "cell_type": "code",
   "execution_count": 35,
   "id": "8e460fb1",
   "metadata": {},
   "outputs": [
    {
     "data": {
      "text/html": [
       "<div>\n",
       "<style scoped>\n",
       "    .dataframe tbody tr th:only-of-type {\n",
       "        vertical-align: middle;\n",
       "    }\n",
       "\n",
       "    .dataframe tbody tr th {\n",
       "        vertical-align: top;\n",
       "    }\n",
       "\n",
       "    .dataframe thead th {\n",
       "        text-align: right;\n",
       "    }\n",
       "</style>\n",
       "<table border=\"1\" class=\"dataframe\">\n",
       "  <thead>\n",
       "    <tr style=\"text-align: right;\">\n",
       "      <th></th>\n",
       "      <th>converted_count</th>\n",
       "      <th>converted_prob</th>\n",
       "      <th>unconverted_count</th>\n",
       "      <th>unconverted_prob</th>\n",
       "      <th>abandonment_count</th>\n",
       "      <th>abandonment_prob</th>\n",
       "    </tr>\n",
       "  </thead>\n",
       "  <tbody>\n",
       "    <tr>\n",
       "      <th>view</th>\n",
       "      <td>50029.00</td>\n",
       "      <td>1.00</td>\n",
       "      <td>1718073.00</td>\n",
       "      <td>1.00</td>\n",
       "      <td>154993.00</td>\n",
       "      <td>1.00</td>\n",
       "    </tr>\n",
       "    <tr>\n",
       "      <th>detail</th>\n",
       "      <td>44149.00</td>\n",
       "      <td>0.88</td>\n",
       "      <td>1430466.00</td>\n",
       "      <td>0.83</td>\n",
       "      <td>147836.00</td>\n",
       "      <td>0.95</td>\n",
       "    </tr>\n",
       "    <tr>\n",
       "      <th>add</th>\n",
       "      <td>46064.00</td>\n",
       "      <td>0.92</td>\n",
       "      <td>0.00</td>\n",
       "      <td>0.00</td>\n",
       "      <td>155130.00</td>\n",
       "      <td>1.00</td>\n",
       "    </tr>\n",
       "    <tr>\n",
       "      <th>search</th>\n",
       "      <td>16857.00</td>\n",
       "      <td>0.34</td>\n",
       "      <td>329662.00</td>\n",
       "      <td>0.19</td>\n",
       "      <td>41093.00</td>\n",
       "      <td>0.26</td>\n",
       "    </tr>\n",
       "    <tr>\n",
       "      <th>remove</th>\n",
       "      <td>14677.00</td>\n",
       "      <td>0.29</td>\n",
       "      <td>4473.00</td>\n",
       "      <td>0.00</td>\n",
       "      <td>37441.00</td>\n",
       "      <td>0.24</td>\n",
       "    </tr>\n",
       "    <tr>\n",
       "      <th>purchase</th>\n",
       "      <td>50029.00</td>\n",
       "      <td>1.00</td>\n",
       "      <td>0.00</td>\n",
       "      <td>0.00</td>\n",
       "      <td>0.00</td>\n",
       "      <td>0.00</td>\n",
       "    </tr>\n",
       "  </tbody>\n",
       "</table>\n",
       "</div>"
      ],
      "text/plain": [
       "          converted_count  converted_prob  unconverted_count  \\\n",
       "view             50029.00            1.00         1718073.00   \n",
       "detail           44149.00            0.88         1430466.00   \n",
       "add              46064.00            0.92               0.00   \n",
       "search           16857.00            0.34          329662.00   \n",
       "remove           14677.00            0.29            4473.00   \n",
       "purchase         50029.00            1.00               0.00   \n",
       "\n",
       "          unconverted_prob  abandonment_count  abandonment_prob  \n",
       "view                  1.00          154993.00              1.00  \n",
       "detail                0.83          147836.00              0.95  \n",
       "add                   0.00          155130.00              1.00  \n",
       "search                0.19           41093.00              0.26  \n",
       "remove                0.00           37441.00              0.24  \n",
       "purchase              0.00               0.00              0.00  "
      ]
     },
     "execution_count": 35,
     "metadata": {},
     "output_type": "execute_result"
    }
   ],
   "source": [
    "conv_probs"
   ]
  },
  {
   "cell_type": "code",
   "execution_count": 36,
   "id": "639b9c05",
   "metadata": {},
   "outputs": [],
   "source": [
    "conv_probs['n_conversion'] = converted_count\n",
    "conv_probs['n_non_conversion'] = unconverted_count\n",
    "conv_probs['n_total'] = df.index.get_level_values(0).unique().shape[0]"
   ]
  },
  {
   "cell_type": "code",
   "execution_count": 37,
   "id": "2d8a6ba7",
   "metadata": {},
   "outputs": [
    {
     "data": {
      "text/html": [
       "<div>\n",
       "<style scoped>\n",
       "    .dataframe tbody tr th:only-of-type {\n",
       "        vertical-align: middle;\n",
       "    }\n",
       "\n",
       "    .dataframe tbody tr th {\n",
       "        vertical-align: top;\n",
       "    }\n",
       "\n",
       "    .dataframe thead th {\n",
       "        text-align: right;\n",
       "    }\n",
       "</style>\n",
       "<table border=\"1\" class=\"dataframe\">\n",
       "  <thead>\n",
       "    <tr style=\"text-align: right;\">\n",
       "      <th></th>\n",
       "      <th>converted_count</th>\n",
       "      <th>converted_prob</th>\n",
       "      <th>unconverted_count</th>\n",
       "      <th>unconverted_prob</th>\n",
       "      <th>abandonment_count</th>\n",
       "      <th>abandonment_prob</th>\n",
       "      <th>n_conversion</th>\n",
       "      <th>n_non_conversion</th>\n",
       "      <th>n_total</th>\n",
       "    </tr>\n",
       "  </thead>\n",
       "  <tbody>\n",
       "    <tr>\n",
       "      <th>view</th>\n",
       "      <td>50029.00</td>\n",
       "      <td>1.00</td>\n",
       "      <td>1718073.00</td>\n",
       "      <td>1.00</td>\n",
       "      <td>154993.00</td>\n",
       "      <td>1.00</td>\n",
       "      <td>50029</td>\n",
       "      <td>1718113</td>\n",
       "      <td>1923272</td>\n",
       "    </tr>\n",
       "    <tr>\n",
       "      <th>detail</th>\n",
       "      <td>44149.00</td>\n",
       "      <td>0.88</td>\n",
       "      <td>1430466.00</td>\n",
       "      <td>0.83</td>\n",
       "      <td>147836.00</td>\n",
       "      <td>0.95</td>\n",
       "      <td>50029</td>\n",
       "      <td>1718113</td>\n",
       "      <td>1923272</td>\n",
       "    </tr>\n",
       "    <tr>\n",
       "      <th>add</th>\n",
       "      <td>46064.00</td>\n",
       "      <td>0.92</td>\n",
       "      <td>0.00</td>\n",
       "      <td>0.00</td>\n",
       "      <td>155130.00</td>\n",
       "      <td>1.00</td>\n",
       "      <td>50029</td>\n",
       "      <td>1718113</td>\n",
       "      <td>1923272</td>\n",
       "    </tr>\n",
       "    <tr>\n",
       "      <th>search</th>\n",
       "      <td>16857.00</td>\n",
       "      <td>0.34</td>\n",
       "      <td>329662.00</td>\n",
       "      <td>0.19</td>\n",
       "      <td>41093.00</td>\n",
       "      <td>0.26</td>\n",
       "      <td>50029</td>\n",
       "      <td>1718113</td>\n",
       "      <td>1923272</td>\n",
       "    </tr>\n",
       "    <tr>\n",
       "      <th>remove</th>\n",
       "      <td>14677.00</td>\n",
       "      <td>0.29</td>\n",
       "      <td>4473.00</td>\n",
       "      <td>0.00</td>\n",
       "      <td>37441.00</td>\n",
       "      <td>0.24</td>\n",
       "      <td>50029</td>\n",
       "      <td>1718113</td>\n",
       "      <td>1923272</td>\n",
       "    </tr>\n",
       "    <tr>\n",
       "      <th>purchase</th>\n",
       "      <td>50029.00</td>\n",
       "      <td>1.00</td>\n",
       "      <td>0.00</td>\n",
       "      <td>0.00</td>\n",
       "      <td>0.00</td>\n",
       "      <td>0.00</td>\n",
       "      <td>50029</td>\n",
       "      <td>1718113</td>\n",
       "      <td>1923272</td>\n",
       "    </tr>\n",
       "  </tbody>\n",
       "</table>\n",
       "</div>"
      ],
      "text/plain": [
       "          converted_count  converted_prob  unconverted_count  \\\n",
       "view             50029.00            1.00         1718073.00   \n",
       "detail           44149.00            0.88         1430466.00   \n",
       "add              46064.00            0.92               0.00   \n",
       "search           16857.00            0.34          329662.00   \n",
       "remove           14677.00            0.29            4473.00   \n",
       "purchase         50029.00            1.00               0.00   \n",
       "\n",
       "          unconverted_prob  abandonment_count  abandonment_prob  n_conversion  \\\n",
       "view                  1.00          154993.00              1.00         50029   \n",
       "detail                0.83          147836.00              0.95         50029   \n",
       "add                   0.00          155130.00              1.00         50029   \n",
       "search                0.19           41093.00              0.26         50029   \n",
       "remove                0.00           37441.00              0.24         50029   \n",
       "purchase              0.00               0.00              0.00         50029   \n",
       "\n",
       "          n_non_conversion  n_total  \n",
       "view               1718113  1923272  \n",
       "detail             1718113  1923272  \n",
       "add                1718113  1923272  \n",
       "search             1718113  1923272  \n",
       "remove             1718113  1923272  \n",
       "purchase           1718113  1923272  "
      ]
     },
     "execution_count": 37,
     "metadata": {},
     "output_type": "execute_result"
    }
   ],
   "source": [
    "conv_probs"
   ]
  },
  {
   "cell_type": "code",
   "execution_count": 38,
   "id": "160d1a4b",
   "metadata": {},
   "outputs": [],
   "source": [
    "conv_probs['converted_std_err'] = np.sqrt(\n",
    "    conv_probs['converted_prob']*(1-conv_probs['converted_prob'])/conv_probs['n_total']\n",
    ")\n",
    "\n",
    "conv_probs['unconverted_std_err'] = np.sqrt(\n",
    "    conv_probs['unconverted_prob']*(1-conv_probs['unconverted_prob'])/conv_probs['n_total']\n",
    ")\n",
    "\n",
    "conv_probs['abandonment_std_err'] = np.sqrt(\n",
    "    conv_probs['abandonment_prob']*(1-conv_probs['abandonment_prob'])/conv_probs['n_total']\n",
    ")\n",
    "\n",
    "conv_probs['converted_std_dev'] = np.sqrt(\n",
    "    conv_probs['converted_prob']*(1-conv_probs['converted_prob'])\n",
    ")\n",
    "\n",
    "conv_probs['unconverted_std_dev'] = np.sqrt(\n",
    "    conv_probs['unconverted_prob']*(1-conv_probs['unconverted_prob'])\n",
    ")\n",
    "\n",
    "conv_probs['abandonment_std_dev'] = np.sqrt(\n",
    "    conv_probs['abandonment_prob']*(1-conv_probs['abandonment_prob'])\n",
    ")"
   ]
  },
  {
   "cell_type": "code",
   "execution_count": 39,
   "id": "1ab56a7f",
   "metadata": {},
   "outputs": [],
   "source": [
    "import matplotlib.pyplot as plt"
   ]
  },
  {
   "cell_type": "code",
   "execution_count": 40,
   "id": "7a5d4c9c",
   "metadata": {},
   "outputs": [
    {
     "data": {
      "text/plain": [
       "Text(0.5, 1.0, 'Distribution of Click Symbols')"
      ]
     },
     "execution_count": 40,
     "metadata": {},
     "output_type": "execute_result"
    },
    {
     "data": {
      "image/png": "[encoded data removed]",
      "text/plain": [
       "<Figure size 864x576 with 1 Axes>"
      ]
     },
     "metadata": {
      "needs_background": "light"
     },
     "output_type": "display_data"
    }
   ],
   "source": [
    "plt.style.use('fivethirtyeight')\n",
    "fig, ax = plt.subplots(figsize=(12,8))\n",
    "\n",
    "ax.set_ylim(-0.1,1.1)\n",
    "conv_plot = ax.errorbar(conv_probs.index, conv_probs['converted_prob'], yerr=conv_probs['converted_std_dev']*0.1, marker='o', linestyle='')\n",
    "unconv_plot = ax.errorbar([x+0.1 for x in range(6)], conv_probs['unconverted_prob'], yerr=conv_probs['unconverted_std_dev']*0.1, marker='o', linestyle='')\n",
    "aban_plot = ax.errorbar([x-0.1 for x in range(6)], conv_probs['abandonment_prob'], yerr=conv_probs['abandonment_std_dev']*0.1, marker='o', linestyle='')\n",
    "ax.legend(handles=[conv_plot, unconv_plot, aban_plot], labels=['Converted','Unconverted','Abandonment'])\n",
    "ax.set_xlabel('Symbol')\n",
    "ax.set_ylabel('Probability')\n",
    "ax.set_title('Distribution of Click Symbols')"
   ]
  },
  {
   "cell_type": "markdown",
   "id": "619a4807",
   "metadata": {},
   "source": [
    "## Normalized Frequencies of each status code for converted and unconverted sessions"
   ]
  },
  {
   "cell_type": "code",
   "execution_count": 42,
   "id": "e4a22410",
   "metadata": {},
   "outputs": [
    {
     "data": {
      "text/plain": [
       "<matplotlib.legend.Legend at 0x7fcd6b90b950>"
      ]
     },
     "execution_count": 42,
     "metadata": {},
     "output_type": "execute_result"
    },
    {
     "data": {
      "image/png": "[encoded data removed]",
      "text/plain": [
       "<Figure size 864x576 with 1 Axes>"
      ]
     },
     "metadata": {
      "needs_background": "light"
     },
     "output_type": "display_data"
    }
   ],
   "source": [
    "a = df[df['purchase'] == 0]['product_action'].value_counts()/df[df['purchase'] == 0]['product_action'].shape[0]\n",
    "b = df[df['purchase'] == 1]['product_action'].value_counts()/df[df['purchase'] == 1]['product_action'].shape[0]\n",
    "c = df[df['purchase'] == 2]['product_action'].value_counts()/df[df['purchase'] == 2]['product_action'].shape[0]\n",
    "\n",
    "\n",
    "fig, ax = plt.subplots(figsize=(12,8))\n",
    "ax.scatter(a.index, a.values, label='Unconverted')\n",
    "ax.scatter(b.index, b.values, label='Converted')\n",
    "ax.scatter(c.index, c.values, label='Abandoned')\n",
    "ax.set_title('Conditional Probabilities of Symbols by Outcomes')\n",
    "ax.set_ylabel('Probability')\n",
    "ax.set_xlabel('Symbol')\n",
    "ax.legend()"
   ]
  },
  {
   "cell_type": "code",
   "execution_count": 43,
   "id": "9d6e6b6e",
   "metadata": {},
   "outputs": [],
   "source": [
    "# Counts for converted sessions\n",
    "count_code_per_session = df[df['purchase'] == 1].groupby(['session_id_hash','product_action']).count()\n",
    "total_code_per_session = count_code_per_session.groupby('session_id_hash')['purchase'].sum()\n",
    "\n",
    "count_code_per_session = count_code_per_session.join(total_code_per_session, rsuffix='_total')\n",
    "count_code_per_session['rel_freq'] = count_code_per_session['purchase']/count_code_per_session['purchase_total']\n",
    "\n",
    "# Counts for unconverted sessions\n",
    "count_code_per_session_un = df[df['purchase'] == 0].groupby(['session_id_hash','product_action']).count()\n",
    "total_code_per_session_un = count_code_per_session_un.groupby('session_id_hash')['purchase'].sum()\n",
    "\n",
    "count_code_per_session_un = count_code_per_session_un.join(total_code_per_session_un, rsuffix='_total')\n",
    "count_code_per_session_un['rel_freq'] = count_code_per_session_un['purchase']/count_code_per_session_un['purchase_total']\n",
    "\n",
    "# Counts for abandoned sessions\n",
    "count_code_per_session_ab = df[df['purchase'] == 2].groupby(['session_id_hash','product_action']).count()\n",
    "total_code_per_session_ab = count_code_per_session_ab.groupby('session_id_hash')['purchase'].sum()\n",
    "\n",
    "count_code_per_session_ab = count_code_per_session_ab.join(total_code_per_session_ab, rsuffix='_total')\n",
    "count_code_per_session_ab['rel_freq'] = count_code_per_session_ab['purchase']/count_code_per_session_ab['purchase_total']"
   ]
  },
  {
   "cell_type": "code",
   "execution_count": 47,
   "id": "b5a07f99",
   "metadata": {},
   "outputs": [
    {
     "data": {
      "image/png": "[encoded data removed]",
      "text/plain": [
       "<Figure size 1296x432 with 6 Axes>"
      ]
     },
     "metadata": {
      "needs_background": "light"
     },
     "output_type": "display_data"
    }
   ],
   "source": [
    "import seaborn as sns\n",
    "import matplotlib.pyplot as plt\n",
    "fig, axes = plt.subplots(figsize=(18,6), nrows=2, ncols=3, sharex=True, sharey=True)\n",
    "i = 0\n",
    "\n",
    "for code, ax in zip(['add','detail','view', 'search', 'remove', 'purchase'], axes.flatten()):\n",
    "    sns.kdeplot(\n",
    "        count_code_per_session.loc[count_code_per_session.index.get_level_values(1) == code]['rel_freq'], \n",
    "        ax=ax, color='blue', label='Converted Sessions'\n",
    "    )\n",
    "    sns.kdeplot(\n",
    "        count_code_per_session_un.loc[count_code_per_session_un.index.get_level_values(1) == code]['rel_freq'], \n",
    "        ax=ax, color='orange', label='Unconverted Sessions'\n",
    "    )\n",
    "    sns.kdeplot(\n",
    "        count_code_per_session_ab.loc[count_code_per_session_ab.index.get_level_values(1) == code]['rel_freq'], \n",
    "        ax=ax, color='red', label='Abandoned Sessions'\n",
    "    )\n",
    "    if i == 1:\n",
    "        ax.legend()\n",
    "    ax.set_title(f'Status Code = {code}')\n",
    "    i+=1\n",
    "    \n",
    "fig.supxlabel('Probability')\n",
    "fig.supylabel('Density')\n",
    "fig.suptitle('Normlaized Distribution of Status Codes Across All Sessions')\n",
    "fig.tight_layout()"
   ]
  },
  {
   "cell_type": "code",
   "execution_count": 48,
   "id": "ec3c3109",
   "metadata": {},
   "outputs": [
    {
     "data": {
      "text/plain": [
       "session_id_hash                                                   product_action\n",
       "0000162d1dad0beb867c191ab2c8c7c06086cc57d9ebe2eca2798bd76595bb84  detail           0.29\n",
       "000024f4f0071f59b3fde8d0bdf2517a3767f29ef25a90d9fc17b6b2d98ef167  detail           0.20\n",
       "0000325be18cb5dc6408c2f38bf8af3f500eba3f92aeb1974b755dac1563129c  detail           0.18\n",
       "000046143a02246cee440b8682e410eb5c4568a364f3337495299f83b3d74518  detail           0.40\n",
       "0000481159d514ba59c3ccfa77c5767c9d14ac14e99232ce13ce19b56e58179a  detail           0.37\n",
       "                                                                                   ... \n",
       "ffffead395caef718cd83456cb9fbb01ce4d6d8e76653c237eea36e38501241a  detail           0.33\n",
       "ffffeb79678f64df5e917423a936e67d6c79bd83a85c826f725af0ede0f3a0b7  detail           0.27\n",
       "ffffec0d60277e1ff859623244115db6f3fcfbeaf56304550e0405fdca35e032  detail           0.50\n",
       "fffff2183ad2daa1db3bc4cd320e7248b2f5a6ef9709c412fdde8a9365be63be  detail           0.14\n",
       "fffffc128ba14ec4d4b2a230b4352453843b3bb59becf5d9b16773839092cbb1  detail           0.29\n",
       "Name: rel_freq, Length: 1430466, dtype: float64"
      ]
     },
     "execution_count": 48,
     "metadata": {},
     "output_type": "execute_result"
    }
   ],
   "source": [
    "count_code_per_session_un.loc[count_code_per_session_un.index.get_level_values(1) == 'detail']['rel_freq']"
   ]
  },
  {
   "cell_type": "markdown",
   "id": "6aa4f706",
   "metadata": {},
   "source": [
    "## Creating rules for horizontal visibility graph motifs\n",
    "\n",
    "In the paper, there were 4 status codes being used in clickstream analysis. View, Add, Remove and Change of Details. The logic for the rules:\n",
    "![](hvg_motifs.png)  \n",
    "\n",
    "We can create a function to return True or False if a motif meets the given set of rules. These can be part of a larger function that returns a label for a motif.\n",
    "\n",
    "We first need to map our `product_actions` to numeric values to be able to create HVGs"
   ]
  },
  {
   "cell_type": "code",
   "execution_count": 49,
   "id": "bfa78f57",
   "metadata": {},
   "outputs": [],
   "source": [
    "status_codes_rev = {\n",
    "    100:'add',\n",
    "    200:'detail',\n",
    "    300:'view',\n",
    "    400:'search',\n",
    "    500:'remove'\n",
    "}\n",
    "\n",
    "status_codes = {v:k for k,v in status_codes_rev.items()}\n",
    "\n",
    "df['status'] = df['product_action'].map(status_codes)"
   ]
  },
  {
   "cell_type": "code",
   "execution_count": 50,
   "id": "b8d997ca",
   "metadata": {},
   "outputs": [],
   "source": [
    "def is_z1(m):\n",
    "    x = (m[1] >= m[0]) & (m[2] < m[1]) & (m[3] <= m[2])\n",
    "    y = (m[1] >= m[0]) & (m[2] >= m[1])\n",
    "    z = (m[1] < m[0]) & (m[2] <= m[1]) & (m[3] <= m[2])\n",
    "    if x or y or z:\n",
    "        return True\n",
    "    else:\n",
    "        return False"
   ]
  },
  {
   "cell_type": "code",
   "execution_count": 51,
   "id": "ef974e81",
   "metadata": {},
   "outputs": [],
   "source": [
    "def is_z2(m):\n",
    "    if (m[1] < m[0]) & (m[2] == m[1]) & (m[3] > m[2]):\n",
    "        return True\n",
    "    else:\n",
    "        return False"
   ]
  },
  {
   "cell_type": "code",
   "execution_count": 52,
   "id": "1fd6f68d",
   "metadata": {},
   "outputs": [],
   "source": [
    "def is_z3(m):\n",
    "    x = (m[1] < m[2] < m[0]) & (m[3] <= m[2])\n",
    "    y = (m[1] < m[0]) & (m[2] >= m[0])\n",
    "    if x or y:\n",
    "        return True\n",
    "    else:\n",
    "        return False"
   ]
  },
  {
   "cell_type": "code",
   "execution_count": 53,
   "id": "edf2a791",
   "metadata": {},
   "outputs": [],
   "source": [
    "def is_z4(m):\n",
    "    x = (m[1] >= m[0]) & (m[2] < m[1]) & (m[3] > m[2])\n",
    "    y = (m[1] < m[0]) & (m[2] < m[1]) & (m[2] < m[3] <= m[1])\n",
    "    \n",
    "    if x or y:\n",
    "        return True\n",
    "    else:\n",
    "        return False"
   ]
  },
  {
   "cell_type": "code",
   "execution_count": 54,
   "id": "a2a2eda8",
   "metadata": {},
   "outputs": [],
   "source": [
    "def is_z5(m):\n",
    "    if (m[1] < m[0]) & (m[1] < m[2] < m[0]) & (m[3] > m[2]):\n",
    "        return True\n",
    "    else:\n",
    "        return False"
   ]
  },
  {
   "cell_type": "code",
   "execution_count": 55,
   "id": "04cfa2d9",
   "metadata": {},
   "outputs": [],
   "source": [
    "def is_z6(m):\n",
    "    if (m[1] < m[0]) & (m[2] < m[1]) & (m[3] > m[1]):\n",
    "        return True\n",
    "    else:\n",
    "        return False"
   ]
  },
  {
   "cell_type": "code",
   "execution_count": 56,
   "id": "2d2e8f32",
   "metadata": {},
   "outputs": [],
   "source": [
    "def extract_motif(trajectory):\n",
    "    if is_z1(trajectory):\n",
    "        return 0\n",
    "    if is_z2(trajectory):\n",
    "        return 1\n",
    "    if is_z3(trajectory):\n",
    "        return 2\n",
    "    if is_z4(trajectory):\n",
    "        return 3\n",
    "    if is_z5(trajectory):\n",
    "        return 4\n",
    "    if is_z6(trajectory):\n",
    "        return 5\n",
    "#     else:\n",
    "#         return np.nan"
   ]
  },
  {
   "cell_type": "markdown",
   "id": "9fc35882",
   "metadata": {},
   "source": [
    "## Trajectory Length - Is session trajectory length associated with conversions?"
   ]
  },
  {
   "cell_type": "code",
   "execution_count": 57,
   "id": "ea84b3a9",
   "metadata": {},
   "outputs": [
    {
     "data": {
      "text/plain": [
       "Text(0.5, 0.98, 'Trajectory Length Distribution')"
      ]
     },
     "execution_count": 57,
     "metadata": {},
     "output_type": "execute_result"
    },
    {
     "data": {
      "image/png": "[encoded data removed]",
      "text/plain": [
       "<Figure size 864x288 with 1 Axes>"
      ]
     },
     "metadata": {
      "needs_background": "light"
     },
     "output_type": "display_data"
    }
   ],
   "source": [
    "unconv_trajectories = df[df['purchase'] == 0].groupby(['session_id_hash']).count()['product_action'].value_counts()\n",
    "conv_trajectories = df[df['purchase'] == 1].groupby(['session_id_hash']).count()['product_action'].value_counts()\n",
    "aban_trajectories = df[df['purchase'] == 2].groupby(['session_id_hash']).count()['product_action'].value_counts()\n",
    "\n",
    "fig, ax = plt.subplots(figsize=(12,4))\n",
    "\n",
    "ax.bar(unconv_trajectories.index, unconv_trajectories/unconv_trajectories.sum(), alpha=0.5, label='Unconv')\n",
    "ax.bar(conv_trajectories.index, conv_trajectories/conv_trajectories.sum(), alpha=0.5, label='Conv')\n",
    "ax.bar(aban_trajectories.index, aban_trajectories/aban_trajectories.sum(), alpha=0.5, label='Abandonment')\n",
    "ax.set_yscale('log')\n",
    "ax.legend()\n",
    "ax.set_xlabel('Trajctory Length')\n",
    "ax.set_ylabel('Number of Sessions')\n",
    "fig.suptitle('Trajectory Length Distribution')"
   ]
  },
  {
   "cell_type": "markdown",
   "id": "7f0e883e",
   "metadata": {},
   "source": [
    "Very similar distrubutions. The main difference is a slightly smallwer probability of shorter sessions for converted sessions compared to unconvereted"
   ]
  },
  {
   "cell_type": "markdown",
   "id": "932494be",
   "metadata": {},
   "source": [
    "### Calculating relative frequency of 1-gram, 2-gram, HVGm and entropy for each session"
   ]
  },
  {
   "cell_type": "code",
   "execution_count": 26,
   "id": "eab0abf3",
   "metadata": {},
   "outputs": [],
   "source": [
    "def extract_features(traj, add_label=False, label=0, trim=False, trim_length=None):\n",
    "    \n",
    "    if trim:\n",
    "        traj = traj[:trim_length]\n",
    "\n",
    "    one_grams_idx = {\n",
    "        100:0,\n",
    "        200:1,\n",
    "        300:2,\n",
    "        400:3,\n",
    "        500:4\n",
    "    }\n",
    "    \n",
    "    length = len(traj)\n",
    "    one_grams = np.zeros(5)\n",
    "    # Extract 1 grams\n",
    "    for x in traj:\n",
    "        if x in [100,200,300,400,500]:\n",
    "            one_grams[one_grams_idx[x]] += 1\n",
    "    # Normalize to probilities\n",
    "    one_grams /= length\n",
    "    \n",
    "    # Create empty matrix for 2-grams\n",
    "    two_grams = np.zeros([5,5])\n",
    "    # Extract 2 grams and normalize with length - 1 or sum of all values\n",
    "    for x, y in zip(traj[:-1], traj[1:]):\n",
    "        if x in [100,200,300,400,500] and y in [100,200,300,400,500]:\n",
    "            two_grams[one_grams_idx[x], one_grams_idx[y]] += 1\n",
    "    \n",
    "    two_grams /= two_grams.sum()\n",
    "    \n",
    "    # Extract HVG motif counts and normalize\n",
    "    hvg = np.zeros(6)\n",
    "    for i in range(length):\n",
    "        if i <= (length - 4):\n",
    "            motif = extract_motif(traj[i:i+4])\n",
    "            hvg[motif] += 1\n",
    "        else:\n",
    "            break\n",
    "    \n",
    "    hvg /= hvg.sum()\n",
    "    \n",
    "    entropy = -np.sum(hvg * np.where(hvg == 0, 0, np.log(hvg)))\n",
    "    \n",
    "    if not add_label:\n",
    "        return np.r_[one_grams, two_grams.ravel(), hvg, entropy]\n",
    "    else:\n",
    "        return np.r_[one_grams, two_grams.ravel(), hvg, entropy, label]\n",
    "    \n",
    "    \n",
    "    "
   ]
  },
  {
   "cell_type": "code",
   "execution_count": 54,
   "id": "a4f34b34",
   "metadata": {},
   "outputs": [
    {
     "data": {
      "text/plain": [
       "3"
      ]
     },
     "execution_count": 54,
     "metadata": {},
     "output_type": "execute_result"
    }
   ],
   "source": [
    "extract_motif([100, 200, 100, 300])"
   ]
  },
  {
   "cell_type": "code",
   "execution_count": 55,
   "id": "a048832d",
   "metadata": {},
   "outputs": [
    {
     "name": "stderr",
     "output_type": "stream",
     "text": [
      "/home/grantbeasley/.local/lib/python3.7/site-packages/ipykernel_launcher.py:39: RuntimeWarning: divide by zero encountered in log\n"
     ]
    },
    {
     "data": {
      "text/plain": [
       "array([0.1       , 0.4       , 0.1       , 0.2       , 0.1       ,\n",
       "       0.        , 0.14285714, 0.        , 0.        , 0.        ,\n",
       "       0.        , 0.14285714, 0.        , 0.14285714, 0.14285714,\n",
       "       0.        , 0.        , 0.        , 0.14285714, 0.        ,\n",
       "       0.        , 0.14285714, 0.        , 0.        , 0.        ,\n",
       "       0.        , 0.14285714, 0.        , 0.        , 0.        ,\n",
       "       0.42857143, 0.14285714, 0.14285714, 0.28571429, 0.        ,\n",
       "       0.        , 1.27703426])"
      ]
     },
     "execution_count": 55,
     "metadata": {},
     "output_type": "execute_result"
    }
   ],
   "source": [
    "test = [100, 200, 600, 300, 400, 200, 200, 500, 200, 400]\n",
    "\n",
    "features = extract_features(test)\n",
    "features"
   ]
  },
  {
   "cell_type": "code",
   "execution_count": 56,
   "id": "a61424dd",
   "metadata": {},
   "outputs": [
    {
     "data": {
      "text/plain": [
       "(37,)"
      ]
     },
     "execution_count": 56,
     "metadata": {},
     "output_type": "execute_result"
    }
   ],
   "source": [
    "features.shape"
   ]
  },
  {
   "cell_type": "code",
   "execution_count": 57,
   "id": "7f17a142",
   "metadata": {},
   "outputs": [
    {
     "name": "stdout",
     "output_type": "stream",
     "text": [
      "(36079307, 6)\n",
      "(5, 6)\n",
      "(5, 2)\n",
      "(819516, 5)\n",
      "(5, 5)\n",
      "(6, 2)\n",
      "(6, 2)\n",
      "(30444672, 10)\n",
      "(6, 2)\n",
      "(6, 2)\n",
      "(6, 2)\n",
      "(6, 15)\n",
      "(221805, 10)\n",
      "(3482674, 10)\n",
      "(536493, 10)\n"
     ]
    }
   ],
   "source": [
    "import gc\n",
    "\n",
    "for obj in gc.get_objects():\n",
    "    if isinstance(obj, pd.DataFrame):\n",
    "        print(obj.shape)\n"
   ]
  },
  {
   "cell_type": "markdown",
   "id": "95d13976",
   "metadata": {},
   "source": [
    "### Assessing feature importances\n",
    "We need to look at two aspects when training a simple XGBoost model on this imbalanced dataset:\n",
    "1. Creating more balanced subsets for training\n",
    "2. Cross validation\n",
    "\n",
    "For 1. we will use imbalanced-learn (as opposed to modifying thresholds as we've done previously for binary classification tasks) and for 2. we will use sklearn's package KFold. First we need to get all of the data points into a format of (features, label)"
   ]
  },
  {
   "cell_type": "code",
   "execution_count": 58,
   "id": "85e10cae",
   "metadata": {},
   "outputs": [],
   "source": [
    "import datetime"
   ]
  },
  {
   "cell_type": "code",
   "execution_count": 59,
   "id": "87cf47d3",
   "metadata": {},
   "outputs": [],
   "source": [
    "## Attempting the above using distributed framework Dask\n",
    "from dask.distributed import Client\n",
    "client = Client()"
   ]
  },
  {
   "cell_type": "code",
   "execution_count": 60,
   "id": "0532cc74",
   "metadata": {},
   "outputs": [
    {
     "data": {
      "text/html": [
       "<table style=\"border: 2px solid white;\">\n",
       "<tr>\n",
       "<td style=\"vertical-align: top; border: 0px solid white\">\n",
       "<h3 style=\"text-align: left;\">Client</h3>\n",
       "<ul style=\"text-align: left; list-style: none; margin: 0; padding: 0;\">\n",
       "  <li><b>Scheduler: </b>tcp://127.0.0.1:46387</li>\n",
       "  <li><b>Dashboard: </b><a href='http://127.0.0.1:8787/status' target='_blank'>http://127.0.0.1:8787/status</a></li>\n",
       "</ul>\n",
       "</td>\n",
       "<td style=\"vertical-align: top; border: 0px solid white\">\n",
       "<h3 style=\"text-align: left;\">Cluster</h3>\n",
       "<ul style=\"text-align: left; list-style:none; margin: 0; padding: 0;\">\n",
       "  <li><b>Workers: </b>4</li>\n",
       "  <li><b>Cores: </b>8</li>\n",
       "  <li><b>Memory: </b>16.42 GB</li>\n",
       "</ul>\n",
       "</td>\n",
       "</tr>\n",
       "</table>"
      ],
      "text/plain": [
       "<Client: 'tcp://127.0.0.1:46387' processes=4 threads=8, memory=16.42 GB>"
      ]
     },
     "execution_count": 60,
     "metadata": {},
     "output_type": "execute_result"
    }
   ],
   "source": [
    "client"
   ]
  },
  {
   "cell_type": "code",
   "execution_count": 61,
   "id": "9b5d8db0",
   "metadata": {},
   "outputs": [],
   "source": [
    "dash_df = df.loc[:,['status', 'purchase']].copy(deep=True)"
   ]
  },
  {
   "cell_type": "code",
   "execution_count": 62,
   "id": "103e797e",
   "metadata": {},
   "outputs": [
    {
     "data": {
      "text/plain": [
       "(30444672, 2)"
      ]
     },
     "execution_count": 62,
     "metadata": {},
     "output_type": "execute_result"
    }
   ],
   "source": [
    "dash_df.shape"
   ]
  },
  {
   "cell_type": "code",
   "execution_count": 63,
   "id": "2de2c2af",
   "metadata": {},
   "outputs": [],
   "source": [
    "# Get rid of unused dataframe so no OOM errors\n",
    "\n",
    "# import gc\n",
    "\n",
    "# for obj in gc.get_objects():\n",
    "#     if isinstance(obj, pd.DataFrame):\n",
    "#         if obj.shape != dash_df.shape:\n",
    "#             del(obj)"
   ]
  },
  {
   "cell_type": "code",
   "execution_count": 64,
   "id": "8fca0101",
   "metadata": {},
   "outputs": [],
   "source": [
    "del(browse_df)\n",
    "del(search_df)\n",
    "del(df)\n",
    "del(conversions)\n",
    "del(session_clicks)\n",
    "del(valid_session_ids)\n",
    "del(converted_count)\n",
    "del(unconverted_count)\n",
    "del(conversion_status_counts)\n",
    "del(conv_df)\n",
    "del(unconv_df)\n",
    "del(conv_probs)\n",
    "del(a)\n",
    "del(b)\n",
    "del(count_code_per_session_un)\n",
    "del(count_code_per_session)"
   ]
  },
  {
   "cell_type": "code",
   "execution_count": 65,
   "id": "0b190e59",
   "metadata": {},
   "outputs": [
    {
     "name": "stdout",
     "output_type": "stream",
     "text": [
      "(30444672, 2)\n",
      "(5, 6)\n",
      "(5, 2)\n",
      "(5, 5)\n",
      "(6, 2)\n",
      "(6, 2)\n",
      "(6, 2)\n",
      "(6, 15)\n",
      "(536493, 10)\n"
     ]
    }
   ],
   "source": [
    "for obj in gc.get_objects():\n",
    "    if isinstance(obj, pd.DataFrame):\n",
    "        print(obj.shape)"
   ]
  },
  {
   "cell_type": "code",
   "execution_count": 66,
   "id": "3642d43e",
   "metadata": {},
   "outputs": [],
   "source": [
    "import dask.dataframe as dd\n",
    "dd1 = dd.from_pandas(dash_df[dash_df['purchase'] == 1].reset_index(1), npartitions=8)\n",
    "dd2 = dd.from_pandas(dash_df[dash_df['purchase'] == 0].reset_index(1), npartitions=8)\n",
    "dd3 = dd.from_pandas(dash_df[dash_df['purchase'] == 2].reset_index(1), npartitions=8)"
   ]
  },
  {
   "cell_type": "code",
   "execution_count": 67,
   "id": "bdc45064",
   "metadata": {},
   "outputs": [
    {
     "data": {
      "text/html": [
       "<div>\n",
       "<style scoped>\n",
       "    .dataframe tbody tr th:only-of-type {\n",
       "        vertical-align: middle;\n",
       "    }\n",
       "\n",
       "    .dataframe tbody tr th {\n",
       "        vertical-align: top;\n",
       "    }\n",
       "\n",
       "    .dataframe thead th {\n",
       "        text-align: right;\n",
       "    }\n",
       "</style>\n",
       "<table border=\"1\" class=\"dataframe\">\n",
       "  <thead>\n",
       "    <tr style=\"text-align: right;\">\n",
       "      <th></th>\n",
       "      <th>server_timestamp_epoch_ms</th>\n",
       "      <th>status</th>\n",
       "      <th>purchase</th>\n",
       "    </tr>\n",
       "    <tr>\n",
       "      <th>session_id_hash</th>\n",
       "      <th></th>\n",
       "      <th></th>\n",
       "      <th></th>\n",
       "    </tr>\n",
       "  </thead>\n",
       "  <tbody>\n",
       "    <tr>\n",
       "      <th>0001c180fb742f96ff388ba8f67a568e6fa66aed30d0d21bd36dd07dc67e17c5</th>\n",
       "      <td>1550494322923</td>\n",
       "      <td>300.00</td>\n",
       "      <td>1</td>\n",
       "    </tr>\n",
       "    <tr>\n",
       "      <th>0001c180fb742f96ff388ba8f67a568e6fa66aed30d0d21bd36dd07dc67e17c5</th>\n",
       "      <td>1550494355728</td>\n",
       "      <td>400.00</td>\n",
       "      <td>1</td>\n",
       "    </tr>\n",
       "    <tr>\n",
       "      <th>0001c180fb742f96ff388ba8f67a568e6fa66aed30d0d21bd36dd07dc67e17c5</th>\n",
       "      <td>1550494357775</td>\n",
       "      <td>300.00</td>\n",
       "      <td>1</td>\n",
       "    </tr>\n",
       "    <tr>\n",
       "      <th>0001c180fb742f96ff388ba8f67a568e6fa66aed30d0d21bd36dd07dc67e17c5</th>\n",
       "      <td>1550494367667</td>\n",
       "      <td>300.00</td>\n",
       "      <td>1</td>\n",
       "    </tr>\n",
       "    <tr>\n",
       "      <th>0001c180fb742f96ff388ba8f67a568e6fa66aed30d0d21bd36dd07dc67e17c5</th>\n",
       "      <td>1550494385290</td>\n",
       "      <td>300.00</td>\n",
       "      <td>1</td>\n",
       "    </tr>\n",
       "  </tbody>\n",
       "</table>\n",
       "</div>"
      ],
      "text/plain": [
       "                                                    server_timestamp_epoch_ms  \\\n",
       "session_id_hash                                                                 \n",
       "0001c180fb742f96ff388ba8f67a568e6fa66aed30d0d21...              1550494322923   \n",
       "0001c180fb742f96ff388ba8f67a568e6fa66aed30d0d21...              1550494355728   \n",
       "0001c180fb742f96ff388ba8f67a568e6fa66aed30d0d21...              1550494357775   \n",
       "0001c180fb742f96ff388ba8f67a568e6fa66aed30d0d21...              1550494367667   \n",
       "0001c180fb742f96ff388ba8f67a568e6fa66aed30d0d21...              1550494385290   \n",
       "\n",
       "                                                    status  purchase  \n",
       "session_id_hash                                                       \n",
       "0001c180fb742f96ff388ba8f67a568e6fa66aed30d0d21...  300.00         1  \n",
       "0001c180fb742f96ff388ba8f67a568e6fa66aed30d0d21...  400.00         1  \n",
       "0001c180fb742f96ff388ba8f67a568e6fa66aed30d0d21...  300.00         1  \n",
       "0001c180fb742f96ff388ba8f67a568e6fa66aed30d0d21...  300.00         1  \n",
       "0001c180fb742f96ff388ba8f67a568e6fa66aed30d0d21...  300.00         1  "
      ]
     },
     "execution_count": 67,
     "metadata": {},
     "output_type": "execute_result"
    }
   ],
   "source": [
    "dd1.head()"
   ]
  },
  {
   "cell_type": "code",
   "execution_count": 68,
   "id": "a8b355a3",
   "metadata": {},
   "outputs": [
    {
     "name": "stdout",
     "output_type": "stream",
     "text": [
      "11:54:53\n",
      "11:54:53\n"
     ]
    },
    {
     "name": "stderr",
     "output_type": "stream",
     "text": [
      "/home/grantbeasley/.local/lib/python3.7/site-packages/ipykernel_launcher.py:2: UserWarning: `meta` is not specified, inferred from partial data. Please provide `meta` if the result is unexpected.\n",
      "  Before: .apply(func)\n",
      "  After:  .apply(func, meta={'x': 'f8', 'y': 'f8'}) for dataframe result\n",
      "  or:     .apply(func, meta=('x', 'f8'))            for series result\n",
      "  \n",
      "/home/grantbeasley/.local/lib/python3.7/site-packages/ipykernel_launcher.py:3: UserWarning: `meta` is not specified, inferred from partial data. Please provide `meta` if the result is unexpected.\n",
      "  Before: .apply(func)\n",
      "  After:  .apply(func, meta={'x': 'f8', 'y': 'f8'}) for dataframe result\n",
      "  or:     .apply(func, meta=('x', 'f8'))            for series result\n",
      "  This is separate from the ipykernel package so we can avoid doing imports until\n",
      "/home/grantbeasley/.local/lib/python3.7/site-packages/ipykernel_launcher.py:4: UserWarning: `meta` is not specified, inferred from partial data. Please provide `meta` if the result is unexpected.\n",
      "  Before: .apply(func)\n",
      "  After:  .apply(func, meta={'x': 'f8', 'y': 'f8'}) for dataframe result\n",
      "  or:     .apply(func, meta=('x', 'f8'))            for series result\n",
      "  after removing the cwd from sys.path.\n"
     ]
    }
   ],
   "source": [
    "print(datetime.datetime.now().strftime('%H:%M:%S'))\n",
    "dask_converted_features = dd1.groupby(['session_id_hash'])['status'].apply(extract_features, add_label=True, label=1)\n",
    "dask_unconverted_features = dd2.groupby(['session_id_hash'])['status'].apply(extract_features, add_label=True, label=0)\n",
    "dask_abandoned_features = dd3.groupby(['session_id_hash'])['status'].apply(extract_features, add_label=True, label=2)\n",
    "print(datetime.datetime.now().strftime('%H:%M:%S'))"
   ]
  },
  {
   "cell_type": "code",
   "execution_count": 69,
   "id": "006d9fc3",
   "metadata": {},
   "outputs": [
    {
     "name": "stdout",
     "output_type": "stream",
     "text": [
      "11:54:53\n",
      "11:55:48\n",
      "12:09:40\n",
      "12:12:24\n"
     ]
    }
   ],
   "source": [
    "print(datetime.datetime.now().strftime('%H:%M:%S'))\n",
    "converted_features = dask_converted_features.compute()\n",
    "print(datetime.datetime.now().strftime('%H:%M:%S'))\n",
    "unconverted_features = dask_unconverted_features.compute()\n",
    "print(datetime.datetime.now().strftime('%H:%M:%S'))\n",
    "abandoned_features = dask_abandoned_features.compute()\n",
    "print(datetime.datetime.now().strftime('%H:%M:%S'))"
   ]
  },
  {
   "cell_type": "code",
   "execution_count": 70,
   "id": "b92981d9",
   "metadata": {},
   "outputs": [],
   "source": [
    "data1 = np.vstack(converted_features)\n",
    "data2 = np.vstack(unconverted_features)\n",
    "data3 = np.vstack(abandoned_features)"
   ]
  },
  {
   "cell_type": "code",
   "execution_count": 71,
   "id": "c5fcf5e4",
   "metadata": {},
   "outputs": [],
   "source": [
    "data = np.concatenate([data1, data2, data3])"
   ]
  },
  {
   "cell_type": "code",
   "execution_count": 72,
   "id": "8241c547",
   "metadata": {},
   "outputs": [],
   "source": [
    "with open('processed_features.npy', 'wb') as f:\n",
    "    np.save(f, data)"
   ]
  },
  {
   "cell_type": "markdown",
   "id": "615b6b39",
   "metadata": {},
   "source": [
    "## Classifier"
   ]
  },
  {
   "cell_type": "code",
   "execution_count": 86,
   "id": "e4fbd7fc",
   "metadata": {},
   "outputs": [
    {
     "name": "stdout",
     "output_type": "stream",
     "text": [
      "Collecting package metadata (current_repodata.json): done\n",
      "Solving environment: done\n",
      "\n",
      "# All requested packages already installed.\n",
      "\n"
     ]
    }
   ],
   "source": [
    "!conda install -c conda-forge imbalanced-learn --yes"
   ]
  },
  {
   "cell_type": "code",
   "execution_count": 76,
   "id": "361a0caa",
   "metadata": {},
   "outputs": [
    {
     "data": {
      "text/plain": [
       "array([1718113,   50029,  155130])"
      ]
     },
     "execution_count": 76,
     "metadata": {},
     "output_type": "execute_result"
    }
   ],
   "source": [
    "np.bincount(data[:,-1].astype(int))"
   ]
  },
  {
   "cell_type": "code",
   "execution_count": 58,
   "id": "909bb975",
   "metadata": {},
   "outputs": [],
   "source": [
    "data = np.load('processed_features.npy')"
   ]
  },
  {
   "cell_type": "code",
   "execution_count": 59,
   "id": "74b451fe",
   "metadata": {},
   "outputs": [],
   "source": [
    "import imblearn as imbl\n",
    "import matplotlib.pyplot as plt"
   ]
  },
  {
   "cell_type": "code",
   "execution_count": 60,
   "id": "ad4a4993",
   "metadata": {},
   "outputs": [],
   "source": [
    "X, y = data[:,:-1], data[:,-1].reshape(-1,1)"
   ]
  },
  {
   "cell_type": "code",
   "execution_count": 61,
   "id": "25ad6735",
   "metadata": {},
   "outputs": [],
   "source": [
    "from imblearn.over_sampling import SMOTE\n",
    "from sklearn.model_selection import train_test_split\n",
    "X_train, X_test, y_train, y_test = train_test_split(X, y)\n",
    "#X_resampled, y_resampled = SMOTE().fit_resample(X_train, y_train)\n",
    "\n",
    "from imblearn.under_sampling import RandomUnderSampler\n",
    "rus = RandomUnderSampler()\n",
    "X_undersampled, y_undersampled = rus.fit_resample(X_train, y_train)\n"
   ]
  },
  {
   "cell_type": "code",
   "execution_count": 62,
   "id": "5f0ff3e8",
   "metadata": {},
   "outputs": [
    {
     "data": {
      "text/plain": [
       "((112020, 37), (112020,))"
      ]
     },
     "execution_count": 62,
     "metadata": {},
     "output_type": "execute_result"
    }
   ],
   "source": [
    "#X_resampled.shape, y_resampled.shape, \n",
    "X_undersampled.shape, y_undersampled.shape"
   ]
  },
  {
   "cell_type": "code",
   "execution_count": 63,
   "id": "a6ffb236",
   "metadata": {},
   "outputs": [],
   "source": [
    "# Reshuffling undersampled datasets\n",
    "n = X_undersampled.shape[0]\n",
    "\n",
    "new_idx = np.random.permutation(np.arange(n))\n",
    "X_undersampled = X_undersampled[new_idx]\n",
    "y_undersampled = y_undersampled[new_idx]"
   ]
  },
  {
   "cell_type": "code",
   "execution_count": 64,
   "id": "ce7bb198",
   "metadata": {},
   "outputs": [
    {
     "name": "stdout",
     "output_type": "stream",
     "text": [
      "[08:48:13] WARNING: /workspace/src/learner.cc:480: \n",
      "Parameters: { max_depth } might not be used.\n",
      "\n",
      "  This may not be accurate due to some parameters are only used in language bindings but\n",
      "  passed down to XGBoost core.  Or some parameters are not used but slip through this\n",
      "  verification. Please open an issue if you find above cases.\n",
      "\n",
      "\n",
      "[08:48:16] WARNING: /workspace/src/learner.cc:480: \n",
      "Parameters: { max_depth } might not be used.\n",
      "\n",
      "  This may not be accurate due to some parameters are only used in language bindings but\n",
      "  passed down to XGBoost core.  Or some parameters are not used but slip through this\n",
      "  verification. Please open an issue if you find above cases.\n",
      "\n",
      "\n",
      "[08:48:19] WARNING: /workspace/src/learner.cc:480: \n",
      "Parameters: { max_depth } might not be used.\n",
      "\n",
      "  This may not be accurate due to some parameters are only used in language bindings but\n",
      "  passed down to XGBoost core.  Or some parameters are not used but slip through this\n",
      "  verification. Please open an issue if you find above cases.\n",
      "\n",
      "\n",
      "[08:48:22] WARNING: /workspace/src/learner.cc:480: \n",
      "Parameters: { max_depth } might not be used.\n",
      "\n",
      "  This may not be accurate due to some parameters are only used in language bindings but\n",
      "  passed down to XGBoost core.  Or some parameters are not used but slip through this\n",
      "  verification. Please open an issue if you find above cases.\n",
      "\n",
      "\n",
      "[08:48:24] WARNING: /workspace/src/learner.cc:480: \n",
      "Parameters: { max_depth } might not be used.\n",
      "\n",
      "  This may not be accurate due to some parameters are only used in language bindings but\n",
      "  passed down to XGBoost core.  Or some parameters are not used but slip through this\n",
      "  verification. Please open an issue if you find above cases.\n",
      "\n",
      "\n",
      "[08:48:27] WARNING: /workspace/src/learner.cc:480: \n",
      "Parameters: { max_depth } might not be used.\n",
      "\n",
      "  This may not be accurate due to some parameters are only used in language bindings but\n",
      "  passed down to XGBoost core.  Or some parameters are not used but slip through this\n",
      "  verification. Please open an issue if you find above cases.\n",
      "\n",
      "\n",
      "[08:48:30] WARNING: /workspace/src/learner.cc:480: \n",
      "Parameters: { max_depth } might not be used.\n",
      "\n",
      "  This may not be accurate due to some parameters are only used in language bindings but\n",
      "  passed down to XGBoost core.  Or some parameters are not used but slip through this\n",
      "  verification. Please open an issue if you find above cases.\n",
      "\n",
      "\n",
      "[08:48:33] WARNING: /workspace/src/learner.cc:480: \n",
      "Parameters: { max_depth } might not be used.\n",
      "\n",
      "  This may not be accurate due to some parameters are only used in language bindings but\n",
      "  passed down to XGBoost core.  Or some parameters are not used but slip through this\n",
      "  verification. Please open an issue if you find above cases.\n",
      "\n",
      "\n",
      "[08:48:36] WARNING: /workspace/src/learner.cc:480: \n",
      "Parameters: { max_depth } might not be used.\n",
      "\n",
      "  This may not be accurate due to some parameters are only used in language bindings but\n",
      "  passed down to XGBoost core.  Or some parameters are not used but slip through this\n",
      "  verification. Please open an issue if you find above cases.\n",
      "\n",
      "\n",
      "[08:48:39] WARNING: /workspace/src/learner.cc:480: \n",
      "Parameters: { max_depth } might not be used.\n",
      "\n",
      "  This may not be accurate due to some parameters are only used in language bindings but\n",
      "  passed down to XGBoost core.  Or some parameters are not used but slip through this\n",
      "  verification. Please open an issue if you find above cases.\n",
      "\n",
      "\n",
      "[08:48:42] WARNING: /workspace/src/learner.cc:480: \n",
      "Parameters: { max_depth } might not be used.\n",
      "\n",
      "  This may not be accurate due to some parameters are only used in language bindings but\n",
      "  passed down to XGBoost core.  Or some parameters are not used but slip through this\n",
      "  verification. Please open an issue if you find above cases.\n",
      "\n",
      "\n",
      "[08:48:45] WARNING: /workspace/src/learner.cc:480: \n",
      "Parameters: { max_depth } might not be used.\n",
      "\n",
      "  This may not be accurate due to some parameters are only used in language bindings but\n",
      "  passed down to XGBoost core.  Or some parameters are not used but slip through this\n",
      "  verification. Please open an issue if you find above cases.\n",
      "\n",
      "\n",
      "[08:48:48] WARNING: /workspace/src/learner.cc:480: \n",
      "Parameters: { max_depth } might not be used.\n",
      "\n",
      "  This may not be accurate due to some parameters are only used in language bindings but\n",
      "  passed down to XGBoost core.  Or some parameters are not used but slip through this\n",
      "  verification. Please open an issue if you find above cases.\n",
      "\n",
      "\n",
      "[08:48:50] WARNING: /workspace/src/learner.cc:480: \n",
      "Parameters: { max_depth } might not be used.\n",
      "\n",
      "  This may not be accurate due to some parameters are only used in language bindings but\n",
      "  passed down to XGBoost core.  Or some parameters are not used but slip through this\n",
      "  verification. Please open an issue if you find above cases.\n",
      "\n",
      "\n",
      "[08:48:53] WARNING: /workspace/src/learner.cc:480: \n",
      "Parameters: { max_depth } might not be used.\n",
      "\n",
      "  This may not be accurate due to some parameters are only used in language bindings but\n",
      "  passed down to XGBoost core.  Or some parameters are not used but slip through this\n",
      "  verification. Please open an issue if you find above cases.\n",
      "\n",
      "\n"
     ]
    },
    {
     "data": {
      "text/plain": [
       "GridSearchCV(estimator=XGBClassifier(base_score=None, booster=None,\n",
       "                                     colsample_bylevel=None,\n",
       "                                     colsample_bynode=None,\n",
       "                                     colsample_bytree=None, gamma=None,\n",
       "                                     gpu_id=None, importance_type='gain',\n",
       "                                     interaction_constraints=None,\n",
       "                                     learning_rate=None, max_delta_step=None,\n",
       "                                     max_depth=None, min_child_weight=None,\n",
       "                                     missing=nan, monotone_constraints=None,\n",
       "                                     n_estimators=100, n_jobs=None,\n",
       "                                     num_parallel_tree=None, random_state=None,\n",
       "                                     reg_alpha=None, reg_lambda=None,\n",
       "                                     scale_pos_weight=None, subsample=None,\n",
       "                                     tree_method=None, validate_parameters=None,\n",
       "                                     verbosity=None),\n",
       "             param_grid={'booster': ['gbtree', 'gblinear', 'dart'],\n",
       "                         'max_depth': [2, 3, 4]})"
      ]
     },
     "execution_count": 64,
     "metadata": {},
     "output_type": "execute_result"
    }
   ],
   "source": [
    "import xgboost as xgb\n",
    "from xgboost import XGBClassifier\n",
    "from sklearn.model_selection import GridSearchCV\n",
    "parameters = {'max_depth':[2,3,4], 'booster':['gbtree', 'gblinear', 'dart']}\n",
    "bst = XGBClassifier()\n",
    "clf = GridSearchCV(bst, parameters)\n",
    "clf.fit(X_undersampled, y_undersampled)"
   ]
  },
  {
   "cell_type": "code",
   "execution_count": 65,
   "id": "f405824f",
   "metadata": {},
   "outputs": [],
   "source": [
    "best_clf = XGBClassifier(parameters=clf.best_params_)"
   ]
  },
  {
   "cell_type": "code",
   "execution_count": 66,
   "id": "72bffbb6",
   "metadata": {},
   "outputs": [
    {
     "name": "stdout",
     "output_type": "stream",
     "text": [
      "[08:54:27] WARNING: /workspace/src/learner.cc:480: \n",
      "Parameters: { parameters } might not be used.\n",
      "\n",
      "  This may not be accurate due to some parameters are only used in language bindings but\n",
      "  passed down to XGBoost core.  Or some parameters are not used but slip through this\n",
      "  verification. Please open an issue if you find above cases.\n",
      "\n",
      "\n"
     ]
    },
    {
     "data": {
      "text/plain": [
       "XGBClassifier(base_score=0.5, booster='gbtree', colsample_bylevel=1,\n",
       "              colsample_bynode=1, colsample_bytree=1, gamma=0, gpu_id=-1,\n",
       "              importance_type='gain', interaction_constraints='',\n",
       "              learning_rate=0.300000012, max_delta_step=0, max_depth=6,\n",
       "              min_child_weight=1, missing=nan, monotone_constraints='()',\n",
       "              n_estimators=100, n_jobs=0, num_parallel_tree=1,\n",
       "              objective='multi:softprob',\n",
       "              parameters={'booster': 'gbtree', 'max_depth': 4}, random_state=0,\n",
       "              reg_alpha=0, reg_lambda=1, scale_pos_weight=None, subsample=1,\n",
       "              tree_method='exact', validate_parameters=1, verbosity=None)"
      ]
     },
     "execution_count": 66,
     "metadata": {},
     "output_type": "execute_result"
    }
   ],
   "source": [
    "best_clf.fit(X_undersampled, y_undersampled)"
   ]
  },
  {
   "cell_type": "code",
   "execution_count": 67,
   "id": "d7ee68b7",
   "metadata": {},
   "outputs": [],
   "source": [
    "grid_search_results = pd.DataFrame(clf.cv_results_)"
   ]
  },
  {
   "cell_type": "code",
   "execution_count": 68,
   "id": "0816afd3",
   "metadata": {},
   "outputs": [
    {
     "data": {
      "text/html": [
       "<div>\n",
       "<style scoped>\n",
       "    .dataframe tbody tr th:only-of-type {\n",
       "        vertical-align: middle;\n",
       "    }\n",
       "\n",
       "    .dataframe tbody tr th {\n",
       "        vertical-align: top;\n",
       "    }\n",
       "\n",
       "    .dataframe thead th {\n",
       "        text-align: right;\n",
       "    }\n",
       "</style>\n",
       "<table border=\"1\" class=\"dataframe\">\n",
       "  <thead>\n",
       "    <tr style=\"text-align: right;\">\n",
       "      <th></th>\n",
       "      <th>mean_fit_time</th>\n",
       "      <th>std_fit_time</th>\n",
       "      <th>mean_score_time</th>\n",
       "      <th>std_score_time</th>\n",
       "      <th>param_booster</th>\n",
       "      <th>param_max_depth</th>\n",
       "      <th>params</th>\n",
       "      <th>split0_test_score</th>\n",
       "      <th>split1_test_score</th>\n",
       "      <th>split2_test_score</th>\n",
       "      <th>split3_test_score</th>\n",
       "      <th>split4_test_score</th>\n",
       "      <th>mean_test_score</th>\n",
       "      <th>std_test_score</th>\n",
       "      <th>rank_test_score</th>\n",
       "    </tr>\n",
       "  </thead>\n",
       "  <tbody>\n",
       "    <tr>\n",
       "      <th>0</th>\n",
       "      <td>9.32</td>\n",
       "      <td>2.11</td>\n",
       "      <td>0.05</td>\n",
       "      <td>0.00</td>\n",
       "      <td>gbtree</td>\n",
       "      <td>2</td>\n",
       "      <td>{'booster': 'gbtree', 'max_depth': 2}</td>\n",
       "      <td>0.97</td>\n",
       "      <td>0.97</td>\n",
       "      <td>0.97</td>\n",
       "      <td>0.97</td>\n",
       "      <td>0.97</td>\n",
       "      <td>0.97</td>\n",
       "      <td>0.00</td>\n",
       "      <td>5</td>\n",
       "    </tr>\n",
       "    <tr>\n",
       "      <th>1</th>\n",
       "      <td>12.51</td>\n",
       "      <td>0.69</td>\n",
       "      <td>0.06</td>\n",
       "      <td>0.00</td>\n",
       "      <td>gbtree</td>\n",
       "      <td>3</td>\n",
       "      <td>{'booster': 'gbtree', 'max_depth': 3}</td>\n",
       "      <td>0.98</td>\n",
       "      <td>0.98</td>\n",
       "      <td>0.98</td>\n",
       "      <td>0.98</td>\n",
       "      <td>0.98</td>\n",
       "      <td>0.98</td>\n",
       "      <td>0.00</td>\n",
       "      <td>3</td>\n",
       "    </tr>\n",
       "    <tr>\n",
       "      <th>2</th>\n",
       "      <td>17.30</td>\n",
       "      <td>1.24</td>\n",
       "      <td>0.08</td>\n",
       "      <td>0.01</td>\n",
       "      <td>gbtree</td>\n",
       "      <td>4</td>\n",
       "      <td>{'booster': 'gbtree', 'max_depth': 4}</td>\n",
       "      <td>0.99</td>\n",
       "      <td>0.99</td>\n",
       "      <td>0.99</td>\n",
       "      <td>0.99</td>\n",
       "      <td>0.99</td>\n",
       "      <td>0.99</td>\n",
       "      <td>0.00</td>\n",
       "      <td>1</td>\n",
       "    </tr>\n",
       "    <tr>\n",
       "      <th>3</th>\n",
       "      <td>2.72</td>\n",
       "      <td>0.07</td>\n",
       "      <td>0.02</td>\n",
       "      <td>0.00</td>\n",
       "      <td>gblinear</td>\n",
       "      <td>2</td>\n",
       "      <td>{'booster': 'gblinear', 'max_depth': 2}</td>\n",
       "      <td>0.95</td>\n",
       "      <td>0.94</td>\n",
       "      <td>0.94</td>\n",
       "      <td>0.94</td>\n",
       "      <td>0.95</td>\n",
       "      <td>0.95</td>\n",
       "      <td>0.00</td>\n",
       "      <td>9</td>\n",
       "    </tr>\n",
       "    <tr>\n",
       "      <th>4</th>\n",
       "      <td>2.94</td>\n",
       "      <td>0.07</td>\n",
       "      <td>0.03</td>\n",
       "      <td>0.00</td>\n",
       "      <td>gblinear</td>\n",
       "      <td>3</td>\n",
       "      <td>{'booster': 'gblinear', 'max_depth': 3}</td>\n",
       "      <td>0.95</td>\n",
       "      <td>0.95</td>\n",
       "      <td>0.94</td>\n",
       "      <td>0.94</td>\n",
       "      <td>0.95</td>\n",
       "      <td>0.95</td>\n",
       "      <td>0.00</td>\n",
       "      <td>8</td>\n",
       "    </tr>\n",
       "    <tr>\n",
       "      <th>5</th>\n",
       "      <td>2.74</td>\n",
       "      <td>0.10</td>\n",
       "      <td>0.02</td>\n",
       "      <td>0.00</td>\n",
       "      <td>gblinear</td>\n",
       "      <td>4</td>\n",
       "      <td>{'booster': 'gblinear', 'max_depth': 4}</td>\n",
       "      <td>0.95</td>\n",
       "      <td>0.95</td>\n",
       "      <td>0.95</td>\n",
       "      <td>0.94</td>\n",
       "      <td>0.95</td>\n",
       "      <td>0.95</td>\n",
       "      <td>0.00</td>\n",
       "      <td>7</td>\n",
       "    </tr>\n",
       "    <tr>\n",
       "      <th>6</th>\n",
       "      <td>18.17</td>\n",
       "      <td>4.18</td>\n",
       "      <td>0.08</td>\n",
       "      <td>0.02</td>\n",
       "      <td>dart</td>\n",
       "      <td>2</td>\n",
       "      <td>{'booster': 'dart', 'max_depth': 2}</td>\n",
       "      <td>0.97</td>\n",
       "      <td>0.97</td>\n",
       "      <td>0.97</td>\n",
       "      <td>0.97</td>\n",
       "      <td>0.97</td>\n",
       "      <td>0.97</td>\n",
       "      <td>0.00</td>\n",
       "      <td>5</td>\n",
       "    </tr>\n",
       "    <tr>\n",
       "      <th>7</th>\n",
       "      <td>18.85</td>\n",
       "      <td>0.68</td>\n",
       "      <td>0.07</td>\n",
       "      <td>0.01</td>\n",
       "      <td>dart</td>\n",
       "      <td>3</td>\n",
       "      <td>{'booster': 'dart', 'max_depth': 3}</td>\n",
       "      <td>0.98</td>\n",
       "      <td>0.98</td>\n",
       "      <td>0.98</td>\n",
       "      <td>0.98</td>\n",
       "      <td>0.98</td>\n",
       "      <td>0.98</td>\n",
       "      <td>0.00</td>\n",
       "      <td>3</td>\n",
       "    </tr>\n",
       "    <tr>\n",
       "      <th>8</th>\n",
       "      <td>24.88</td>\n",
       "      <td>0.69</td>\n",
       "      <td>0.08</td>\n",
       "      <td>0.01</td>\n",
       "      <td>dart</td>\n",
       "      <td>4</td>\n",
       "      <td>{'booster': 'dart', 'max_depth': 4}</td>\n",
       "      <td>0.99</td>\n",
       "      <td>0.99</td>\n",
       "      <td>0.99</td>\n",
       "      <td>0.99</td>\n",
       "      <td>0.99</td>\n",
       "      <td>0.99</td>\n",
       "      <td>0.00</td>\n",
       "      <td>1</td>\n",
       "    </tr>\n",
       "  </tbody>\n",
       "</table>\n",
       "</div>"
      ],
      "text/plain": [
       "   mean_fit_time  std_fit_time  mean_score_time  std_score_time param_booster  \\\n",
       "0           9.32          2.11             0.05            0.00        gbtree   \n",
       "1          12.51          0.69             0.06            0.00        gbtree   \n",
       "2          17.30          1.24             0.08            0.01        gbtree   \n",
       "3           2.72          0.07             0.02            0.00      gblinear   \n",
       "4           2.94          0.07             0.03            0.00      gblinear   \n",
       "5           2.74          0.10             0.02            0.00      gblinear   \n",
       "6          18.17          4.18             0.08            0.02          dart   \n",
       "7          18.85          0.68             0.07            0.01          dart   \n",
       "8          24.88          0.69             0.08            0.01          dart   \n",
       "\n",
       "  param_max_depth                                   params  split0_test_score  \\\n",
       "0               2    {'booster': 'gbtree', 'max_depth': 2}               0.97   \n",
       "1               3    {'booster': 'gbtree', 'max_depth': 3}               0.98   \n",
       "2               4    {'booster': 'gbtree', 'max_depth': 4}               0.99   \n",
       "3               2  {'booster': 'gblinear', 'max_depth': 2}               0.95   \n",
       "4               3  {'booster': 'gblinear', 'max_depth': 3}               0.95   \n",
       "5               4  {'booster': 'gblinear', 'max_depth': 4}               0.95   \n",
       "6               2      {'booster': 'dart', 'max_depth': 2}               0.97   \n",
       "7               3      {'booster': 'dart', 'max_depth': 3}               0.98   \n",
       "8               4      {'booster': 'dart', 'max_depth': 4}               0.99   \n",
       "\n",
       "   split1_test_score  split2_test_score  split3_test_score  split4_test_score  \\\n",
       "0               0.97               0.97               0.97               0.97   \n",
       "1               0.98               0.98               0.98               0.98   \n",
       "2               0.99               0.99               0.99               0.99   \n",
       "3               0.94               0.94               0.94               0.95   \n",
       "4               0.95               0.94               0.94               0.95   \n",
       "5               0.95               0.95               0.94               0.95   \n",
       "6               0.97               0.97               0.97               0.97   \n",
       "7               0.98               0.98               0.98               0.98   \n",
       "8               0.99               0.99               0.99               0.99   \n",
       "\n",
       "   mean_test_score  std_test_score  rank_test_score  \n",
       "0             0.97            0.00                5  \n",
       "1             0.98            0.00                3  \n",
       "2             0.99            0.00                1  \n",
       "3             0.95            0.00                9  \n",
       "4             0.95            0.00                8  \n",
       "5             0.95            0.00                7  \n",
       "6             0.97            0.00                5  \n",
       "7             0.98            0.00                3  \n",
       "8             0.99            0.00                1  "
      ]
     },
     "execution_count": 68,
     "metadata": {},
     "output_type": "execute_result"
    }
   ],
   "source": [
    "grid_search_results"
   ]
  },
  {
   "cell_type": "code",
   "execution_count": 69,
   "id": "ce20f861",
   "metadata": {},
   "outputs": [
    {
     "data": {
      "text/plain": [
       "0.999224238693227"
      ]
     },
     "execution_count": 69,
     "metadata": {},
     "output_type": "execute_result"
    }
   ],
   "source": [
    "np.sum(best_clf.predict(X_test) == y_test.flatten()) / X_test.shape[0]"
   ]
  },
  {
   "cell_type": "code",
   "execution_count": 71,
   "id": "390453e6",
   "metadata": {},
   "outputs": [
    {
     "data": {
      "text/plain": [
       "Text(0, 0.5, 'Importance (AU)')"
      ]
     },
     "execution_count": 71,
     "metadata": {},
     "output_type": "execute_result"
    },
    {
     "data": {
      "image/png": "[encoded data removed]",
      "text/plain": [
       "<Figure size 864x288 with 1 Axes>"
      ]
     },
     "metadata": {
      "needs_background": "light"
     },
     "output_type": "display_data"
    }
   ],
   "source": [
    "best_clf.feature_importances_\n",
    "columns = ['P1', 'P2','P3', 'P4', 'P5', \n",
    "           'P11', 'P12', 'P13', 'P14', 'P15',\n",
    "           'P21', 'P22', 'P23', 'P24', 'P25', \n",
    "           'P31', 'P32', 'P33', 'P34', 'P35',\n",
    "           'P41', 'P42', 'P43', 'P44', 'P45',\n",
    "           'P51', 'P52', 'P53', '54', 'P55',\n",
    "           'Z1', 'Z2', 'Z3', 'Z4', 'Z5', 'Z6', 'Hz']\n",
    "\n",
    "plt.figure(figsize=(12,4))\n",
    "plt.bar(columns, best_clf.feature_importances_)\n",
    "plt.suptitle('Feature Importances')\n",
    "plt.xlabel('Action')\n",
    "plt.ylabel('Importance (AU)')"
   ]
  },
  {
   "cell_type": "code",
   "execution_count": 79,
   "id": "bd9a94ad",
   "metadata": {},
   "outputs": [],
   "source": [
    "# Calculating F1 and AUC score\n",
    "\n",
    "from sklearn.metrics import roc_auc_score, f1_score\n",
    "\n",
    "def calc_f1_auc_scores(model, X_test_data, y_test_data):\n",
    "    \n",
    "    auc = roc_auc_score(model.predict(X_test_data), y_test_data, multi_class='ovr')\n",
    "    f1 = f1_score(model.predict(X_test_data), y_test_data)\n",
    "    \n",
    "    return auc, f1\n",
    "    \n",
    "    "
   ]
  },
  {
   "cell_type": "code",
   "execution_count": 80,
   "id": "eec907c3",
   "metadata": {},
   "outputs": [
    {
     "ename": "ValueError",
     "evalue": "Target scores need to be probabilities for multiclass roc_auc, i.e. they should sum up to 1.0 over classes",
     "output_type": "error",
     "traceback": [
      "\u001b[0;31m---------------------------------------------------------------------------\u001b[0m",
      "\u001b[0;31mValueError\u001b[0m                                Traceback (most recent call last)",
      "\u001b[0;32m<ipython-input-80-d8cb78a947de>\u001b[0m in \u001b[0;36m<module>\u001b[0;34m\u001b[0m\n\u001b[0;32m----> 1\u001b[0;31m \u001b[0mcalc_f1_auc_scores\u001b[0m\u001b[0;34m(\u001b[0m\u001b[0mbest_clf\u001b[0m\u001b[0;34m,\u001b[0m \u001b[0mX_test\u001b[0m\u001b[0;34m,\u001b[0m \u001b[0my_test\u001b[0m\u001b[0;34m)\u001b[0m\u001b[0;34m\u001b[0m\u001b[0;34m\u001b[0m\u001b[0m\n\u001b[0m",
      "\u001b[0;32m<ipython-input-79-995c070d5c29>\u001b[0m in \u001b[0;36mcalc_f1_auc_scores\u001b[0;34m(model, X_test_data, y_test_data)\u001b[0m\n\u001b[1;32m      5\u001b[0m \u001b[0;32mdef\u001b[0m \u001b[0mcalc_f1_auc_scores\u001b[0m\u001b[0;34m(\u001b[0m\u001b[0mmodel\u001b[0m\u001b[0;34m,\u001b[0m \u001b[0mX_test_data\u001b[0m\u001b[0;34m,\u001b[0m \u001b[0my_test_data\u001b[0m\u001b[0;34m)\u001b[0m\u001b[0;34m:\u001b[0m\u001b[0;34m\u001b[0m\u001b[0;34m\u001b[0m\u001b[0m\n\u001b[1;32m      6\u001b[0m \u001b[0;34m\u001b[0m\u001b[0m\n\u001b[0;32m----> 7\u001b[0;31m     \u001b[0mauc\u001b[0m \u001b[0;34m=\u001b[0m \u001b[0mroc_auc_score\u001b[0m\u001b[0;34m(\u001b[0m\u001b[0mmodel\u001b[0m\u001b[0;34m.\u001b[0m\u001b[0mpredict\u001b[0m\u001b[0;34m(\u001b[0m\u001b[0mX_test_data\u001b[0m\u001b[0;34m)\u001b[0m\u001b[0;34m,\u001b[0m \u001b[0my_test_data\u001b[0m\u001b[0;34m,\u001b[0m \u001b[0mmulti_class\u001b[0m\u001b[0;34m=\u001b[0m\u001b[0;34m'ovr'\u001b[0m\u001b[0;34m)\u001b[0m\u001b[0;34m\u001b[0m\u001b[0;34m\u001b[0m\u001b[0m\n\u001b[0m\u001b[1;32m      8\u001b[0m     \u001b[0mf1\u001b[0m \u001b[0;34m=\u001b[0m \u001b[0mf1_score\u001b[0m\u001b[0;34m(\u001b[0m\u001b[0mmodel\u001b[0m\u001b[0;34m.\u001b[0m\u001b[0mpredict\u001b[0m\u001b[0;34m(\u001b[0m\u001b[0mX_test_data\u001b[0m\u001b[0;34m)\u001b[0m\u001b[0;34m,\u001b[0m \u001b[0my_test_data\u001b[0m\u001b[0;34m)\u001b[0m\u001b[0;34m\u001b[0m\u001b[0;34m\u001b[0m\u001b[0m\n\u001b[1;32m      9\u001b[0m \u001b[0;34m\u001b[0m\u001b[0m\n",
      "\u001b[0;32m~/anaconda3/envs/tf-gpu/lib/python3.7/site-packages/sklearn/metrics/_ranking.py\u001b[0m in \u001b[0;36mroc_auc_score\u001b[0;34m(y_true, y_score, average, sample_weight, max_fpr, multi_class, labels)\u001b[0m\n\u001b[1;32m    560\u001b[0m             \u001b[0;32mraise\u001b[0m \u001b[0mValueError\u001b[0m\u001b[0;34m(\u001b[0m\u001b[0;34m\"multi_class must be in ('ovo', 'ovr')\"\u001b[0m\u001b[0;34m)\u001b[0m\u001b[0;34m\u001b[0m\u001b[0;34m\u001b[0m\u001b[0m\n\u001b[1;32m    561\u001b[0m         return _multiclass_roc_auc_score(\n\u001b[0;32m--> 562\u001b[0;31m             \u001b[0my_true\u001b[0m\u001b[0;34m,\u001b[0m \u001b[0my_score\u001b[0m\u001b[0;34m,\u001b[0m \u001b[0mlabels\u001b[0m\u001b[0;34m,\u001b[0m \u001b[0mmulti_class\u001b[0m\u001b[0;34m,\u001b[0m \u001b[0maverage\u001b[0m\u001b[0;34m,\u001b[0m \u001b[0msample_weight\u001b[0m\u001b[0;34m\u001b[0m\u001b[0;34m\u001b[0m\u001b[0m\n\u001b[0m\u001b[1;32m    563\u001b[0m         )\n\u001b[1;32m    564\u001b[0m     \u001b[0;32melif\u001b[0m \u001b[0my_type\u001b[0m \u001b[0;34m==\u001b[0m \u001b[0;34m\"binary\"\u001b[0m\u001b[0;34m:\u001b[0m\u001b[0;34m\u001b[0m\u001b[0;34m\u001b[0m\u001b[0m\n",
      "\u001b[0;32m~/anaconda3/envs/tf-gpu/lib/python3.7/site-packages/sklearn/metrics/_ranking.py\u001b[0m in \u001b[0;36m_multiclass_roc_auc_score\u001b[0;34m(y_true, y_score, labels, multi_class, average, sample_weight)\u001b[0m\n\u001b[1;32m    627\u001b[0m     \u001b[0;32mif\u001b[0m \u001b[0;32mnot\u001b[0m \u001b[0mnp\u001b[0m\u001b[0;34m.\u001b[0m\u001b[0mallclose\u001b[0m\u001b[0;34m(\u001b[0m\u001b[0;36m1\u001b[0m\u001b[0;34m,\u001b[0m \u001b[0my_score\u001b[0m\u001b[0;34m.\u001b[0m\u001b[0msum\u001b[0m\u001b[0;34m(\u001b[0m\u001b[0maxis\u001b[0m\u001b[0;34m=\u001b[0m\u001b[0;36m1\u001b[0m\u001b[0;34m)\u001b[0m\u001b[0;34m)\u001b[0m\u001b[0;34m:\u001b[0m\u001b[0;34m\u001b[0m\u001b[0;34m\u001b[0m\u001b[0m\n\u001b[1;32m    628\u001b[0m         raise ValueError(\n\u001b[0;32m--> 629\u001b[0;31m             \u001b[0;34m\"Target scores need to be probabilities for multiclass \"\u001b[0m\u001b[0;34m\u001b[0m\u001b[0;34m\u001b[0m\u001b[0m\n\u001b[0m\u001b[1;32m    630\u001b[0m             \u001b[0;34m\"roc_auc, i.e. they should sum up to 1.0 over classes\"\u001b[0m\u001b[0;34m\u001b[0m\u001b[0;34m\u001b[0m\u001b[0m\n\u001b[1;32m    631\u001b[0m         )\n",
      "\u001b[0;31mValueError\u001b[0m: Target scores need to be probabilities for multiclass roc_auc, i.e. they should sum up to 1.0 over classes"
     ]
    }
   ],
   "source": [
    "calc_f1_auc_scores(best_clf, X_test, y_test)"
   ]
  },
  {
   "cell_type": "markdown",
   "id": "90367214",
   "metadata": {},
   "source": [
    "## Testing Other Methods\n",
    "1. Logistic Regression\n",
    "2. Random Forest\n",
    "3. SVC\n",
    "4. XGBoost\n",
    "5. NN"
   ]
  },
  {
   "cell_type": "code",
   "execution_count": 19,
   "id": "35c3408d",
   "metadata": {},
   "outputs": [],
   "source": [
    "from sklearn.linear_model import LogisticRegression"
   ]
  },
  {
   "cell_type": "code",
   "execution_count": 20,
   "id": "b58e9a78",
   "metadata": {},
   "outputs": [
    {
     "name": "stderr",
     "output_type": "stream",
     "text": [
      "/home/grantbeasley/anaconda3/lib/python3.7/site-packages/sklearn/linear_model/_logistic.py:818: ConvergenceWarning: lbfgs failed to converge (status=1):\n",
      "STOP: TOTAL NO. of ITERATIONS REACHED LIMIT.\n",
      "\n",
      "Increase the number of iterations (max_iter) or scale the data as shown in:\n",
      "    https://scikit-learn.org/stable/modules/preprocessing.html\n",
      "Please also refer to the documentation for alternative solver options:\n",
      "    https://scikit-learn.org/stable/modules/linear_model.html#logistic-regression\n",
      "  extra_warning_msg=_LOGISTIC_SOLVER_CONVERGENCE_MSG,\n"
     ]
    },
    {
     "data": {
      "text/plain": [
       "(0.6834708358038643, 0.5302161729383507)"
      ]
     },
     "execution_count": 20,
     "metadata": {},
     "output_type": "execute_result"
    }
   ],
   "source": [
    "lr = LogisticRegression()\n",
    "lr.fit(X_undersampled, y_undersampled)\n",
    "calc_f1_auc_scores(lr, X_test, y_test)"
   ]
  },
  {
   "cell_type": "code",
   "execution_count": 21,
   "id": "086b07b6",
   "metadata": {},
   "outputs": [],
   "source": [
    "from sklearn.svm import SVC"
   ]
  },
  {
   "cell_type": "code",
   "execution_count": 22,
   "id": "2ede01b1",
   "metadata": {},
   "outputs": [
    {
     "ename": "KeyboardInterrupt",
     "evalue": "",
     "output_type": "error",
     "traceback": [
      "\u001b[0;31m---------------------------------------------------------------------------\u001b[0m",
      "\u001b[0;31mKeyboardInterrupt\u001b[0m                         Traceback (most recent call last)",
      "\u001b[0;32m<ipython-input-22-3c04f2b50468>\u001b[0m in \u001b[0;36m<module>\u001b[0;34m\u001b[0m\n\u001b[1;32m      1\u001b[0m \u001b[0msvc\u001b[0m \u001b[0;34m=\u001b[0m \u001b[0mSVC\u001b[0m\u001b[0;34m(\u001b[0m\u001b[0;34m)\u001b[0m\u001b[0;34m\u001b[0m\u001b[0;34m\u001b[0m\u001b[0m\n\u001b[1;32m      2\u001b[0m \u001b[0msvc\u001b[0m\u001b[0;34m.\u001b[0m\u001b[0mfit\u001b[0m\u001b[0;34m(\u001b[0m\u001b[0mX_undersampled\u001b[0m\u001b[0;34m,\u001b[0m \u001b[0my_undersampled\u001b[0m\u001b[0;34m)\u001b[0m\u001b[0;34m\u001b[0m\u001b[0;34m\u001b[0m\u001b[0m\n\u001b[0;32m----> 3\u001b[0;31m \u001b[0mcalc_f1_auc_scores\u001b[0m\u001b[0;34m(\u001b[0m\u001b[0msvc\u001b[0m\u001b[0;34m,\u001b[0m \u001b[0mX_test\u001b[0m\u001b[0;34m,\u001b[0m \u001b[0my_test\u001b[0m\u001b[0;34m)\u001b[0m\u001b[0;34m\u001b[0m\u001b[0;34m\u001b[0m\u001b[0m\n\u001b[0m",
      "\u001b[0;32m<ipython-input-17-c70f4328ecaa>\u001b[0m in \u001b[0;36mcalc_f1_auc_scores\u001b[0;34m(model, X_test_data, y_test_data)\u001b[0m\n\u001b[1;32m      6\u001b[0m \u001b[0;34m\u001b[0m\u001b[0m\n\u001b[1;32m      7\u001b[0m     \u001b[0mauc\u001b[0m \u001b[0;34m=\u001b[0m \u001b[0mroc_auc_score\u001b[0m\u001b[0;34m(\u001b[0m\u001b[0mmodel\u001b[0m\u001b[0;34m.\u001b[0m\u001b[0mpredict\u001b[0m\u001b[0;34m(\u001b[0m\u001b[0mX_test_data\u001b[0m\u001b[0;34m)\u001b[0m\u001b[0;34m,\u001b[0m \u001b[0my_test_data\u001b[0m\u001b[0;34m)\u001b[0m\u001b[0;34m\u001b[0m\u001b[0;34m\u001b[0m\u001b[0m\n\u001b[0;32m----> 8\u001b[0;31m     \u001b[0mf1\u001b[0m \u001b[0;34m=\u001b[0m \u001b[0mf1_score\u001b[0m\u001b[0;34m(\u001b[0m\u001b[0mmodel\u001b[0m\u001b[0;34m.\u001b[0m\u001b[0mpredict\u001b[0m\u001b[0;34m(\u001b[0m\u001b[0mX_test_data\u001b[0m\u001b[0;34m)\u001b[0m\u001b[0;34m,\u001b[0m \u001b[0my_test_data\u001b[0m\u001b[0;34m)\u001b[0m\u001b[0;34m\u001b[0m\u001b[0;34m\u001b[0m\u001b[0m\n\u001b[0m\u001b[1;32m      9\u001b[0m \u001b[0;34m\u001b[0m\u001b[0m\n\u001b[1;32m     10\u001b[0m     \u001b[0;32mreturn\u001b[0m \u001b[0mauc\u001b[0m\u001b[0;34m,\u001b[0m \u001b[0mf1\u001b[0m\u001b[0;34m\u001b[0m\u001b[0;34m\u001b[0m\u001b[0m\n",
      "\u001b[0;32m~/anaconda3/lib/python3.7/site-packages/sklearn/svm/_base.py\u001b[0m in \u001b[0;36mpredict\u001b[0;34m(self, X)\u001b[0m\n\u001b[1;32m    789\u001b[0m             \u001b[0my\u001b[0m \u001b[0;34m=\u001b[0m \u001b[0mnp\u001b[0m\u001b[0;34m.\u001b[0m\u001b[0margmax\u001b[0m\u001b[0;34m(\u001b[0m\u001b[0mself\u001b[0m\u001b[0;34m.\u001b[0m\u001b[0mdecision_function\u001b[0m\u001b[0;34m(\u001b[0m\u001b[0mX\u001b[0m\u001b[0;34m)\u001b[0m\u001b[0;34m,\u001b[0m \u001b[0maxis\u001b[0m\u001b[0;34m=\u001b[0m\u001b[0;36m1\u001b[0m\u001b[0;34m)\u001b[0m\u001b[0;34m\u001b[0m\u001b[0;34m\u001b[0m\u001b[0m\n\u001b[1;32m    790\u001b[0m         \u001b[0;32melse\u001b[0m\u001b[0;34m:\u001b[0m\u001b[0;34m\u001b[0m\u001b[0;34m\u001b[0m\u001b[0m\n\u001b[0;32m--> 791\u001b[0;31m             \u001b[0my\u001b[0m \u001b[0;34m=\u001b[0m \u001b[0msuper\u001b[0m\u001b[0;34m(\u001b[0m\u001b[0;34m)\u001b[0m\u001b[0;34m.\u001b[0m\u001b[0mpredict\u001b[0m\u001b[0;34m(\u001b[0m\u001b[0mX\u001b[0m\u001b[0;34m)\u001b[0m\u001b[0;34m\u001b[0m\u001b[0;34m\u001b[0m\u001b[0m\n\u001b[0m\u001b[1;32m    792\u001b[0m         \u001b[0;32mreturn\u001b[0m \u001b[0mself\u001b[0m\u001b[0;34m.\u001b[0m\u001b[0mclasses_\u001b[0m\u001b[0;34m.\u001b[0m\u001b[0mtake\u001b[0m\u001b[0;34m(\u001b[0m\u001b[0mnp\u001b[0m\u001b[0;34m.\u001b[0m\u001b[0masarray\u001b[0m\u001b[0;34m(\u001b[0m\u001b[0my\u001b[0m\u001b[0;34m,\u001b[0m \u001b[0mdtype\u001b[0m\u001b[0;34m=\u001b[0m\u001b[0mnp\u001b[0m\u001b[0;34m.\u001b[0m\u001b[0mintp\u001b[0m\u001b[0;34m)\u001b[0m\u001b[0;34m)\u001b[0m\u001b[0;34m\u001b[0m\u001b[0;34m\u001b[0m\u001b[0m\n\u001b[1;32m    793\u001b[0m \u001b[0;34m\u001b[0m\u001b[0m\n",
      "\u001b[0;32m~/anaconda3/lib/python3.7/site-packages/sklearn/svm/_base.py\u001b[0m in \u001b[0;36mpredict\u001b[0;34m(self, X)\u001b[0m\n\u001b[1;32m    414\u001b[0m         \u001b[0mX\u001b[0m \u001b[0;34m=\u001b[0m \u001b[0mself\u001b[0m\u001b[0;34m.\u001b[0m\u001b[0m_validate_for_predict\u001b[0m\u001b[0;34m(\u001b[0m\u001b[0mX\u001b[0m\u001b[0;34m)\u001b[0m\u001b[0;34m\u001b[0m\u001b[0;34m\u001b[0m\u001b[0m\n\u001b[1;32m    415\u001b[0m         \u001b[0mpredict\u001b[0m \u001b[0;34m=\u001b[0m \u001b[0mself\u001b[0m\u001b[0;34m.\u001b[0m\u001b[0m_sparse_predict\u001b[0m \u001b[0;32mif\u001b[0m \u001b[0mself\u001b[0m\u001b[0;34m.\u001b[0m\u001b[0m_sparse\u001b[0m \u001b[0;32melse\u001b[0m \u001b[0mself\u001b[0m\u001b[0;34m.\u001b[0m\u001b[0m_dense_predict\u001b[0m\u001b[0;34m\u001b[0m\u001b[0;34m\u001b[0m\u001b[0m\n\u001b[0;32m--> 416\u001b[0;31m         \u001b[0;32mreturn\u001b[0m \u001b[0mpredict\u001b[0m\u001b[0;34m(\u001b[0m\u001b[0mX\u001b[0m\u001b[0;34m)\u001b[0m\u001b[0;34m\u001b[0m\u001b[0;34m\u001b[0m\u001b[0m\n\u001b[0m\u001b[1;32m    417\u001b[0m \u001b[0;34m\u001b[0m\u001b[0m\n\u001b[1;32m    418\u001b[0m     \u001b[0;32mdef\u001b[0m \u001b[0m_dense_predict\u001b[0m\u001b[0;34m(\u001b[0m\u001b[0mself\u001b[0m\u001b[0;34m,\u001b[0m \u001b[0mX\u001b[0m\u001b[0;34m)\u001b[0m\u001b[0;34m:\u001b[0m\u001b[0;34m\u001b[0m\u001b[0;34m\u001b[0m\u001b[0m\n",
      "\u001b[0;32m~/anaconda3/lib/python3.7/site-packages/sklearn/svm/_base.py\u001b[0m in \u001b[0;36m_dense_predict\u001b[0;34m(self, X)\u001b[0m\n\u001b[1;32m    447\u001b[0m             \u001b[0mcoef0\u001b[0m\u001b[0;34m=\u001b[0m\u001b[0mself\u001b[0m\u001b[0;34m.\u001b[0m\u001b[0mcoef0\u001b[0m\u001b[0;34m,\u001b[0m\u001b[0;34m\u001b[0m\u001b[0;34m\u001b[0m\u001b[0m\n\u001b[1;32m    448\u001b[0m             \u001b[0mgamma\u001b[0m\u001b[0;34m=\u001b[0m\u001b[0mself\u001b[0m\u001b[0;34m.\u001b[0m\u001b[0m_gamma\u001b[0m\u001b[0;34m,\u001b[0m\u001b[0;34m\u001b[0m\u001b[0;34m\u001b[0m\u001b[0m\n\u001b[0;32m--> 449\u001b[0;31m             \u001b[0mcache_size\u001b[0m\u001b[0;34m=\u001b[0m\u001b[0mself\u001b[0m\u001b[0;34m.\u001b[0m\u001b[0mcache_size\u001b[0m\u001b[0;34m,\u001b[0m\u001b[0;34m\u001b[0m\u001b[0;34m\u001b[0m\u001b[0m\n\u001b[0m\u001b[1;32m    450\u001b[0m         )\n\u001b[1;32m    451\u001b[0m \u001b[0;34m\u001b[0m\u001b[0m\n",
      "\u001b[0;31mKeyboardInterrupt\u001b[0m: "
     ]
    }
   ],
   "source": [
    "svc = SVC()\n",
    "svc.fit(X_undersampled, y_undersampled)\n",
    "calc_f1_auc_scores(svc, X_test, y_test)"
   ]
  },
  {
   "cell_type": "code",
   "execution_count": 130,
   "id": "61ae4c8a",
   "metadata": {},
   "outputs": [
    {
     "data": {
      "text/plain": [
       "(0.686296232417453, 0.5416481069042317)"
      ]
     },
     "execution_count": 130,
     "metadata": {},
     "output_type": "execute_result"
    }
   ],
   "source": [
    "from sklearn.ensemble import RandomForestClassifier\n",
    "\n",
    "rf = RandomForestClassifier()\n",
    "rf.fit(X_undersampled, y_undersampled)\n",
    "calc_f1_auc_scores(rf, X_test, y_test)"
   ]
  },
  {
   "cell_type": "code",
   "execution_count": 132,
   "id": "8b268b01",
   "metadata": {},
   "outputs": [
    {
     "data": {
      "text/plain": [
       "(0.9902235201287007, 0.9895112955278931)"
      ]
     },
     "execution_count": 132,
     "metadata": {},
     "output_type": "execute_result"
    }
   ],
   "source": [
    "from sklearn.neural_network import MLPClassifier\n",
    "nn = MLPClassifier(hidden_layer_sizes=(100,100)).fit(X_undersampled, y_undersampled)\n",
    "calc_f1_auc_scores(nn, X_test, y_test)"
   ]
  },
  {
   "cell_type": "code",
   "execution_count": null,
   "id": "c14bab62",
   "metadata": {},
   "outputs": [],
   "source": []
  },
  {
   "cell_type": "code",
   "execution_count": 2,
   "id": "765ec246",
   "metadata": {},
   "outputs": [],
   "source": [
    "## Running 10 Subsamples of the data\n",
    "import numpy as np\n",
    "\n",
    "data = np.load('processed_features.npy')\n",
    "\n",
    "X, y = data[:,:-1], data[:,-1].reshape(-1,1)\n",
    "\n",
    "from sklearn.model_selection import train_test_split\n",
    "X_train, X_test, y_train, y_test = train_test_split(X, y)\n",
    "y_train, y_test = y_train.astype(int), y_test.astype(int)\n",
    "y_ohe = np.zeros(shape=[y_test.shape[0],3])\n",
    "y_ohe[np.arange(y_ohe.shape[0]), y_test.flatten()] = 1\n",
    "\n",
    "_,na,_ = np.where([np.isnan(X_test)])\n",
    "X_test = np.delete(X_test, na, axis=0)\n",
    "y_test = np.delete(y_test, na, axis=0)\n",
    "y_ohe = np.delete(y_ohe, na, axis=0)\n",
    "\n",
    "\n",
    "from imblearn.under_sampling import RandomUnderSampler\n",
    "import xgboost as xgb\n",
    "from xgboost import XGBClassifier\n",
    "from sklearn.linear_model import LogisticRegression\n",
    "from sklearn.svm import LinearSVC\n",
    "from sklearn.ensemble import RandomForestClassifier\n",
    "from sklearn.neural_network import MLPClassifier\n",
    "\n",
    "classifier_scores = {\n",
    "    'xgb': {\n",
    "        'model': XGBClassifier(),\n",
    "        'f1': [],\n",
    "        'auc': []\n",
    "    },\n",
    "    'lr': {\n",
    "        'model': LogisticRegression(),\n",
    "        'f1': [],\n",
    "        'auc': []\n",
    "    },\n",
    "    'rf': {\n",
    "        'model': RandomForestClassifier(),\n",
    "        'f1': [],\n",
    "        'auc': []\n",
    "    },\n",
    "    'nn': {\n",
    "        'model': MLPClassifier(hidden_layer_sizes=(100,100)),\n",
    "        'f1': [],\n",
    "        'auc': []\n",
    "    },\n",
    "    \n",
    "}\n",
    "\n",
    "\n",
    "from sklearn.metrics import roc_auc_score, f1_score\n",
    "\n",
    "def calc_f1_auc_scores(model, X_test_data, y_test_data, y_test_ohe=None):\n",
    "    \n",
    "    auc = roc_auc_score(y_test_ohe, model.predict_proba(X_test_data), multi_class='ovr')\n",
    "    f1 = f1_score(y_test_data, model.predict(X_test_data), average='macro')\n",
    "    \n",
    "    return auc, f1"
   ]
  },
  {
   "cell_type": "code",
   "execution_count": 13,
   "id": "e4131cfd",
   "metadata": {},
   "outputs": [
    {
     "name": "stdout",
     "output_type": "stream",
     "text": [
      "0\n",
      "xgb\n",
      "lr\n"
     ]
    },
    {
     "name": "stderr",
     "output_type": "stream",
     "text": [
      "/home/grantbeasley/anaconda3/lib/python3.7/site-packages/sklearn/linear_model/_logistic.py:818: ConvergenceWarning: lbfgs failed to converge (status=1):\n",
      "STOP: TOTAL NO. of ITERATIONS REACHED LIMIT.\n",
      "\n",
      "Increase the number of iterations (max_iter) or scale the data as shown in:\n",
      "    https://scikit-learn.org/stable/modules/preprocessing.html\n",
      "Please also refer to the documentation for alternative solver options:\n",
      "    https://scikit-learn.org/stable/modules/linear_model.html#logistic-regression\n",
      "  extra_warning_msg=_LOGISTIC_SOLVER_CONVERGENCE_MSG,\n"
     ]
    },
    {
     "name": "stdout",
     "output_type": "stream",
     "text": [
      "rf\n",
      "nn\n",
      "1\n",
      "xgb\n",
      "lr\n"
     ]
    },
    {
     "name": "stderr",
     "output_type": "stream",
     "text": [
      "/home/grantbeasley/anaconda3/lib/python3.7/site-packages/sklearn/linear_model/_logistic.py:818: ConvergenceWarning: lbfgs failed to converge (status=1):\n",
      "STOP: TOTAL NO. of ITERATIONS REACHED LIMIT.\n",
      "\n",
      "Increase the number of iterations (max_iter) or scale the data as shown in:\n",
      "    https://scikit-learn.org/stable/modules/preprocessing.html\n",
      "Please also refer to the documentation for alternative solver options:\n",
      "    https://scikit-learn.org/stable/modules/linear_model.html#logistic-regression\n",
      "  extra_warning_msg=_LOGISTIC_SOLVER_CONVERGENCE_MSG,\n"
     ]
    },
    {
     "name": "stdout",
     "output_type": "stream",
     "text": [
      "rf\n",
      "nn\n",
      "2\n",
      "xgb\n",
      "lr\n"
     ]
    },
    {
     "name": "stderr",
     "output_type": "stream",
     "text": [
      "/home/grantbeasley/anaconda3/lib/python3.7/site-packages/sklearn/linear_model/_logistic.py:818: ConvergenceWarning: lbfgs failed to converge (status=1):\n",
      "STOP: TOTAL NO. of ITERATIONS REACHED LIMIT.\n",
      "\n",
      "Increase the number of iterations (max_iter) or scale the data as shown in:\n",
      "    https://scikit-learn.org/stable/modules/preprocessing.html\n",
      "Please also refer to the documentation for alternative solver options:\n",
      "    https://scikit-learn.org/stable/modules/linear_model.html#logistic-regression\n",
      "  extra_warning_msg=_LOGISTIC_SOLVER_CONVERGENCE_MSG,\n"
     ]
    },
    {
     "name": "stdout",
     "output_type": "stream",
     "text": [
      "rf\n",
      "nn\n",
      "3\n",
      "xgb\n",
      "lr\n"
     ]
    },
    {
     "name": "stderr",
     "output_type": "stream",
     "text": [
      "/home/grantbeasley/anaconda3/lib/python3.7/site-packages/sklearn/linear_model/_logistic.py:818: ConvergenceWarning: lbfgs failed to converge (status=1):\n",
      "STOP: TOTAL NO. of ITERATIONS REACHED LIMIT.\n",
      "\n",
      "Increase the number of iterations (max_iter) or scale the data as shown in:\n",
      "    https://scikit-learn.org/stable/modules/preprocessing.html\n",
      "Please also refer to the documentation for alternative solver options:\n",
      "    https://scikit-learn.org/stable/modules/linear_model.html#logistic-regression\n",
      "  extra_warning_msg=_LOGISTIC_SOLVER_CONVERGENCE_MSG,\n"
     ]
    },
    {
     "name": "stdout",
     "output_type": "stream",
     "text": [
      "rf\n",
      "nn\n",
      "4\n",
      "xgb\n",
      "lr\n"
     ]
    },
    {
     "name": "stderr",
     "output_type": "stream",
     "text": [
      "/home/grantbeasley/anaconda3/lib/python3.7/site-packages/sklearn/linear_model/_logistic.py:818: ConvergenceWarning: lbfgs failed to converge (status=1):\n",
      "STOP: TOTAL NO. of ITERATIONS REACHED LIMIT.\n",
      "\n",
      "Increase the number of iterations (max_iter) or scale the data as shown in:\n",
      "    https://scikit-learn.org/stable/modules/preprocessing.html\n",
      "Please also refer to the documentation for alternative solver options:\n",
      "    https://scikit-learn.org/stable/modules/linear_model.html#logistic-regression\n",
      "  extra_warning_msg=_LOGISTIC_SOLVER_CONVERGENCE_MSG,\n"
     ]
    },
    {
     "name": "stdout",
     "output_type": "stream",
     "text": [
      "rf\n",
      "nn\n",
      "5\n",
      "xgb\n",
      "lr\n"
     ]
    },
    {
     "name": "stderr",
     "output_type": "stream",
     "text": [
      "/home/grantbeasley/anaconda3/lib/python3.7/site-packages/sklearn/linear_model/_logistic.py:818: ConvergenceWarning: lbfgs failed to converge (status=1):\n",
      "STOP: TOTAL NO. of ITERATIONS REACHED LIMIT.\n",
      "\n",
      "Increase the number of iterations (max_iter) or scale the data as shown in:\n",
      "    https://scikit-learn.org/stable/modules/preprocessing.html\n",
      "Please also refer to the documentation for alternative solver options:\n",
      "    https://scikit-learn.org/stable/modules/linear_model.html#logistic-regression\n",
      "  extra_warning_msg=_LOGISTIC_SOLVER_CONVERGENCE_MSG,\n"
     ]
    },
    {
     "name": "stdout",
     "output_type": "stream",
     "text": [
      "rf\n",
      "nn\n",
      "6\n",
      "xgb\n",
      "lr\n"
     ]
    },
    {
     "name": "stderr",
     "output_type": "stream",
     "text": [
      "/home/grantbeasley/anaconda3/lib/python3.7/site-packages/sklearn/linear_model/_logistic.py:818: ConvergenceWarning: lbfgs failed to converge (status=1):\n",
      "STOP: TOTAL NO. of ITERATIONS REACHED LIMIT.\n",
      "\n",
      "Increase the number of iterations (max_iter) or scale the data as shown in:\n",
      "    https://scikit-learn.org/stable/modules/preprocessing.html\n",
      "Please also refer to the documentation for alternative solver options:\n",
      "    https://scikit-learn.org/stable/modules/linear_model.html#logistic-regression\n",
      "  extra_warning_msg=_LOGISTIC_SOLVER_CONVERGENCE_MSG,\n"
     ]
    },
    {
     "name": "stdout",
     "output_type": "stream",
     "text": [
      "rf\n",
      "nn\n",
      "7\n",
      "xgb\n",
      "lr\n"
     ]
    },
    {
     "name": "stderr",
     "output_type": "stream",
     "text": [
      "/home/grantbeasley/anaconda3/lib/python3.7/site-packages/sklearn/linear_model/_logistic.py:818: ConvergenceWarning: lbfgs failed to converge (status=1):\n",
      "STOP: TOTAL NO. of ITERATIONS REACHED LIMIT.\n",
      "\n",
      "Increase the number of iterations (max_iter) or scale the data as shown in:\n",
      "    https://scikit-learn.org/stable/modules/preprocessing.html\n",
      "Please also refer to the documentation for alternative solver options:\n",
      "    https://scikit-learn.org/stable/modules/linear_model.html#logistic-regression\n",
      "  extra_warning_msg=_LOGISTIC_SOLVER_CONVERGENCE_MSG,\n"
     ]
    },
    {
     "name": "stdout",
     "output_type": "stream",
     "text": [
      "rf\n",
      "nn\n",
      "8\n",
      "xgb\n",
      "lr\n"
     ]
    },
    {
     "name": "stderr",
     "output_type": "stream",
     "text": [
      "/home/grantbeasley/anaconda3/lib/python3.7/site-packages/sklearn/linear_model/_logistic.py:818: ConvergenceWarning: lbfgs failed to converge (status=1):\n",
      "STOP: TOTAL NO. of ITERATIONS REACHED LIMIT.\n",
      "\n",
      "Increase the number of iterations (max_iter) or scale the data as shown in:\n",
      "    https://scikit-learn.org/stable/modules/preprocessing.html\n",
      "Please also refer to the documentation for alternative solver options:\n",
      "    https://scikit-learn.org/stable/modules/linear_model.html#logistic-regression\n",
      "  extra_warning_msg=_LOGISTIC_SOLVER_CONVERGENCE_MSG,\n"
     ]
    },
    {
     "name": "stdout",
     "output_type": "stream",
     "text": [
      "rf\n",
      "nn\n",
      "9\n",
      "xgb\n",
      "lr\n"
     ]
    },
    {
     "name": "stderr",
     "output_type": "stream",
     "text": [
      "/home/grantbeasley/anaconda3/lib/python3.7/site-packages/sklearn/linear_model/_logistic.py:818: ConvergenceWarning: lbfgs failed to converge (status=1):\n",
      "STOP: TOTAL NO. of ITERATIONS REACHED LIMIT.\n",
      "\n",
      "Increase the number of iterations (max_iter) or scale the data as shown in:\n",
      "    https://scikit-learn.org/stable/modules/preprocessing.html\n",
      "Please also refer to the documentation for alternative solver options:\n",
      "    https://scikit-learn.org/stable/modules/linear_model.html#logistic-regression\n",
      "  extra_warning_msg=_LOGISTIC_SOLVER_CONVERGENCE_MSG,\n"
     ]
    },
    {
     "name": "stdout",
     "output_type": "stream",
     "text": [
      "rf\n",
      "nn\n"
     ]
    }
   ],
   "source": [
    "## Running 10 rounds of each model\n",
    "\n",
    "import pickle\n",
    "\n",
    "for i in range(10):\n",
    "    \n",
    "    print(i)\n",
    "    # Random undersample of dataset for balanced data\n",
    "    rus = RandomUnderSampler()\n",
    "    X_undersampled, y_undersampled = rus.fit_resample(X_train, y_train)\n",
    "    # Shuffle dataset\n",
    "    n = X_undersampled.shape[0]\n",
    "\n",
    "    new_idx = np.random.permutation(np.arange(n))\n",
    "    X_undersampled = X_undersampled[new_idx]\n",
    "    y_undersampled = y_undersampled[new_idx]\n",
    "    \n",
    "    _,na,_ = np.where([np.isnan(X_undersampled)])\n",
    "    X_undersampled = np.delete(X_undersampled, na, axis=0)\n",
    "    y_undersampled = np.delete(y_undersampled, na, axis=0)\n",
    "    \n",
    "    for clf in classifier_scores.keys():\n",
    "        print(clf)\n",
    "        classifier_scores[clf]['model'].fit(X_undersampled, y_undersampled)\n",
    "        auc, f1 = calc_f1_auc_scores(classifier_scores[clf]['model'], X_test, y_test, y_ohe)\n",
    "        classifier_scores[clf]['f1'].append(f1)\n",
    "        classifier_scores[clf]['auc'].append(auc)\n",
    "        \n",
    "    with open(f'result_dict_{i}.pkl', 'wb') as f:\n",
    "        pickle.dump(classifier_scores, f)\n",
    "        "
   ]
  },
  {
   "cell_type": "code",
   "execution_count": 17,
   "id": "42988c24",
   "metadata": {},
   "outputs": [],
   "source": [
    "with open('result_dict_9.pkl', 'rb') as f:\n",
    "    test = pickle.load(f)"
   ]
  },
  {
   "cell_type": "code",
   "execution_count": 18,
   "id": "34966ba2",
   "metadata": {},
   "outputs": [
    {
     "data": {
      "text/plain": [
       "{'xgb': {'model': XGBClassifier(base_score=0.5, booster='gbtree', colsample_bylevel=1,\n",
       "                colsample_bynode=1, colsample_bytree=1, gamma=0, gpu_id=-1,\n",
       "                importance_type='gain', interaction_constraints='',\n",
       "                learning_rate=0.300000012, max_delta_step=0, max_depth=6,\n",
       "                min_child_weight=1, missing=nan, monotone_constraints='()',\n",
       "                n_estimators=100, n_jobs=0, num_parallel_tree=1,\n",
       "                objective='multi:softprob', random_state=0, reg_alpha=0,\n",
       "                reg_lambda=1, scale_pos_weight=None, subsample=1,\n",
       "                tree_method='exact', validate_parameters=False, verbosity=None),\n",
       "  'f1': [0.9938243940221296,\n",
       "   0.9937070879158417,\n",
       "   0.9936063971478628,\n",
       "   0.9938524495847255,\n",
       "   0.9934420547663744,\n",
       "   0.9936939576304883,\n",
       "   0.9938118818090356,\n",
       "   0.9936276132713889,\n",
       "   0.9935520541694887,\n",
       "   0.9934886665974524],\n",
       "  'auc': [0.9999655769037056,\n",
       "   0.9999654496833291,\n",
       "   0.999967662243475,\n",
       "   0.9999651085469309,\n",
       "   0.9999634803499454,\n",
       "   0.9999696323394843,\n",
       "   0.9999652432068432,\n",
       "   0.9999669325821609,\n",
       "   0.9999597736358264,\n",
       "   0.9999647543587841]},\n",
       " 'lr': {'model': LogisticRegression(),\n",
       "  'f1': [0.9800051130549116,\n",
       "   0.9798488632388874,\n",
       "   0.9800811870249504,\n",
       "   0.9798358506461741,\n",
       "   0.9801668580611181,\n",
       "   0.9781450364664996,\n",
       "   0.9778369315723149,\n",
       "   0.97817946614961,\n",
       "   0.9795266146765655,\n",
       "   0.9793375371940226],\n",
       "  'auc': [0.9994006664843841,\n",
       "   0.9993004099996258,\n",
       "   0.9993982989308362,\n",
       "   0.9993506242296846,\n",
       "   0.9993116273793018,\n",
       "   0.9992911497272906,\n",
       "   0.9992685094441306,\n",
       "   0.9993155795928986,\n",
       "   0.9993253840940316,\n",
       "   0.9992710498803992]},\n",
       " 'rf': {'model': RandomForestClassifier(),\n",
       "  'f1': [0.9835565700852552,\n",
       "   0.9836104691988652,\n",
       "   0.9838421821913407,\n",
       "   0.9833949041948414,\n",
       "   0.9836123948702072,\n",
       "   0.9836564524178467,\n",
       "   0.983009628456211,\n",
       "   0.9835596380755319,\n",
       "   0.9837110574452733,\n",
       "   0.9833097141274049],\n",
       "  'auc': [0.9996891232291113,\n",
       "   0.9997060177170329,\n",
       "   0.9997306934068799,\n",
       "   0.999701030318996,\n",
       "   0.9997220197730582,\n",
       "   0.9997047317681128,\n",
       "   0.9997009169987078,\n",
       "   0.9997018985987585,\n",
       "   0.9997158926893185,\n",
       "   0.9996831355020711]},\n",
       " 'nn': {'model': MLPClassifier(hidden_layer_sizes=(100, 100)),\n",
       "  'f1': [0.9992165380872301,\n",
       "   0.9993092297959292,\n",
       "   0.999569040494151,\n",
       "   0.996940417490241,\n",
       "   0.9989720759379487,\n",
       "   0.9989406868350459,\n",
       "   0.9994109923954558,\n",
       "   0.9993341893816847,\n",
       "   0.999056151415342,\n",
       "   0.9990185820131002],\n",
       "  'auc': [0.9999981556456664,\n",
       "   0.9999997155650672,\n",
       "   0.9999871614917967,\n",
       "   0.9999992593679735,\n",
       "   0.9999768389606438,\n",
       "   0.9999899704908288,\n",
       "   0.999995931486238,\n",
       "   0.9999989123659438,\n",
       "   0.9999983303247039,\n",
       "   0.9999945905910753]}}"
      ]
     },
     "execution_count": 18,
     "metadata": {},
     "output_type": "execute_result"
    }
   ],
   "source": [
    "test"
   ]
  },
  {
   "cell_type": "code",
   "execution_count": 7,
   "id": "8a735a0c",
   "metadata": {},
   "outputs": [
    {
     "data": {
      "text/plain": [
       "<BarContainer object of 37 artists>"
      ]
     },
     "execution_count": 7,
     "metadata": {},
     "output_type": "execute_result"
    },
    {
     "data": {
      "image/png": "[encoded data removed]",
      "text/plain": [
       "<Figure size 864x288 with 1 Axes>"
      ]
     },
     "metadata": {
      "needs_background": "light"
     },
     "output_type": "display_data"
    }
   ],
   "source": [
    "import matplotlib.pyplot as plt\n",
    "columns = ['P1', 'P2','P3', 'P4', 'P5', \n",
    "           'P11', 'P12', 'P13', 'P14', 'P15',\n",
    "           'P21', 'P22', 'P23', 'P24', 'P25', \n",
    "           'P31', 'P32', 'P33', 'P34', 'P35',\n",
    "           'P41', 'P42', 'P43', 'P44', 'P45',\n",
    "           'P51', 'P52', 'P53', '54', 'P55',\n",
    "           'Z1', 'Z2', 'Z3', 'Z4', 'Z5', 'Z6', 'Hz']\n",
    "\n",
    "plt.figure(figsize=(12,4))\n",
    "plt.bar(columns, classifier_scores['rf']['model'].feature_importances_)"
   ]
  },
  {
   "cell_type": "code",
   "execution_count": 19,
   "id": "ed7db178",
   "metadata": {},
   "outputs": [
    {
     "name": "stdout",
     "output_type": "stream",
     "text": [
      "Looking in indexes: https://pypi.org/simple, https://pypi.ngc.nvidia.com\n",
      "Collecting shap\n",
      "  Downloading shap-0.41.0-cp37-cp37m-manylinux_2_12_x86_64.manylinux2010_x86_64.whl (569 kB)\n",
      "\u001b[K     |████████████████████████████████| 569 kB 1.1 MB/s eta 0:00:01\n",
      "\u001b[?25hRequirement already satisfied: scikit-learn in /home/grantbeasley/anaconda3/lib/python3.7/site-packages (from shap) (1.0.2)\n",
      "Requirement already satisfied: numba in /home/grantbeasley/anaconda3/lib/python3.7/site-packages (from shap) (0.55.1)\n",
      "Requirement already satisfied: packaging>20.9 in /home/grantbeasley/anaconda3/lib/python3.7/site-packages (from shap) (21.3)\n",
      "Collecting slicer==0.0.7\n",
      "  Downloading slicer-0.0.7-py3-none-any.whl (14 kB)\n",
      "Requirement already satisfied: tqdm>4.25.0 in /home/grantbeasley/anaconda3/lib/python3.7/site-packages (from shap) (4.64.0)\n",
      "Requirement already satisfied: scipy in /home/grantbeasley/anaconda3/lib/python3.7/site-packages (from shap) (1.7.3)\n",
      "Requirement already satisfied: pandas in /home/grantbeasley/anaconda3/lib/python3.7/site-packages (from shap) (1.3.4)\n",
      "Requirement already satisfied: cloudpickle in /home/grantbeasley/anaconda3/lib/python3.7/site-packages (from shap) (2.0.0)\n",
      "Requirement already satisfied: numpy in /home/grantbeasley/anaconda3/lib/python3.7/site-packages (from shap) (1.21.5)\n",
      "Requirement already satisfied: pyparsing!=3.0.5,>=2.0.2 in /home/grantbeasley/anaconda3/lib/python3.7/site-packages (from packaging>20.9->shap) (3.0.4)\n",
      "Requirement already satisfied: llvmlite<0.39,>=0.38.0rc1 in /home/grantbeasley/anaconda3/lib/python3.7/site-packages (from numba->shap) (0.38.0)\n",
      "Requirement already satisfied: setuptools in /home/grantbeasley/anaconda3/lib/python3.7/site-packages (from numba->shap) (61.2.0)\n",
      "Requirement already satisfied: python-dateutil>=2.7.3 in /home/grantbeasley/anaconda3/lib/python3.7/site-packages (from pandas->shap) (2.8.2)\n",
      "Requirement already satisfied: pytz>=2017.3 in /home/grantbeasley/anaconda3/lib/python3.7/site-packages (from pandas->shap) (2021.3)\n",
      "Requirement already satisfied: six>=1.5 in /home/grantbeasley/anaconda3/lib/python3.7/site-packages (from python-dateutil>=2.7.3->pandas->shap) (1.16.0)\n",
      "Requirement already satisfied: threadpoolctl>=2.0.0 in /home/grantbeasley/anaconda3/lib/python3.7/site-packages (from scikit-learn->shap) (2.2.0)\n",
      "Requirement already satisfied: joblib>=0.11 in /home/grantbeasley/anaconda3/lib/python3.7/site-packages (from scikit-learn->shap) (1.1.0)\n",
      "Installing collected packages: slicer, shap\n",
      "Successfully installed shap-0.41.0 slicer-0.0.7\n"
     ]
    }
   ],
   "source": [
    "!pip install shap"
   ]
  },
  {
   "cell_type": "code",
   "execution_count": 16,
   "id": "36192f48",
   "metadata": {},
   "outputs": [],
   "source": [
    "import shap\n",
    "import pickle\n",
    "import matplotlib.pyplot as plt\n",
    "plt.style.use('fivethirtyeight')"
   ]
  },
  {
   "cell_type": "code",
   "execution_count": 6,
   "id": "56cadbbb",
   "metadata": {},
   "outputs": [],
   "source": [
    "with open('result_dict_9.pkl', 'rb') as f:\n",
    "    classifier_scores = pickle.load(f)"
   ]
  },
  {
   "cell_type": "code",
   "execution_count": 23,
   "id": "a1f39d86",
   "metadata": {},
   "outputs": [],
   "source": [
    "explainer = shap.TreeExplainer(classifier_scores['rf']['model'], approximate=True)\n",
    "shap_values = explainer.shap_values(X_test[np.random.choice(np.arange(X_test.shape[0]), size=200)])"
   ]
  },
  {
   "cell_type": "code",
   "execution_count": 21,
   "id": "70472394",
   "metadata": {},
   "outputs": [
    {
     "data": {
      "image/png": "[encoded data removed]",
      "text/plain": [
       "<Figure size 576x684 with 1 Axes>"
      ]
     },
     "metadata": {},
     "output_type": "display_data"
    }
   ],
   "source": [
    "features = ['P1', 'P2','P3', 'P4', 'P5', \n",
    "           'P11', 'P12', 'P13', 'P14', 'P15',\n",
    "           'P21', 'P22', 'P23', 'P24', 'P25', \n",
    "           'P31', 'P32', 'P33', 'P34', 'P35',\n",
    "           'P41', 'P42', 'P43', 'P44', 'P45',\n",
    "           'P51', 'P52', 'P53', '54', 'P55',\n",
    "           'Z1', 'Z2', 'Z3', 'Z4', 'Z5', 'Z6', 'Hz']\n",
    "\n",
    "plt.title('Shap Values - Mean Importance of Features by Class')\n",
    "shap.summary_plot(shap_values, X_test[:100000], feature_names=features)\n"
   ]
  },
  {
   "cell_type": "markdown",
   "id": "c8f2d337",
   "metadata": {},
   "source": [
    "## Early Prediction"
   ]
  },
  {
   "cell_type": "code",
   "execution_count": 14,
   "id": "d564b12f",
   "metadata": {},
   "outputs": [
    {
     "name": "stdout",
     "output_type": "stream",
     "text": [
      "Length: 14. Loop: 4\n",
      "xgb\n",
      "lr\n"
     ]
    },
    {
     "name": "stderr",
     "output_type": "stream",
     "text": [
      "/home/grantbeasley/anaconda3/lib/python3.7/site-packages/sklearn/linear_model/_logistic.py:818: ConvergenceWarning: lbfgs failed to converge (status=1):\n",
      "STOP: TOTAL NO. of ITERATIONS REACHED LIMIT.\n",
      "\n",
      "Increase the number of iterations (max_iter) or scale the data as shown in:\n",
      "    https://scikit-learn.org/stable/modules/preprocessing.html\n",
      "Please also refer to the documentation for alternative solver options:\n",
      "    https://scikit-learn.org/stable/modules/linear_model.html#logistic-regression\n",
      "  extra_warning_msg=_LOGISTIC_SOLVER_CONVERGENCE_MSG,\n"
     ]
    },
    {
     "name": "stdout",
     "output_type": "stream",
     "text": [
      "rf\n",
      "nn\n"
     ]
    },
    {
     "name": "stderr",
     "output_type": "stream",
     "text": [
      "/home/grantbeasley/anaconda3/lib/python3.7/site-packages/sklearn/neural_network/_multilayer_perceptron.py:696: ConvergenceWarning: Stochastic Optimizer: Maximum iterations (200) reached and the optimization hasn't converged yet.\n",
      "  ConvergenceWarning,\n"
     ]
    },
    {
     "name": "stdout",
     "output_type": "stream",
     "text": [
      "Checkpoint: Length 14 complete\n",
      "Length: 14. Loop: 5\n",
      "xgb\n",
      "lr\n"
     ]
    },
    {
     "name": "stderr",
     "output_type": "stream",
     "text": [
      "/home/grantbeasley/anaconda3/lib/python3.7/site-packages/sklearn/linear_model/_logistic.py:818: ConvergenceWarning: lbfgs failed to converge (status=1):\n",
      "STOP: TOTAL NO. of ITERATIONS REACHED LIMIT.\n",
      "\n",
      "Increase the number of iterations (max_iter) or scale the data as shown in:\n",
      "    https://scikit-learn.org/stable/modules/preprocessing.html\n",
      "Please also refer to the documentation for alternative solver options:\n",
      "    https://scikit-learn.org/stable/modules/linear_model.html#logistic-regression\n",
      "  extra_warning_msg=_LOGISTIC_SOLVER_CONVERGENCE_MSG,\n"
     ]
    },
    {
     "name": "stdout",
     "output_type": "stream",
     "text": [
      "rf\n",
      "nn\n",
      "Checkpoint: Length 14 complete\n",
      "Length: 14. Loop: 6\n",
      "xgb\n",
      "lr\n"
     ]
    },
    {
     "name": "stderr",
     "output_type": "stream",
     "text": [
      "/home/grantbeasley/anaconda3/lib/python3.7/site-packages/sklearn/linear_model/_logistic.py:818: ConvergenceWarning: lbfgs failed to converge (status=1):\n",
      "STOP: TOTAL NO. of ITERATIONS REACHED LIMIT.\n",
      "\n",
      "Increase the number of iterations (max_iter) or scale the data as shown in:\n",
      "    https://scikit-learn.org/stable/modules/preprocessing.html\n",
      "Please also refer to the documentation for alternative solver options:\n",
      "    https://scikit-learn.org/stable/modules/linear_model.html#logistic-regression\n",
      "  extra_warning_msg=_LOGISTIC_SOLVER_CONVERGENCE_MSG,\n"
     ]
    },
    {
     "name": "stdout",
     "output_type": "stream",
     "text": [
      "rf\n",
      "nn\n",
      "Checkpoint: Length 14 complete\n",
      "Length: 14. Loop: 7\n",
      "xgb\n",
      "lr\n"
     ]
    },
    {
     "name": "stderr",
     "output_type": "stream",
     "text": [
      "/home/grantbeasley/anaconda3/lib/python3.7/site-packages/sklearn/linear_model/_logistic.py:818: ConvergenceWarning: lbfgs failed to converge (status=1):\n",
      "STOP: TOTAL NO. of ITERATIONS REACHED LIMIT.\n",
      "\n",
      "Increase the number of iterations (max_iter) or scale the data as shown in:\n",
      "    https://scikit-learn.org/stable/modules/preprocessing.html\n",
      "Please also refer to the documentation for alternative solver options:\n",
      "    https://scikit-learn.org/stable/modules/linear_model.html#logistic-regression\n",
      "  extra_warning_msg=_LOGISTIC_SOLVER_CONVERGENCE_MSG,\n"
     ]
    },
    {
     "name": "stdout",
     "output_type": "stream",
     "text": [
      "rf\n",
      "nn\n",
      "Checkpoint: Length 14 complete\n",
      "Length: 14. Loop: 8\n",
      "xgb\n",
      "lr\n"
     ]
    },
    {
     "name": "stderr",
     "output_type": "stream",
     "text": [
      "/home/grantbeasley/anaconda3/lib/python3.7/site-packages/sklearn/linear_model/_logistic.py:818: ConvergenceWarning: lbfgs failed to converge (status=1):\n",
      "STOP: TOTAL NO. of ITERATIONS REACHED LIMIT.\n",
      "\n",
      "Increase the number of iterations (max_iter) or scale the data as shown in:\n",
      "    https://scikit-learn.org/stable/modules/preprocessing.html\n",
      "Please also refer to the documentation for alternative solver options:\n",
      "    https://scikit-learn.org/stable/modules/linear_model.html#logistic-regression\n",
      "  extra_warning_msg=_LOGISTIC_SOLVER_CONVERGENCE_MSG,\n"
     ]
    },
    {
     "name": "stdout",
     "output_type": "stream",
     "text": [
      "rf\n",
      "nn\n",
      "Checkpoint: Length 14 complete\n",
      "Length: 14. Loop: 9\n",
      "xgb\n",
      "lr\n"
     ]
    },
    {
     "name": "stderr",
     "output_type": "stream",
     "text": [
      "/home/grantbeasley/anaconda3/lib/python3.7/site-packages/sklearn/linear_model/_logistic.py:818: ConvergenceWarning: lbfgs failed to converge (status=1):\n",
      "STOP: TOTAL NO. of ITERATIONS REACHED LIMIT.\n",
      "\n",
      "Increase the number of iterations (max_iter) or scale the data as shown in:\n",
      "    https://scikit-learn.org/stable/modules/preprocessing.html\n",
      "Please also refer to the documentation for alternative solver options:\n",
      "    https://scikit-learn.org/stable/modules/linear_model.html#logistic-regression\n",
      "  extra_warning_msg=_LOGISTIC_SOLVER_CONVERGENCE_MSG,\n"
     ]
    },
    {
     "name": "stdout",
     "output_type": "stream",
     "text": [
      "rf\n",
      "nn\n"
     ]
    },
    {
     "name": "stderr",
     "output_type": "stream",
     "text": [
      "/home/grantbeasley/anaconda3/lib/python3.7/site-packages/sklearn/neural_network/_multilayer_perceptron.py:696: ConvergenceWarning: Stochastic Optimizer: Maximum iterations (200) reached and the optimization hasn't converged yet.\n",
      "  ConvergenceWarning,\n"
     ]
    },
    {
     "name": "stdout",
     "output_type": "stream",
     "text": [
      "Checkpoint: Length 14 complete\n"
     ]
    }
   ],
   "source": [
    "import numpy as np\n",
    "import pandas as pd\n",
    "import matplotlib.pyplot as plt\n",
    "from dask.distributed import Client\n",
    "import dask.dataframe as dd\n",
    "from imblearn.under_sampling import RandomUnderSampler\n",
    "import xgboost as xgb\n",
    "from xgboost import XGBClassifier\n",
    "from sklearn.linear_model import LogisticRegression\n",
    "from sklearn.svm import LinearSVC\n",
    "from sklearn.ensemble import RandomForestClassifier\n",
    "from sklearn.neural_network import MLPClassifier\n",
    "from sklearn.metrics import roc_auc_score, f1_score\n",
    "import pickle\n",
    "import datetime\n",
    "\n",
    "\n",
    "Load data\n",
    "df = pd.read_parquet('joined_df.parquet')\n",
    "dash_df = df.loc[:,['status', 'purchase']].copy(deep=True)\n",
    "\n",
    "del(df)\n",
    "\n",
    "def extract_features(traj, add_label=False, label=0, trim=False, trim_length=None):\n",
    "    \n",
    "    if trim:\n",
    "        traj = traj[:trim_length]\n",
    "\n",
    "    one_grams_idx = {\n",
    "        100:0,\n",
    "        200:1,\n",
    "        300:2,\n",
    "        400:3,\n",
    "        500:4\n",
    "    }\n",
    "    \n",
    "    length = len(traj)\n",
    "    one_grams = np.zeros(5)\n",
    "    # Extract 1 grams\n",
    "    for x in traj:\n",
    "        if x in [100,200,300,400,500]:\n",
    "            one_grams[one_grams_idx[x]] += 1\n",
    "    # Normalize to probilities\n",
    "    one_grams /= length\n",
    "    \n",
    "    # Create empty matrix for 2-grams\n",
    "    two_grams = np.zeros([5,5])\n",
    "    # Extract 2 grams and normalize with length - 1 or sum of all values\n",
    "    for x, y in zip(traj[:-1], traj[1:]):\n",
    "        if x in [100,200,300,400,500] and y in [100,200,300,400,500]:\n",
    "            two_grams[one_grams_idx[x], one_grams_idx[y]] += 1\n",
    "    \n",
    "    two_grams /= two_grams.sum()\n",
    "    \n",
    "    # Extract HVG motif counts and normalize\n",
    "    hvg = np.zeros(6)\n",
    "    for i in range(length):\n",
    "        if i <= (length - 4):\n",
    "            motif = extract_motif(traj[i:i+4])\n",
    "            hvg[motif] += 1\n",
    "        else:\n",
    "            break\n",
    "    \n",
    "    hvg /= hvg.sum()\n",
    "    \n",
    "    entropy = -np.sum(hvg * np.where(hvg == 0, 0, np.log(hvg)))\n",
    "    \n",
    "    if not add_label:\n",
    "        return np.r_[one_grams, two_grams.ravel(), hvg, entropy]\n",
    "    else:\n",
    "        return np.r_[one_grams, two_grams.ravel(), hvg, entropy, label]\n",
    "    \n",
    "def calc_f1_auc_scores(model, X_test_data, y_test_data, y_test_ohe=None):\n",
    "\n",
    "    auc = roc_auc_score(y_test_ohe, model.predict_proba(X_test_data), multi_class='ovr')\n",
    "    f1 = f1_score(y_test_data, model.predict(X_test_data), average='macro')\n",
    "\n",
    "    return auc, f1\n",
    "\n",
    "client = Client() \n",
    "\n",
    "dd1 = dd.from_pandas(dash_df[dash_df['purchase'] == 1].reset_index(1), npartitions=8)\n",
    "dd2 = dd.from_pandas(dash_df[dash_df['purchase'] == 0].reset_index(1), npartitions=8)\n",
    "dd3 = dd.from_pandas(dash_df[dash_df['purchase'] == 2].reset_index(1), npartitions=8)\n",
    "\n",
    "\n",
    "for i in range(14,15):\n",
    "    print(datetime.datetime.now().strftime('%H:%M:%S'))\n",
    "    dask_converted_features = dd1.groupby(['session_id_hash'])['status'].apply(extract_features, add_label=True, label=1, trim=True, trim_length=i)\n",
    "    dask_unconverted_features = dd2.groupby(['session_id_hash'])['status'].apply(extract_features, add_label=True, label=0, trim=True, trim_length=i)\n",
    "    dask_abandoned_features = dd3.groupby(['session_id_hash'])['status'].apply(extract_features, add_label=True, label=2, trim=True, trim_length=i)\n",
    "    print(datetime.datetime.now().strftime('%H:%M:%S'))\n",
    "\n",
    "    print(datetime.datetime.now().strftime('%H:%M:%S'))\n",
    "    converted_features = dask_converted_features.compute()\n",
    "    print(datetime.datetime.now().strftime('%H:%M:%S'))\n",
    "    unconverted_features = dask_unconverted_features.compute()\n",
    "    print(datetime.datetime.now().strftime('%H:%M:%S'))\n",
    "    abandoned_features = dask_abandoned_features.compute()\n",
    "    print(datetime.datetime.now().strftime('%H:%M:%S'))\n",
    "    \n",
    "    data1 = np.vstack(converted_features)\n",
    "    data2 = np.vstack(unconverted_features)\n",
    "    data3 = np.vstack(abandoned_features)\n",
    "    \n",
    "    data = np.concatenate([data1, data2, data3])\n",
    "    \n",
    "    with open(f'processed_features_length_{i}.npy', 'wb') as f:\n",
    "        np.save(f, data)\n",
    "\n",
    "    data = np.load('processed_features_length_14.npy')\n",
    "    X, y = data[:,:-1], data[:,-1].reshape(-1,1)\n",
    "\n",
    "    from sklearn.model_selection import train_test_split\n",
    "    X_train, X_test, y_train, y_test = train_test_split(X, y)\n",
    "    y_train, y_test = y_train.astype(int), y_test.astype(int)\n",
    "    y_ohe = np.zeros(shape=[y_test.shape[0],3])\n",
    "    y_ohe[np.arange(y_ohe.shape[0]), y_test.flatten()] = 1\n",
    "\n",
    "    _,na,_ = np.where([np.isnan(X_test)])\n",
    "    X_test = np.delete(X_test, na, axis=0)\n",
    "    y_test = np.delete(y_test, na, axis=0)\n",
    "    y_ohe = np.delete(y_ohe, na, axis=0)\n",
    "\n",
    "\n",
    "    classifier_scores = {\n",
    "        'xgb': {\n",
    "            'model': XGBClassifier(),\n",
    "            'f1': [],\n",
    "            'auc': []\n",
    "        },\n",
    "        'lr': {\n",
    "            'model': LogisticRegression(),\n",
    "            'f1': [],\n",
    "            'auc': []\n",
    "        },\n",
    "        'rf': {\n",
    "            'model': RandomForestClassifier(),\n",
    "            'f1': [],\n",
    "            'auc': []\n",
    "        },\n",
    "        'nn': {\n",
    "            'model': MLPClassifier(hidden_layer_sizes=(100,100)),\n",
    "            'f1': [],\n",
    "            'auc': []\n",
    "        },\n",
    "\n",
    "    }\n",
    "\n",
    "    for x in range(4,10):\n",
    "        print(f'Length: {i}. Loop: {x}')\n",
    "        # Random undersample of dataset for balanced data\n",
    "        rus = RandomUnderSampler()\n",
    "        X_undersampled, y_undersampled = rus.fit_resample(X_train, y_train)\n",
    "        # Shuffle dataset\n",
    "        n = X_undersampled.shape[0]\n",
    "\n",
    "        new_idx = np.random.permutation(np.arange(n))\n",
    "        X_undersampled = X_undersampled[new_idx]\n",
    "        y_undersampled = y_undersampled[new_idx]\n",
    "\n",
    "        _,na,_ = np.where([np.isnan(X_undersampled)])\n",
    "        X_undersampled = np.delete(X_undersampled, na, axis=0)\n",
    "        y_undersampled = np.delete(y_undersampled, na, axis=0)\n",
    "\n",
    "        for clf in classifier_scores.keys():\n",
    "            print(clf)\n",
    "            classifier_scores[clf]['model'].fit(X_undersampled, y_undersampled)\n",
    "            auc, f1 = calc_f1_auc_scores(classifier_scores[clf]['model'], X_test, y_test, y_ohe)\n",
    "            classifier_scores[clf]['f1'].append(f1)\n",
    "            classifier_scores[clf]['auc'].append(auc)\n",
    "\n",
    "        with open(f'result_dict_{x}_length_{i}.pkl', 'wb') as f:\n",
    "            pickle.dump(classifier_scores, f)\n",
    "\n",
    "        print(f'Checkpoint: Length {i} complete')\n",
    "\n",
    "    \n",
    "\n",
    "   "
   ]
  },
  {
   "cell_type": "markdown",
   "id": "493f4ead",
   "metadata": {},
   "source": [
    "## Collating the results"
   ]
  },
  {
   "cell_type": "code",
   "execution_count": 2,
   "id": "17ee492e",
   "metadata": {},
   "outputs": [
    {
     "ename": "ImportError",
     "evalue": "Dask's distributed scheduler is not installed.\n\nPlease either conda or pip install dask distributed:\n\n  conda install dask distributed          # either conda install\n  python -m pip install \"dask[distributed]\" --upgrade  # or python -m pip install",
     "output_type": "error",
     "traceback": [
      "\u001b[0;31m---------------------------------------------------------------------------\u001b[0m",
      "\u001b[0;31mModuleNotFoundError\u001b[0m                       Traceback (most recent call last)",
      "\u001b[0;32m~/anaconda3/envs/tf-gpu/lib/python3.7/site-packages/dask/distributed.py\u001b[0m in \u001b[0;36m<module>\u001b[0;34m\u001b[0m\n\u001b[1;32m      2\u001b[0m \u001b[0;32mtry\u001b[0m\u001b[0;34m:\u001b[0m\u001b[0;34m\u001b[0m\u001b[0;34m\u001b[0m\u001b[0m\n\u001b[0;32m----> 3\u001b[0;31m     \u001b[0;32mfrom\u001b[0m \u001b[0mdistributed\u001b[0m \u001b[0;32mimport\u001b[0m \u001b[0;34m*\u001b[0m\u001b[0;34m\u001b[0m\u001b[0;34m\u001b[0m\u001b[0m\n\u001b[0m\u001b[1;32m      4\u001b[0m \u001b[0;32mexcept\u001b[0m \u001b[0mImportError\u001b[0m \u001b[0;32mas\u001b[0m \u001b[0me\u001b[0m\u001b[0;34m:\u001b[0m\u001b[0;34m\u001b[0m\u001b[0;34m\u001b[0m\u001b[0m\n",
      "\u001b[0;31mModuleNotFoundError\u001b[0m: No module named 'distributed'",
      "\nThe above exception was the direct cause of the following exception:\n",
      "\u001b[0;31mImportError\u001b[0m                               Traceback (most recent call last)",
      "\u001b[0;32m<ipython-input-2-2f9fd54c55fb>\u001b[0m in \u001b[0;36m<module>\u001b[0;34m\u001b[0m\n\u001b[1;32m      2\u001b[0m \u001b[0;32mimport\u001b[0m \u001b[0mpandas\u001b[0m \u001b[0;32mas\u001b[0m \u001b[0mpd\u001b[0m\u001b[0;34m\u001b[0m\u001b[0;34m\u001b[0m\u001b[0m\n\u001b[1;32m      3\u001b[0m \u001b[0;32mimport\u001b[0m \u001b[0mmatplotlib\u001b[0m\u001b[0;34m.\u001b[0m\u001b[0mpyplot\u001b[0m \u001b[0;32mas\u001b[0m \u001b[0mplt\u001b[0m\u001b[0;34m\u001b[0m\u001b[0;34m\u001b[0m\u001b[0m\n\u001b[0;32m----> 4\u001b[0;31m \u001b[0;32mfrom\u001b[0m \u001b[0mdask\u001b[0m\u001b[0;34m.\u001b[0m\u001b[0mdistributed\u001b[0m \u001b[0;32mimport\u001b[0m \u001b[0mClient\u001b[0m\u001b[0;34m\u001b[0m\u001b[0;34m\u001b[0m\u001b[0m\n\u001b[0m\u001b[1;32m      5\u001b[0m \u001b[0;32mimport\u001b[0m \u001b[0mdask\u001b[0m\u001b[0;34m.\u001b[0m\u001b[0mdataframe\u001b[0m \u001b[0;32mas\u001b[0m \u001b[0mdd\u001b[0m\u001b[0;34m\u001b[0m\u001b[0;34m\u001b[0m\u001b[0m\n\u001b[1;32m      6\u001b[0m \u001b[0;32mfrom\u001b[0m \u001b[0mimblearn\u001b[0m\u001b[0;34m.\u001b[0m\u001b[0munder_sampling\u001b[0m \u001b[0;32mimport\u001b[0m \u001b[0mRandomUnderSampler\u001b[0m\u001b[0;34m\u001b[0m\u001b[0;34m\u001b[0m\u001b[0m\n",
      "\u001b[0;32m~/anaconda3/envs/tf-gpu/lib/python3.7/site-packages/dask/distributed.py\u001b[0m in \u001b[0;36m<module>\u001b[0;34m\u001b[0m\n\u001b[1;32m      9\u001b[0m         \u001b[0;34m'  python -m pip install \"dask[distributed]\" --upgrade  # or python -m pip install'\u001b[0m\u001b[0;34m\u001b[0m\u001b[0;34m\u001b[0m\u001b[0m\n\u001b[1;32m     10\u001b[0m     )\n\u001b[0;32m---> 11\u001b[0;31m     \u001b[0;32mraise\u001b[0m \u001b[0mImportError\u001b[0m\u001b[0;34m(\u001b[0m\u001b[0mmsg\u001b[0m\u001b[0;34m)\u001b[0m \u001b[0;32mfrom\u001b[0m \u001b[0me\u001b[0m\u001b[0;34m\u001b[0m\u001b[0;34m\u001b[0m\u001b[0m\n\u001b[0m",
      "\u001b[0;31mImportError\u001b[0m: Dask's distributed scheduler is not installed.\n\nPlease either conda or pip install dask distributed:\n\n  conda install dask distributed          # either conda install\n  python -m pip install \"dask[distributed]\" --upgrade  # or python -m pip install"
     ]
    }
   ],
   "source": [
    "import numpy as np\n",
    "import pandas as pd\n",
    "import matplotlib.pyplot as plt\n",
    "from dask.distributed import Client\n",
    "import dask.dataframe as dd\n",
    "from imblearn.under_sampling import RandomUnderSampler\n",
    "import xgboost as xgb\n",
    "from xgboost import XGBClassifier\n",
    "from sklearn.linear_model import LogisticRegression\n",
    "from sklearn.svm import LinearSVC\n",
    "from sklearn.ensemble import RandomForestClassifier\n",
    "from sklearn.neural_network import MLPClassifier\n",
    "from sklearn.metrics import roc_auc_score, f1_score\n",
    "import pickle\n",
    "import datetime"
   ]
  },
  {
   "cell_type": "code",
   "execution_count": 3,
   "id": "57b97123",
   "metadata": {},
   "outputs": [],
   "source": [
    "results = {\n",
    "    model : {\n",
    "        'f1': [[] for _ in range(10)],\n",
    "        'auc':[[] for _ in range(10)],\n",
    "    }\n",
    "    for model in ['xgb', 'lr', 'rf', 'nn'] }"
   ]
  },
  {
   "cell_type": "code",
   "execution_count": 3,
   "id": "688c27d1",
   "metadata": {},
   "outputs": [
    {
     "data": {
      "text/plain": [
       "{'xgb': {'f1': [[], [], [], [], [], [], [], [], [], []],\n",
       "  'auc': [[], [], [], [], [], [], [], [], [], []]},\n",
       " 'lr': {'f1': [[], [], [], [], [], [], [], [], [], []],\n",
       "  'auc': [[], [], [], [], [], [], [], [], [], []]},\n",
       " 'rf': {'f1': [[], [], [], [], [], [], [], [], [], []],\n",
       "  'auc': [[], [], [], [], [], [], [], [], [], []]},\n",
       " 'nn': {'f1': [[], [], [], [], [], [], [], [], [], []],\n",
       "  'auc': [[], [], [], [], [], [], [], [], [], []]}}"
      ]
     },
     "execution_count": 3,
     "metadata": {},
     "output_type": "execute_result"
    }
   ],
   "source": [
    "results"
   ]
  },
  {
   "cell_type": "code",
   "execution_count": 6,
   "id": "081a065d",
   "metadata": {},
   "outputs": [],
   "source": [
    "import pickle\n",
    "import numpy as np\n",
    "for i in range(5,15):\n",
    "    for h in range(10):\n",
    "        with open(f'result_dict_{h}_length_{i}.pkl', 'rb') as f:\n",
    "            file = pickle.load(f)    \n",
    "            for model in file.keys():\n",
    "                f1 = file[model]['f1'][-1]\n",
    "                auc = file[model]['auc'][-1]\n",
    "                results[model]['f1'][i-5].append(f1)\n",
    "                results[model]['auc'][i-5].append(auc)\n",
    "                "
   ]
  },
  {
   "cell_type": "code",
   "execution_count": 7,
   "id": "acc3b69e",
   "metadata": {},
   "outputs": [],
   "source": [
    "for model in results.keys():\n",
    "    results[model]['f1_avg'] = []\n",
    "    results[model]['f1_std'] = []\n",
    "    results[model]['auc_avg'] = []\n",
    "    results[model]['auc_std'] = []\n",
    "    for i in range(10):\n",
    "        f1_avg = np.mean(results[model]['f1'][i])\n",
    "        f1_std = np.std(results[model]['f1'][i])\n",
    "        auc_avg = np.mean(results[model]['auc'][i])\n",
    "        auc_std = np.std(results[model]['auc'][i])\n",
    "        results[model]['f1_avg'].append(f1_avg)\n",
    "        results[model]['f1_std'].append(f1_std)\n",
    "        results[model]['auc_avg'].append(auc_avg)\n",
    "        results[model]['auc_std'].append(auc_std)\n",
    "        "
   ]
  },
  {
   "cell_type": "code",
   "execution_count": 10,
   "id": "72078cca",
   "metadata": {},
   "outputs": [],
   "source": [
    "# Plotting the results\n",
    "import matplotlib.pyplot as plt\n",
    "plt.style.use('fivethirtyeight')"
   ]
  },
  {
   "cell_type": "code",
   "execution_count": 12,
   "id": "5b29f76e",
   "metadata": {},
   "outputs": [
    {
     "data": {
      "text/plain": [
       "Text(0.5, 0.98, 'Classifier Performance on Limited Length Clickstreams')"
      ]
     },
     "execution_count": 12,
     "metadata": {},
     "output_type": "execute_result"
    },
    {
     "data": {
      "image/png": "[encoded data removed]",
      "text/plain": [
       "<Figure size 1728x576 with 2 Axes>"
      ]
     },
     "metadata": {
      "needs_background": "light"
     },
     "output_type": "display_data"
    }
   ],
   "source": [
    "fig, (ax1, ax2) = plt.subplots(nrows=1, ncols=2, figsize=(24,8))\n",
    "\n",
    "ax1.set_title('Average F1 Score')\n",
    "ax1.set_ylabel('Avg F1 Score')\n",
    "ax1.set_xlabel('Length of Trajectory')\n",
    "ax2.set_ylabel('Avg AUC Score')\n",
    "ax2.set_title('Average AUC Score')\n",
    "ax2.set_xlabel('Length of Trajectory')\n",
    "for model in ('xgb', 'lr', 'rf', 'nn'):\n",
    "    f1_avg = np.array(results[model]['f1_avg'])\n",
    "    f1_std = np.array(results[model]['f1_std'])\n",
    "    auc_avg = np.array(results[model]['auc_avg'])\n",
    "    auc_std = np.array(results[model]['auc_std'])\n",
    "\n",
    "    ax1.plot(range(5,15),f1_avg, marker='o', markersize=8, label=model.upper())\n",
    "    ax1.fill_between(x=range(5,15), y1=(f1_avg - 1.96*f1_std), y2=(f1_avg + 1.96*f1_std), alpha=0.4)\n",
    "    ax1.legend()\n",
    "    \n",
    "    ax2.plot(range(5,15), auc_avg, marker='o', markersize=8, label=model.upper())\n",
    "    ax2.fill_between(x=range(5,15), y1=(auc_avg - 1.96*auc_std), y2=(auc_avg + 1.96*auc_std), alpha=0.4)\n",
    "    ax2.legend()\n",
    "\n",
    "fig.suptitle('Classifier Performance on Limited Length Clickstreams')\n",
    "    "
   ]
  },
  {
   "cell_type": "code",
   "execution_count": null,
   "id": "ab0f6b1b",
   "metadata": {},
   "outputs": [],
   "source": [
    "## Checklist\n",
    "* Discriminative network - Full Length\n",
    "* Discriminative network - partial length\n",
    "* Generative network - Full Length\n",
    "* Generative network - Parital lengths"
   ]
  },
  {
   "cell_type": "markdown",
   "id": "1329def5",
   "metadata": {},
   "source": [
    "## Creating LSTM Network (Discriminative Network)"
   ]
  },
  {
   "cell_type": "code",
   "execution_count": 1,
   "id": "9ed529be",
   "metadata": {},
   "outputs": [],
   "source": [
    "import tensorflow as tf\n",
    "from tensorflow import keras\n",
    "from tensorflow.keras import layers\n",
    "import pandas as pd\n",
    "import numpy as np\n",
    "from sklearn.model_selection import train_test_split"
   ]
  },
  {
   "cell_type": "code",
   "execution_count": 2,
   "id": "36c2493d",
   "metadata": {},
   "outputs": [
    {
     "name": "stdout",
     "output_type": "stream",
     "text": [
      "Num GPUs Available:  0\n"
     ]
    }
   ],
   "source": [
    "print(\"Num GPUs Available: \", len(tf.config.list_physical_devices('GPU')))\n",
    "physical_devices = tf.config.list_physical_devices('GPU')\n",
    "#tf.config.experimental.set_memory_growth(physical_devices[0], enable=True)"
   ]
  },
  {
   "cell_type": "code",
   "execution_count": 3,
   "id": "f162a90f",
   "metadata": {},
   "outputs": [],
   "source": [
    "df = pd.read_parquet('joined_df.parquet')"
   ]
  },
  {
   "cell_type": "code",
   "execution_count": 4,
   "id": "6e3a7b68",
   "metadata": {},
   "outputs": [
    {
     "data": {
      "text/html": [
       "<div>\n",
       "<style scoped>\n",
       "    .dataframe tbody tr th:only-of-type {\n",
       "        vertical-align: middle;\n",
       "    }\n",
       "\n",
       "    .dataframe tbody tr th {\n",
       "        vertical-align: top;\n",
       "    }\n",
       "\n",
       "    .dataframe thead th {\n",
       "        text-align: right;\n",
       "    }\n",
       "</style>\n",
       "<table border=\"1\" class=\"dataframe\">\n",
       "  <thead>\n",
       "    <tr style=\"text-align: right;\">\n",
       "      <th></th>\n",
       "      <th></th>\n",
       "      <th>event_type</th>\n",
       "      <th>product_action</th>\n",
       "      <th>product_sku_hash</th>\n",
       "      <th>hashed_url</th>\n",
       "      <th>query_vector</th>\n",
       "      <th>clicked_skus_hash</th>\n",
       "      <th>product_skus_hash</th>\n",
       "      <th>purchase</th>\n",
       "      <th>add</th>\n",
       "      <th>status</th>\n",
       "    </tr>\n",
       "    <tr>\n",
       "      <th>session_id_hash</th>\n",
       "      <th>server_timestamp_epoch_ms</th>\n",
       "      <th></th>\n",
       "      <th></th>\n",
       "      <th></th>\n",
       "      <th></th>\n",
       "      <th></th>\n",
       "      <th></th>\n",
       "      <th></th>\n",
       "      <th></th>\n",
       "      <th></th>\n",
       "      <th></th>\n",
       "    </tr>\n",
       "  </thead>\n",
       "  <tbody>\n",
       "    <tr>\n",
       "      <th rowspan=\"5\" valign=\"top\">00000114e1075962f022114fcfc17f2d874e694ac5d2010985bbba0a595340db</th>\n",
       "      <th>1552423391039</th>\n",
       "      <td>pageview</td>\n",
       "      <td>view</td>\n",
       "      <td>None</td>\n",
       "      <td>0aa1084eddfb08e4dffbb5a2aa98a5e9679382d982dd97...</td>\n",
       "      <td>None</td>\n",
       "      <td>None</td>\n",
       "      <td>None</td>\n",
       "      <td>2</td>\n",
       "      <td>1</td>\n",
       "      <td>300.0</td>\n",
       "    </tr>\n",
       "    <tr>\n",
       "      <th>1552423391039</th>\n",
       "      <td>event_product</td>\n",
       "      <td>detail</td>\n",
       "      <td>cf2f88cb43c1713538f7dfd2aa498a2cb9ebc0c99feeac...</td>\n",
       "      <td>0aa1084eddfb08e4dffbb5a2aa98a5e9679382d982dd97...</td>\n",
       "      <td>None</td>\n",
       "      <td>None</td>\n",
       "      <td>None</td>\n",
       "      <td>2</td>\n",
       "      <td>1</td>\n",
       "      <td>200.0</td>\n",
       "    </tr>\n",
       "    <tr>\n",
       "      <th>1552424389158</th>\n",
       "      <td>event_product</td>\n",
       "      <td>add</td>\n",
       "      <td>cf2f88cb43c1713538f7dfd2aa498a2cb9ebc0c99feeac...</td>\n",
       "      <td>83b4fdad686c1be4eba335f70d23ae202b84b6153e109e...</td>\n",
       "      <td>None</td>\n",
       "      <td>None</td>\n",
       "      <td>None</td>\n",
       "      <td>2</td>\n",
       "      <td>1</td>\n",
       "      <td>100.0</td>\n",
       "    </tr>\n",
       "    <tr>\n",
       "      <th>1552424395594</th>\n",
       "      <td>pageview</td>\n",
       "      <td>view</td>\n",
       "      <td>None</td>\n",
       "      <td>0ad6fab1eb3ac76010ea2fa6399a4e993b00f6501c88a2...</td>\n",
       "      <td>None</td>\n",
       "      <td>None</td>\n",
       "      <td>None</td>\n",
       "      <td>2</td>\n",
       "      <td>1</td>\n",
       "      <td>300.0</td>\n",
       "    </tr>\n",
       "    <tr>\n",
       "      <th>1552424417587</th>\n",
       "      <td>pageview</td>\n",
       "      <td>view</td>\n",
       "      <td>None</td>\n",
       "      <td>e93e5c83aab0987e41d8fd65a30b54d2ce87491b4a7f9b...</td>\n",
       "      <td>None</td>\n",
       "      <td>None</td>\n",
       "      <td>None</td>\n",
       "      <td>2</td>\n",
       "      <td>1</td>\n",
       "      <td>300.0</td>\n",
       "    </tr>\n",
       "    <tr>\n",
       "      <th>...</th>\n",
       "      <th>...</th>\n",
       "      <td>...</td>\n",
       "      <td>...</td>\n",
       "      <td>...</td>\n",
       "      <td>...</td>\n",
       "      <td>...</td>\n",
       "      <td>...</td>\n",
       "      <td>...</td>\n",
       "      <td>...</td>\n",
       "      <td>...</td>\n",
       "      <td>...</td>\n",
       "    </tr>\n",
       "    <tr>\n",
       "      <th rowspan=\"5\" valign=\"top\">fffffc128ba14ec4d4b2a230b4352453843b3bb59becf5d9b16773839092cbb1</th>\n",
       "      <th>1550718613724</th>\n",
       "      <td>pageview</td>\n",
       "      <td>view</td>\n",
       "      <td>None</td>\n",
       "      <td>0ca76955e075818c7eadaafddd0d7b565260fc83e84e06...</td>\n",
       "      <td>None</td>\n",
       "      <td>None</td>\n",
       "      <td>None</td>\n",
       "      <td>0</td>\n",
       "      <td>0</td>\n",
       "      <td>300.0</td>\n",
       "    </tr>\n",
       "    <tr>\n",
       "      <th>1550718613724</th>\n",
       "      <td>event_product</td>\n",
       "      <td>detail</td>\n",
       "      <td>bed8a2b601108932cbd8b3b14cde1d4919262c60b35cad...</td>\n",
       "      <td>0ca76955e075818c7eadaafddd0d7b565260fc83e84e06...</td>\n",
       "      <td>None</td>\n",
       "      <td>None</td>\n",
       "      <td>None</td>\n",
       "      <td>0</td>\n",
       "      <td>0</td>\n",
       "      <td>200.0</td>\n",
       "    </tr>\n",
       "    <tr>\n",
       "      <th>1550718642814</th>\n",
       "      <td>event_product</td>\n",
       "      <td>detail</td>\n",
       "      <td>2b1dd7624847cfe832fb6aaba59834f34008ed2820bca3...</td>\n",
       "      <td>c556502992acafffde649f4fff0748f1fcce22f21f5e02...</td>\n",
       "      <td>None</td>\n",
       "      <td>None</td>\n",
       "      <td>None</td>\n",
       "      <td>0</td>\n",
       "      <td>0</td>\n",
       "      <td>200.0</td>\n",
       "    </tr>\n",
       "    <tr>\n",
       "      <th>1550718642814</th>\n",
       "      <td>pageview</td>\n",
       "      <td>view</td>\n",
       "      <td>None</td>\n",
       "      <td>c556502992acafffde649f4fff0748f1fcce22f21f5e02...</td>\n",
       "      <td>None</td>\n",
       "      <td>None</td>\n",
       "      <td>None</td>\n",
       "      <td>0</td>\n",
       "      <td>0</td>\n",
       "      <td>300.0</td>\n",
       "    </tr>\n",
       "    <tr>\n",
       "      <th>1550720097505</th>\n",
       "      <td>pageview</td>\n",
       "      <td>view</td>\n",
       "      <td>None</td>\n",
       "      <td>f50e8f41bfdaa5b81373952ed0ff066aa4dfb390531153...</td>\n",
       "      <td>None</td>\n",
       "      <td>None</td>\n",
       "      <td>None</td>\n",
       "      <td>0</td>\n",
       "      <td>0</td>\n",
       "      <td>300.0</td>\n",
       "    </tr>\n",
       "  </tbody>\n",
       "</table>\n",
       "<p>36898823 rows × 10 columns</p>\n",
       "</div>"
      ],
      "text/plain": [
       "                                                                                 event_type  \\\n",
       "session_id_hash                                    server_timestamp_epoch_ms                  \n",
       "00000114e1075962f022114fcfc17f2d874e694ac5d2010... 1552423391039                   pageview   \n",
       "                                                   1552423391039              event_product   \n",
       "                                                   1552424389158              event_product   \n",
       "                                                   1552424395594                   pageview   \n",
       "                                                   1552424417587                   pageview   \n",
       "...                                                                                     ...   \n",
       "fffffc128ba14ec4d4b2a230b4352453843b3bb59becf5d... 1550718613724                   pageview   \n",
       "                                                   1550718613724              event_product   \n",
       "                                                   1550718642814              event_product   \n",
       "                                                   1550718642814                   pageview   \n",
       "                                                   1550720097505                   pageview   \n",
       "\n",
       "                                                                             product_action  \\\n",
       "session_id_hash                                    server_timestamp_epoch_ms                  \n",
       "00000114e1075962f022114fcfc17f2d874e694ac5d2010... 1552423391039                       view   \n",
       "                                                   1552423391039                     detail   \n",
       "                                                   1552424389158                        add   \n",
       "                                                   1552424395594                       view   \n",
       "                                                   1552424417587                       view   \n",
       "...                                                                                     ...   \n",
       "fffffc128ba14ec4d4b2a230b4352453843b3bb59becf5d... 1550718613724                       view   \n",
       "                                                   1550718613724                     detail   \n",
       "                                                   1550718642814                     detail   \n",
       "                                                   1550718642814                       view   \n",
       "                                                   1550720097505                       view   \n",
       "\n",
       "                                                                                                               product_sku_hash  \\\n",
       "session_id_hash                                    server_timestamp_epoch_ms                                                      \n",
       "00000114e1075962f022114fcfc17f2d874e694ac5d2010... 1552423391039                                                           None   \n",
       "                                                   1552423391039              cf2f88cb43c1713538f7dfd2aa498a2cb9ebc0c99feeac...   \n",
       "                                                   1552424389158              cf2f88cb43c1713538f7dfd2aa498a2cb9ebc0c99feeac...   \n",
       "                                                   1552424395594                                                           None   \n",
       "                                                   1552424417587                                                           None   \n",
       "...                                                                                                                         ...   \n",
       "fffffc128ba14ec4d4b2a230b4352453843b3bb59becf5d... 1550718613724                                                           None   \n",
       "                                                   1550718613724              bed8a2b601108932cbd8b3b14cde1d4919262c60b35cad...   \n",
       "                                                   1550718642814              2b1dd7624847cfe832fb6aaba59834f34008ed2820bca3...   \n",
       "                                                   1550718642814                                                           None   \n",
       "                                                   1550720097505                                                           None   \n",
       "\n",
       "                                                                                                                     hashed_url  \\\n",
       "session_id_hash                                    server_timestamp_epoch_ms                                                      \n",
       "00000114e1075962f022114fcfc17f2d874e694ac5d2010... 1552423391039              0aa1084eddfb08e4dffbb5a2aa98a5e9679382d982dd97...   \n",
       "                                                   1552423391039              0aa1084eddfb08e4dffbb5a2aa98a5e9679382d982dd97...   \n",
       "                                                   1552424389158              83b4fdad686c1be4eba335f70d23ae202b84b6153e109e...   \n",
       "                                                   1552424395594              0ad6fab1eb3ac76010ea2fa6399a4e993b00f6501c88a2...   \n",
       "                                                   1552424417587              e93e5c83aab0987e41d8fd65a30b54d2ce87491b4a7f9b...   \n",
       "...                                                                                                                         ...   \n",
       "fffffc128ba14ec4d4b2a230b4352453843b3bb59becf5d... 1550718613724              0ca76955e075818c7eadaafddd0d7b565260fc83e84e06...   \n",
       "                                                   1550718613724              0ca76955e075818c7eadaafddd0d7b565260fc83e84e06...   \n",
       "                                                   1550718642814              c556502992acafffde649f4fff0748f1fcce22f21f5e02...   \n",
       "                                                   1550718642814              c556502992acafffde649f4fff0748f1fcce22f21f5e02...   \n",
       "                                                   1550720097505              f50e8f41bfdaa5b81373952ed0ff066aa4dfb390531153...   \n",
       "\n",
       "                                                                             query_vector  \\\n",
       "session_id_hash                                    server_timestamp_epoch_ms                \n",
       "00000114e1075962f022114fcfc17f2d874e694ac5d2010... 1552423391039                     None   \n",
       "                                                   1552423391039                     None   \n",
       "                                                   1552424389158                     None   \n",
       "                                                   1552424395594                     None   \n",
       "                                                   1552424417587                     None   \n",
       "...                                                                                   ...   \n",
       "fffffc128ba14ec4d4b2a230b4352453843b3bb59becf5d... 1550718613724                     None   \n",
       "                                                   1550718613724                     None   \n",
       "                                                   1550718642814                     None   \n",
       "                                                   1550718642814                     None   \n",
       "                                                   1550720097505                     None   \n",
       "\n",
       "                                                                             clicked_skus_hash  \\\n",
       "session_id_hash                                    server_timestamp_epoch_ms                     \n",
       "00000114e1075962f022114fcfc17f2d874e694ac5d2010... 1552423391039                          None   \n",
       "                                                   1552423391039                          None   \n",
       "                                                   1552424389158                          None   \n",
       "                                                   1552424395594                          None   \n",
       "                                                   1552424417587                          None   \n",
       "...                                                                                        ...   \n",
       "fffffc128ba14ec4d4b2a230b4352453843b3bb59becf5d... 1550718613724                          None   \n",
       "                                                   1550718613724                          None   \n",
       "                                                   1550718642814                          None   \n",
       "                                                   1550718642814                          None   \n",
       "                                                   1550720097505                          None   \n",
       "\n",
       "                                                                             product_skus_hash  \\\n",
       "session_id_hash                                    server_timestamp_epoch_ms                     \n",
       "00000114e1075962f022114fcfc17f2d874e694ac5d2010... 1552423391039                          None   \n",
       "                                                   1552423391039                          None   \n",
       "                                                   1552424389158                          None   \n",
       "                                                   1552424395594                          None   \n",
       "                                                   1552424417587                          None   \n",
       "...                                                                                        ...   \n",
       "fffffc128ba14ec4d4b2a230b4352453843b3bb59becf5d... 1550718613724                          None   \n",
       "                                                   1550718613724                          None   \n",
       "                                                   1550718642814                          None   \n",
       "                                                   1550718642814                          None   \n",
       "                                                   1550720097505                          None   \n",
       "\n",
       "                                                                              purchase  \\\n",
       "session_id_hash                                    server_timestamp_epoch_ms             \n",
       "00000114e1075962f022114fcfc17f2d874e694ac5d2010... 1552423391039                     2   \n",
       "                                                   1552423391039                     2   \n",
       "                                                   1552424389158                     2   \n",
       "                                                   1552424395594                     2   \n",
       "                                                   1552424417587                     2   \n",
       "...                                                                                ...   \n",
       "fffffc128ba14ec4d4b2a230b4352453843b3bb59becf5d... 1550718613724                     0   \n",
       "                                                   1550718613724                     0   \n",
       "                                                   1550718642814                     0   \n",
       "                                                   1550718642814                     0   \n",
       "                                                   1550720097505                     0   \n",
       "\n",
       "                                                                              add  \\\n",
       "session_id_hash                                    server_timestamp_epoch_ms        \n",
       "00000114e1075962f022114fcfc17f2d874e694ac5d2010... 1552423391039                1   \n",
       "                                                   1552423391039                1   \n",
       "                                                   1552424389158                1   \n",
       "                                                   1552424395594                1   \n",
       "                                                   1552424417587                1   \n",
       "...                                                                           ...   \n",
       "fffffc128ba14ec4d4b2a230b4352453843b3bb59becf5d... 1550718613724                0   \n",
       "                                                   1550718613724                0   \n",
       "                                                   1550718642814                0   \n",
       "                                                   1550718642814                0   \n",
       "                                                   1550720097505                0   \n",
       "\n",
       "                                                                              status  \n",
       "session_id_hash                                    server_timestamp_epoch_ms          \n",
       "00000114e1075962f022114fcfc17f2d874e694ac5d2010... 1552423391039               300.0  \n",
       "                                                   1552423391039               200.0  \n",
       "                                                   1552424389158               100.0  \n",
       "                                                   1552424395594               300.0  \n",
       "                                                   1552424417587               300.0  \n",
       "...                                                                              ...  \n",
       "fffffc128ba14ec4d4b2a230b4352453843b3bb59becf5d... 1550718613724               300.0  \n",
       "                                                   1550718613724               200.0  \n",
       "                                                   1550718642814               200.0  \n",
       "                                                   1550718642814               300.0  \n",
       "                                                   1550720097505               300.0  \n",
       "\n",
       "[36898823 rows x 10 columns]"
      ]
     },
     "execution_count": 4,
     "metadata": {},
     "output_type": "execute_result"
    }
   ],
   "source": [
    "df"
   ]
  },
  {
   "cell_type": "code",
   "execution_count": 5,
   "id": "d3ae9dbd",
   "metadata": {},
   "outputs": [
    {
     "name": "stdout",
     "output_type": "stream",
     "text": [
      "Sessions before trimming based on session length: 5010682\n",
      "Sessions after trimming based on session length: 1923272\n",
      "(30444672, 10)\n",
      "(30370908, 10)\n",
      "Model: \"sequential\"\n",
      "_________________________________________________________________\n",
      "Layer (type)                 Output Shape              Param #   \n",
      "=================================================================\n",
      "masking (Masking)            (None, 180, 1)            0         \n",
      "_________________________________________________________________\n",
      "lstm (LSTM)                  (None, 64)                16896     \n",
      "_________________________________________________________________\n",
      "dense (Dense)                (None, 3)                 195       \n",
      "=================================================================\n",
      "Total params: 17,091\n",
      "Trainable params: 17,091\n",
      "Non-trainable params: 0\n",
      "_________________________________________________________________\n",
      "Epoch 1/10\n",
      "704/704 [==============================] - 92s 130ms/step - loss: 0.8653 - accuracy: 0.6988 - val_loss: 0.7860 - val_accuracy: 0.7633\n",
      "Epoch 2/10\n",
      "704/704 [==============================] - 86s 122ms/step - loss: 0.7745 - accuracy: 0.7752 - val_loss: 0.7672 - val_accuracy: 0.7819\n",
      "Epoch 3/10\n",
      "704/704 [==============================] - 87s 124ms/step - loss: 0.7675 - accuracy: 0.7810 - val_loss: 0.7647 - val_accuracy: 0.7826\n",
      "Epoch 4/10\n",
      "704/704 [==============================] - 84s 120ms/step - loss: 0.7635 - accuracy: 0.7843 - val_loss: 0.7607 - val_accuracy: 0.7848\n",
      "Epoch 5/10\n",
      "704/704 [==============================] - 85s 121ms/step - loss: 0.7618 - accuracy: 0.7847 - val_loss: 0.7628 - val_accuracy: 0.7859\n",
      "Epoch 6/10\n",
      "704/704 [==============================] - 85s 120ms/step - loss: 0.7600 - accuracy: 0.7866 - val_loss: 0.7639 - val_accuracy: 0.7851\n",
      "Epoch 7/10\n",
      "704/704 [==============================] - 84s 119ms/step - loss: 0.7568 - accuracy: 0.7893 - val_loss: 0.7557 - val_accuracy: 0.7898\n",
      "Epoch 8/10\n",
      "704/704 [==============================] - 88s 125ms/step - loss: 0.7554 - accuracy: 0.7903 - val_loss: 0.7533 - val_accuracy: 0.7920\n",
      "Epoch 9/10\n",
      "704/704 [==============================] - 102s 144ms/step - loss: 0.7533 - accuracy: 0.7919 - val_loss: 0.7521 - val_accuracy: 0.7919\n",
      "Epoch 10/10\n",
      "704/704 [==============================] - 112s 159ms/step - loss: 0.7515 - accuracy: 0.7948 - val_loss: 0.7483 - val_accuracy: 0.7954\n",
      "[0.9025942151693055]\n",
      "[0.798943763933515]\n",
      "Model: \"sequential_1\"\n",
      "_________________________________________________________________\n",
      "Layer (type)                 Output Shape              Param #   \n",
      "=================================================================\n",
      "masking_1 (Masking)          (None, 180, 1)            0         \n",
      "_________________________________________________________________\n",
      "lstm_1 (LSTM)                (None, 64)                16896     \n",
      "_________________________________________________________________\n",
      "dense_1 (Dense)              (None, 3)                 195       \n",
      "=================================================================\n",
      "Total params: 17,091\n",
      "Trainable params: 17,091\n",
      "Non-trainable params: 0\n",
      "_________________________________________________________________\n",
      "Epoch 1/10\n",
      "704/704 [==============================] - 114s 162ms/step - loss: 0.8538 - accuracy: 0.7021 - val_loss: 0.7768 - val_accuracy: 0.7773\n",
      "Epoch 2/10\n",
      "704/704 [==============================] - 109s 155ms/step - loss: 0.7665 - accuracy: 0.7818 - val_loss: 0.7626 - val_accuracy: 0.7851\n",
      "Epoch 3/10\n",
      "690/704 [============================>.] - ETA: 1s - loss: 0.7572 - accuracy: 0.7894"
     ]
    },
    {
     "ename": "KeyboardInterrupt",
     "evalue": "",
     "output_type": "error",
     "traceback": [
      "\u001b[0;31m---------------------------------------------------------------------------\u001b[0m",
      "\u001b[0;31mKeyboardInterrupt\u001b[0m                         Traceback (most recent call last)",
      "\u001b[0;32m<ipython-input-5-71c8b3b5b0d8>\u001b[0m in \u001b[0;36m<module>\u001b[0;34m\u001b[0m\n\u001b[1;32m     98\u001b[0m         \u001b[0mbatch_size\u001b[0m\u001b[0;34m=\u001b[0m\u001b[0;36m128\u001b[0m\u001b[0;34m,\u001b[0m\u001b[0;34m\u001b[0m\u001b[0;34m\u001b[0m\u001b[0m\n\u001b[1;32m     99\u001b[0m         \u001b[0mvalidation_data\u001b[0m\u001b[0;34m=\u001b[0m\u001b[0;34m(\u001b[0m\u001b[0mX_val\u001b[0m\u001b[0;34m,\u001b[0m \u001b[0my_val\u001b[0m\u001b[0;34m)\u001b[0m\u001b[0;34m,\u001b[0m\u001b[0;34m\u001b[0m\u001b[0;34m\u001b[0m\u001b[0m\n\u001b[0;32m--> 100\u001b[0;31m         \u001b[0mepochs\u001b[0m\u001b[0;34m=\u001b[0m\u001b[0;36m10\u001b[0m\u001b[0;34m\u001b[0m\u001b[0;34m\u001b[0m\u001b[0m\n\u001b[0m\u001b[1;32m    101\u001b[0m     )\n\u001b[1;32m    102\u001b[0m \u001b[0;34m\u001b[0m\u001b[0m\n",
      "\u001b[0;32m~/anaconda3/envs/tf-gpu/lib/python3.7/site-packages/tensorflow/python/keras/engine/training.py\u001b[0m in \u001b[0;36m_method_wrapper\u001b[0;34m(self, *args, **kwargs)\u001b[0m\n\u001b[1;32m     64\u001b[0m   \u001b[0;32mdef\u001b[0m \u001b[0m_method_wrapper\u001b[0m\u001b[0;34m(\u001b[0m\u001b[0mself\u001b[0m\u001b[0;34m,\u001b[0m \u001b[0;34m*\u001b[0m\u001b[0margs\u001b[0m\u001b[0;34m,\u001b[0m \u001b[0;34m**\u001b[0m\u001b[0mkwargs\u001b[0m\u001b[0;34m)\u001b[0m\u001b[0;34m:\u001b[0m\u001b[0;34m\u001b[0m\u001b[0;34m\u001b[0m\u001b[0m\n\u001b[1;32m     65\u001b[0m     \u001b[0;32mif\u001b[0m \u001b[0;32mnot\u001b[0m \u001b[0mself\u001b[0m\u001b[0;34m.\u001b[0m\u001b[0m_in_multi_worker_mode\u001b[0m\u001b[0;34m(\u001b[0m\u001b[0;34m)\u001b[0m\u001b[0;34m:\u001b[0m  \u001b[0;31m# pylint: disable=protected-access\u001b[0m\u001b[0;34m\u001b[0m\u001b[0;34m\u001b[0m\u001b[0m\n\u001b[0;32m---> 66\u001b[0;31m       \u001b[0;32mreturn\u001b[0m \u001b[0mmethod\u001b[0m\u001b[0;34m(\u001b[0m\u001b[0mself\u001b[0m\u001b[0;34m,\u001b[0m \u001b[0;34m*\u001b[0m\u001b[0margs\u001b[0m\u001b[0;34m,\u001b[0m \u001b[0;34m**\u001b[0m\u001b[0mkwargs\u001b[0m\u001b[0;34m)\u001b[0m\u001b[0;34m\u001b[0m\u001b[0;34m\u001b[0m\u001b[0m\n\u001b[0m\u001b[1;32m     67\u001b[0m \u001b[0;34m\u001b[0m\u001b[0m\n\u001b[1;32m     68\u001b[0m     \u001b[0;31m# Running inside `run_distribute_coordinator` already.\u001b[0m\u001b[0;34m\u001b[0m\u001b[0;34m\u001b[0m\u001b[0;34m\u001b[0m\u001b[0m\n",
      "\u001b[0;32m~/anaconda3/envs/tf-gpu/lib/python3.7/site-packages/tensorflow/python/keras/engine/training.py\u001b[0m in \u001b[0;36mfit\u001b[0;34m(self, x, y, batch_size, epochs, verbose, callbacks, validation_split, validation_data, shuffle, class_weight, sample_weight, initial_epoch, steps_per_epoch, validation_steps, validation_batch_size, validation_freq, max_queue_size, workers, use_multiprocessing)\u001b[0m\n\u001b[1;32m    846\u001b[0m                 batch_size=batch_size):\n\u001b[1;32m    847\u001b[0m               \u001b[0mcallbacks\u001b[0m\u001b[0;34m.\u001b[0m\u001b[0mon_train_batch_begin\u001b[0m\u001b[0;34m(\u001b[0m\u001b[0mstep\u001b[0m\u001b[0;34m)\u001b[0m\u001b[0;34m\u001b[0m\u001b[0;34m\u001b[0m\u001b[0m\n\u001b[0;32m--> 848\u001b[0;31m               \u001b[0mtmp_logs\u001b[0m \u001b[0;34m=\u001b[0m \u001b[0mtrain_function\u001b[0m\u001b[0;34m(\u001b[0m\u001b[0miterator\u001b[0m\u001b[0;34m)\u001b[0m\u001b[0;34m\u001b[0m\u001b[0;34m\u001b[0m\u001b[0m\n\u001b[0m\u001b[1;32m    849\u001b[0m               \u001b[0;31m# Catch OutOfRangeError for Datasets of unknown size.\u001b[0m\u001b[0;34m\u001b[0m\u001b[0;34m\u001b[0m\u001b[0;34m\u001b[0m\u001b[0m\n\u001b[1;32m    850\u001b[0m               \u001b[0;31m# This blocks until the batch has finished executing.\u001b[0m\u001b[0;34m\u001b[0m\u001b[0;34m\u001b[0m\u001b[0;34m\u001b[0m\u001b[0m\n",
      "\u001b[0;32m~/anaconda3/envs/tf-gpu/lib/python3.7/site-packages/tensorflow/python/eager/def_function.py\u001b[0m in \u001b[0;36m__call__\u001b[0;34m(self, *args, **kwds)\u001b[0m\n\u001b[1;32m    578\u001b[0m         \u001b[0mxla_context\u001b[0m\u001b[0;34m.\u001b[0m\u001b[0mExit\u001b[0m\u001b[0;34m(\u001b[0m\u001b[0;34m)\u001b[0m\u001b[0;34m\u001b[0m\u001b[0;34m\u001b[0m\u001b[0m\n\u001b[1;32m    579\u001b[0m     \u001b[0;32melse\u001b[0m\u001b[0;34m:\u001b[0m\u001b[0;34m\u001b[0m\u001b[0;34m\u001b[0m\u001b[0m\n\u001b[0;32m--> 580\u001b[0;31m       \u001b[0mresult\u001b[0m \u001b[0;34m=\u001b[0m \u001b[0mself\u001b[0m\u001b[0;34m.\u001b[0m\u001b[0m_call\u001b[0m\u001b[0;34m(\u001b[0m\u001b[0;34m*\u001b[0m\u001b[0margs\u001b[0m\u001b[0;34m,\u001b[0m \u001b[0;34m**\u001b[0m\u001b[0mkwds\u001b[0m\u001b[0;34m)\u001b[0m\u001b[0;34m\u001b[0m\u001b[0;34m\u001b[0m\u001b[0m\n\u001b[0m\u001b[1;32m    581\u001b[0m \u001b[0;34m\u001b[0m\u001b[0m\n\u001b[1;32m    582\u001b[0m     \u001b[0;32mif\u001b[0m \u001b[0mtracing_count\u001b[0m \u001b[0;34m==\u001b[0m \u001b[0mself\u001b[0m\u001b[0;34m.\u001b[0m\u001b[0m_get_tracing_count\u001b[0m\u001b[0;34m(\u001b[0m\u001b[0;34m)\u001b[0m\u001b[0;34m:\u001b[0m\u001b[0;34m\u001b[0m\u001b[0;34m\u001b[0m\u001b[0m\n",
      "\u001b[0;32m~/anaconda3/envs/tf-gpu/lib/python3.7/site-packages/tensorflow/python/eager/def_function.py\u001b[0m in \u001b[0;36m_call\u001b[0;34m(self, *args, **kwds)\u001b[0m\n\u001b[1;32m    609\u001b[0m       \u001b[0;31m# In this case we have created variables on the first call, so we run the\u001b[0m\u001b[0;34m\u001b[0m\u001b[0;34m\u001b[0m\u001b[0;34m\u001b[0m\u001b[0m\n\u001b[1;32m    610\u001b[0m       \u001b[0;31m# defunned version which is guaranteed to never create variables.\u001b[0m\u001b[0;34m\u001b[0m\u001b[0;34m\u001b[0m\u001b[0;34m\u001b[0m\u001b[0m\n\u001b[0;32m--> 611\u001b[0;31m       \u001b[0;32mreturn\u001b[0m \u001b[0mself\u001b[0m\u001b[0;34m.\u001b[0m\u001b[0m_stateless_fn\u001b[0m\u001b[0;34m(\u001b[0m\u001b[0;34m*\u001b[0m\u001b[0margs\u001b[0m\u001b[0;34m,\u001b[0m \u001b[0;34m**\u001b[0m\u001b[0mkwds\u001b[0m\u001b[0;34m)\u001b[0m  \u001b[0;31m# pylint: disable=not-callable\u001b[0m\u001b[0;34m\u001b[0m\u001b[0;34m\u001b[0m\u001b[0m\n\u001b[0m\u001b[1;32m    612\u001b[0m     \u001b[0;32melif\u001b[0m \u001b[0mself\u001b[0m\u001b[0;34m.\u001b[0m\u001b[0m_stateful_fn\u001b[0m \u001b[0;32mis\u001b[0m \u001b[0;32mnot\u001b[0m \u001b[0;32mNone\u001b[0m\u001b[0;34m:\u001b[0m\u001b[0;34m\u001b[0m\u001b[0;34m\u001b[0m\u001b[0m\n\u001b[1;32m    613\u001b[0m       \u001b[0;31m# Release the lock early so that multiple threads can perform the call\u001b[0m\u001b[0;34m\u001b[0m\u001b[0;34m\u001b[0m\u001b[0;34m\u001b[0m\u001b[0m\n",
      "\u001b[0;32m~/anaconda3/envs/tf-gpu/lib/python3.7/site-packages/tensorflow/python/eager/function.py\u001b[0m in \u001b[0;36m__call__\u001b[0;34m(self, *args, **kwargs)\u001b[0m\n\u001b[1;32m   2418\u001b[0m     \u001b[0;32mwith\u001b[0m \u001b[0mself\u001b[0m\u001b[0;34m.\u001b[0m\u001b[0m_lock\u001b[0m\u001b[0;34m:\u001b[0m\u001b[0;34m\u001b[0m\u001b[0;34m\u001b[0m\u001b[0m\n\u001b[1;32m   2419\u001b[0m       \u001b[0mgraph_function\u001b[0m\u001b[0;34m,\u001b[0m \u001b[0margs\u001b[0m\u001b[0;34m,\u001b[0m \u001b[0mkwargs\u001b[0m \u001b[0;34m=\u001b[0m \u001b[0mself\u001b[0m\u001b[0;34m.\u001b[0m\u001b[0m_maybe_define_function\u001b[0m\u001b[0;34m(\u001b[0m\u001b[0margs\u001b[0m\u001b[0;34m,\u001b[0m \u001b[0mkwargs\u001b[0m\u001b[0;34m)\u001b[0m\u001b[0;34m\u001b[0m\u001b[0;34m\u001b[0m\u001b[0m\n\u001b[0;32m-> 2420\u001b[0;31m     \u001b[0;32mreturn\u001b[0m \u001b[0mgraph_function\u001b[0m\u001b[0;34m.\u001b[0m\u001b[0m_filtered_call\u001b[0m\u001b[0;34m(\u001b[0m\u001b[0margs\u001b[0m\u001b[0;34m,\u001b[0m \u001b[0mkwargs\u001b[0m\u001b[0;34m)\u001b[0m  \u001b[0;31m# pylint: disable=protected-access\u001b[0m\u001b[0;34m\u001b[0m\u001b[0;34m\u001b[0m\u001b[0m\n\u001b[0m\u001b[1;32m   2421\u001b[0m \u001b[0;34m\u001b[0m\u001b[0m\n\u001b[1;32m   2422\u001b[0m   \u001b[0;34m@\u001b[0m\u001b[0mproperty\u001b[0m\u001b[0;34m\u001b[0m\u001b[0;34m\u001b[0m\u001b[0m\n",
      "\u001b[0;32m~/anaconda3/envs/tf-gpu/lib/python3.7/site-packages/tensorflow/python/eager/function.py\u001b[0m in \u001b[0;36m_filtered_call\u001b[0;34m(self, args, kwargs)\u001b[0m\n\u001b[1;32m   1663\u001b[0m          if isinstance(t, (ops.Tensor,\n\u001b[1;32m   1664\u001b[0m                            resource_variable_ops.BaseResourceVariable))),\n\u001b[0;32m-> 1665\u001b[0;31m         self.captured_inputs)\n\u001b[0m\u001b[1;32m   1666\u001b[0m \u001b[0;34m\u001b[0m\u001b[0m\n\u001b[1;32m   1667\u001b[0m   \u001b[0;32mdef\u001b[0m \u001b[0m_call_flat\u001b[0m\u001b[0;34m(\u001b[0m\u001b[0mself\u001b[0m\u001b[0;34m,\u001b[0m \u001b[0margs\u001b[0m\u001b[0;34m,\u001b[0m \u001b[0mcaptured_inputs\u001b[0m\u001b[0;34m,\u001b[0m \u001b[0mcancellation_manager\u001b[0m\u001b[0;34m=\u001b[0m\u001b[0;32mNone\u001b[0m\u001b[0;34m)\u001b[0m\u001b[0;34m:\u001b[0m\u001b[0;34m\u001b[0m\u001b[0;34m\u001b[0m\u001b[0m\n",
      "\u001b[0;32m~/anaconda3/envs/tf-gpu/lib/python3.7/site-packages/tensorflow/python/eager/function.py\u001b[0m in \u001b[0;36m_call_flat\u001b[0;34m(self, args, captured_inputs, cancellation_manager)\u001b[0m\n\u001b[1;32m   1744\u001b[0m       \u001b[0;31m# No tape is watching; skip to running the function.\u001b[0m\u001b[0;34m\u001b[0m\u001b[0;34m\u001b[0m\u001b[0;34m\u001b[0m\u001b[0m\n\u001b[1;32m   1745\u001b[0m       return self._build_call_outputs(self._inference_function.call(\n\u001b[0;32m-> 1746\u001b[0;31m           ctx, args, cancellation_manager=cancellation_manager))\n\u001b[0m\u001b[1;32m   1747\u001b[0m     forward_backward = self._select_forward_and_backward_functions(\n\u001b[1;32m   1748\u001b[0m         \u001b[0margs\u001b[0m\u001b[0;34m,\u001b[0m\u001b[0;34m\u001b[0m\u001b[0;34m\u001b[0m\u001b[0m\n",
      "\u001b[0;32m~/anaconda3/envs/tf-gpu/lib/python3.7/site-packages/tensorflow/python/eager/function.py\u001b[0m in \u001b[0;36mcall\u001b[0;34m(self, ctx, args, cancellation_manager)\u001b[0m\n\u001b[1;32m    596\u001b[0m               \u001b[0minputs\u001b[0m\u001b[0;34m=\u001b[0m\u001b[0margs\u001b[0m\u001b[0;34m,\u001b[0m\u001b[0;34m\u001b[0m\u001b[0;34m\u001b[0m\u001b[0m\n\u001b[1;32m    597\u001b[0m               \u001b[0mattrs\u001b[0m\u001b[0;34m=\u001b[0m\u001b[0mattrs\u001b[0m\u001b[0;34m,\u001b[0m\u001b[0;34m\u001b[0m\u001b[0;34m\u001b[0m\u001b[0m\n\u001b[0;32m--> 598\u001b[0;31m               ctx=ctx)\n\u001b[0m\u001b[1;32m    599\u001b[0m         \u001b[0;32melse\u001b[0m\u001b[0;34m:\u001b[0m\u001b[0;34m\u001b[0m\u001b[0;34m\u001b[0m\u001b[0m\n\u001b[1;32m    600\u001b[0m           outputs = execute.execute_with_cancellation(\n",
      "\u001b[0;32m~/anaconda3/envs/tf-gpu/lib/python3.7/site-packages/tensorflow/python/eager/execute.py\u001b[0m in \u001b[0;36mquick_execute\u001b[0;34m(op_name, num_outputs, inputs, attrs, ctx, name)\u001b[0m\n\u001b[1;32m     58\u001b[0m     \u001b[0mctx\u001b[0m\u001b[0;34m.\u001b[0m\u001b[0mensure_initialized\u001b[0m\u001b[0;34m(\u001b[0m\u001b[0;34m)\u001b[0m\u001b[0;34m\u001b[0m\u001b[0;34m\u001b[0m\u001b[0m\n\u001b[1;32m     59\u001b[0m     tensors = pywrap_tfe.TFE_Py_Execute(ctx._handle, device_name, op_name,\n\u001b[0;32m---> 60\u001b[0;31m                                         inputs, attrs, num_outputs)\n\u001b[0m\u001b[1;32m     61\u001b[0m   \u001b[0;32mexcept\u001b[0m \u001b[0mcore\u001b[0m\u001b[0;34m.\u001b[0m\u001b[0m_NotOkStatusException\u001b[0m \u001b[0;32mas\u001b[0m \u001b[0me\u001b[0m\u001b[0;34m:\u001b[0m\u001b[0;34m\u001b[0m\u001b[0;34m\u001b[0m\u001b[0m\n\u001b[1;32m     62\u001b[0m     \u001b[0;32mif\u001b[0m \u001b[0mname\u001b[0m \u001b[0;32mis\u001b[0m \u001b[0;32mnot\u001b[0m \u001b[0;32mNone\u001b[0m\u001b[0;34m:\u001b[0m\u001b[0;34m\u001b[0m\u001b[0;34m\u001b[0m\u001b[0m\n",
      "\u001b[0;31mKeyboardInterrupt\u001b[0m: "
     ]
    }
   ],
   "source": [
    "# Discrimative classifier - Full length\n",
    "\n",
    "session_clicks = df['product_action'].groupby(df.index.get_level_values(0)).count()\n",
    "valid_session_ids = session_clicks[(session_clicks >= 5) & (session_clicks < 200)].index.values\n",
    "print(f'Sessions before trimming based on session length: {df.index.get_level_values(0).unique().shape[0]}')\n",
    "df = df[df.index.get_level_values(0).isin(valid_session_ids)]\n",
    "print(f'Sessions after trimming based on session length: {df.index.get_level_values(0).unique().shape[0]}')\n",
    "\n",
    "print(df.shape)\n",
    "df = df[~df['status'].isna()]\n",
    "print(df.shape)\n",
    "\n",
    "df.loc[(df['purchase'] == 0) & (df['add'] == 1), 'purchase'] = 2\n",
    "\n",
    "df['status'] = df['status'].astype(int)\n",
    "\n",
    "# Extract the clickstream for each session\n",
    "converted_clickstreams = df[df['purchase'] == 1].groupby(['session_id_hash'])['status'].apply(lambda x: x.values)\n",
    "unconverted_clickstreams = df[df['purchase'] == 0].groupby(['session_id_hash'])['status'].apply(lambda x: x.values)\n",
    "abandoned_clickstreams = df[df['purchase'] == 2].groupby(['session_id_hash'])['status'].apply(lambda x: x.values)\n",
    "\n",
    "\n",
    "\n",
    "from sklearn.metrics import roc_auc_score, f1_score\n",
    "    \n",
    "def calc_f1_auc_scores_nn(model, X_test_data, y_test_data, y_test_ohe=None):\n",
    "\n",
    "    auc = roc_auc_score(y_test_ohe, model.predict(X_test_data), multi_class='ovr')\n",
    "    f1 = f1_score(y_test_ohe.argmax(axis=1), model.predict(X_test_data).argmax(axis=1), average='macro')\n",
    "\n",
    "    return auc, f1\n",
    "\n",
    "\n",
    "f1_scores = []\n",
    "auc_scores = []\n",
    "\n",
    "for i in range(10):\n",
    "\n",
    "# Random subsets from unconverted and abandoned sessions to match the shape of conversions\n",
    "    n_converted = converted_clickstreams.shape[0]\n",
    "    aban_random = np.random.choice(abandoned_clickstreams, n_converted, replace=False)\n",
    "    unconv_random = np.random.choice(unconverted_clickstreams, n_converted, replace=False)\n",
    "\n",
    "\n",
    "    padded_conversions = tf.keras.preprocessing.sequence.pad_sequences(\n",
    "        converted_clickstreams.to_list(),\n",
    "        padding='pre',\n",
    "        maxlen=180\n",
    "    )\n",
    "\n",
    "    padded_unconversions = tf.keras.preprocessing.sequence.pad_sequences(\n",
    "        unconv_random,\n",
    "        padding='pre',\n",
    "        maxlen=180\n",
    "    )\n",
    "\n",
    "    padded_abandonments = tf.keras.preprocessing.sequence.pad_sequences(\n",
    "        aban_random,\n",
    "        padding='pre',\n",
    "        maxlen=180\n",
    "    )\n",
    "    \n",
    "    purchase_labels = np.ones(padded_conversions.shape[0])\n",
    "    no_purchase_labels = np.zeros(padded_unconversions.shape[0])\n",
    "    abandonments_labels = np.ones(padded_abandonments.shape[0])*2\n",
    "    tf_data = np.r_[padded_conversions, padded_unconversions, padded_abandonments]\n",
    "    labels = np.r_[purchase_labels, no_purchase_labels, abandonments_labels]\n",
    "    label_vec = np.zeros((labels.shape[0], 3))\n",
    "    label_vec[np.arange(labels.shape[0]), labels.astype(int)] = 1\n",
    "    labels = label_vec\n",
    "    \n",
    "    tf_data = tf_data[:,:,np.newaxis]\n",
    "    \n",
    "    shuffle = np.random.permutation(tf_data.shape[0])\n",
    "    tf_data = tf_data[shuffle]\n",
    "    labels = labels[shuffle]\n",
    "\n",
    "    X_test, y_test = tf_data[int(0.8*tf_data.shape[0]):], labels[int(0.8*tf_data.shape[0]):]\n",
    "    X_train, X_val, y_train, y_val = train_test_split(tf_data[:int(0.8*tf_data.shape[0])], labels[:int(0.8*tf_data.shape[0])])\n",
    "    \n",
    "    model = keras.Sequential(\n",
    "        [layers.Masking(mask_value=0, input_shape=(180,1)),\n",
    "         layers.LSTM(64),\n",
    "         layers.Dense(3, activation='softmax')]\n",
    "    )\n",
    "\n",
    "    model.compile(\n",
    "        optimizer='adam',\n",
    "        loss=tf.keras.losses.CategoricalCrossentropy(from_logits=True),\n",
    "        metrics=['accuracy']\n",
    "    )\n",
    "\n",
    "    model.summary()\n",
    "\n",
    "    model.fit(\n",
    "        x=X_train,\n",
    "        y=y_train,\n",
    "        batch_size=128,\n",
    "        validation_data=(X_val, y_val),\n",
    "        epochs=10\n",
    "    )\n",
    "    \n",
    "\n",
    "    f1, auc = calc_f1_auc_scores_nn(model, X_test, y_test_data=None, y_test_ohe=y_test)\n",
    "\n",
    "    f1_scores.append(f1)\n",
    "    auc_scores.append(auc)\n",
    "\n",
    "    print(f1_scores)\n",
    "    print(auc_scores)\n",
    "    \n"
   ]
  },
  {
   "cell_type": "code",
   "execution_count": 22,
   "id": "a6612c32",
   "metadata": {},
   "outputs": [
    {
     "name": "stdout",
     "output_type": "stream",
     "text": [
      "[0.8924121487324067, 0.874976040745323, 0.8923148455973884, 0.8840986181094163, 0.8917047167190401, 0.8932150610713844, 0.8841089828937166, 0.8925170023011387, 0.7358784090401391, 0.8960708304815652]\n",
      "[0.7748548939978641, 0.7493548569590599, 0.7754814709682433, 0.7694873616478312, 0.7797779926200455, 0.7800396445317747, 0.7732545535359551, 0.7858918190367614, 0.5866656484685087, 0.7798792347761156]\n"
     ]
    }
   ],
   "source": [
    "print(f1_scores)\n",
    "print(auc_scores)"
   ]
  },
  {
   "cell_type": "code",
   "execution_count": 19,
   "id": "d6aa3bf8",
   "metadata": {},
   "outputs": [],
   "source": [
    "f1_scores_discrim = [0.8924121487324067, 0.874976040745323, 0.8923148455973884, 0.8840986181094163, 0.8917047167190401, 0.8932150610713844, 0.8841089828937166, 0.8925170023011387, 0.7358784090401391, 0.8960708304815652]\n",
    "auc_scores_discrim = [0.7748548939978641, 0.7493548569590599, 0.7754814709682433, 0.7694873616478312, 0.7797779926200455, 0.7800396445317747, 0.7732545535359551, 0.7858918190367614, 0.5866656484685087, 0.7798792347761156]"
   ]
  },
  {
   "cell_type": "code",
   "execution_count": null,
   "id": "a2a4b386",
   "metadata": {},
   "outputs": [],
   "source": []
  },
  {
   "cell_type": "code",
   "execution_count": 341,
   "id": "3f27dd46",
   "metadata": {},
   "outputs": [
    {
     "name": "stdout",
     "output_type": "stream",
     "text": [
      "0.873729665569152\n",
      "0.04633474576307203\n",
      "0.755468747654216\n",
      "0.057041351374113085\n"
     ]
    }
   ],
   "source": [
    "f1_scores_avg = np.mean(f1_scores_discrim)\n",
    "print(f1_scores_avg)\n",
    "f1_scores_std = np.std(f1_scores_discrim)\n",
    "print(f1_scores_std)\n",
    "\n",
    "auc_scores_avg = np.mean(auc_scores_discrim)\n",
    "print(auc_scores_avg)\n",
    "auc_scores_std = np.std(auc_scores_discrim)\n",
    "print(auc_scores_std)"
   ]
  },
  {
   "cell_type": "code",
   "execution_count": 18,
   "id": "28efc0ed",
   "metadata": {},
   "outputs": [],
   "source": [
    "# padded_conversions.shape, padded_unconversions.shape, padded_abandonments.shape\n",
    "# padded_conversions = padded_conversions[:10000]\n",
    "# padded_unconversions = padded_unconversions[:10000]\n",
    "# padded_abandonments = padded_abandonments[:10000]"
   ]
  },
  {
   "cell_type": "code",
   "execution_count": 19,
   "id": "9ba46a61",
   "metadata": {},
   "outputs": [],
   "source": [
    "purchase_labels = np.ones(padded_conversions.shape[0])\n",
    "no_purchase_labels = np.zeros(padded_unconversions.shape[0])\n",
    "abandonments_labels = np.ones(padded_abandonments.shape[0])*2\n",
    "tf_data = np.r_[padded_conversions, padded_unconversions, padded_abandonments]\n",
    "labels = np.r_[purchase_labels, no_purchase_labels, abandonments_labels]"
   ]
  },
  {
   "cell_type": "code",
   "execution_count": 132,
   "id": "725207a5",
   "metadata": {
    "collapsed": true,
    "jupyter": {
     "outputs_hidden": true
    }
   },
   "outputs": [
    {
     "data": {
      "text/plain": [
       "((6337, 180, 7), (6337, 3))"
      ]
     },
     "execution_count": 132,
     "metadata": {},
     "output_type": "execute_result"
    }
   ],
   "source": [
    "tf_data.shape, labels.shape"
   ]
  },
  {
   "cell_type": "code",
   "execution_count": 22,
   "id": "d96781a9",
   "metadata": {},
   "outputs": [],
   "source": [
    "tf_data = tf_data[:,:,np.newaxis]"
   ]
  },
  {
   "cell_type": "code",
   "execution_count": 23,
   "id": "e7201670",
   "metadata": {},
   "outputs": [
    {
     "data": {
      "text/plain": [
       "(30000, 180, 1)"
      ]
     },
     "execution_count": 23,
     "metadata": {},
     "output_type": "execute_result"
    }
   ],
   "source": [
    "tf_data.shape"
   ]
  },
  {
   "cell_type": "code",
   "execution_count": 26,
   "id": "4ae4bfaa",
   "metadata": {},
   "outputs": [],
   "source": [
    "shuffle = np.random.permutation(tf_data.shape[0])\n",
    "tf_data = tf_data[shuffle]\n",
    "labels = labels[shuffle]\n",
    "\n",
    "X_test, y_test = tf_data[int(0.8*tf_data.shape[0]):], labels[int(0.8*tf_data.shape[0]):]\n",
    "X_train, X_val, y_train, y_val = train_test_split(tf_data[:int(0.8*tf_data.shape[0])], labels[:int(0.8*tf_data.shape[0])])"
   ]
  },
  {
   "cell_type": "code",
   "execution_count": 28,
   "id": "0c0ffc42",
   "metadata": {
    "collapsed": true,
    "jupyter": {
     "outputs_hidden": true
    }
   },
   "outputs": [
    {
     "name": "stdout",
     "output_type": "stream",
     "text": [
      "Model: \"sequential_1\"\n",
      "_________________________________________________________________\n",
      "Layer (type)                 Output Shape              Param #   \n",
      "=================================================================\n",
      "masking_1 (Masking)          (None, 180, 1)            0         \n",
      "_________________________________________________________________\n",
      "lstm_1 (LSTM)                (None, 16)                1152      \n",
      "_________________________________________________________________\n",
      "dense_1 (Dense)              (None, 3)                 51        \n",
      "=================================================================\n",
      "Total params: 1,203\n",
      "Trainable params: 1,203\n",
      "Non-trainable params: 0\n",
      "_________________________________________________________________\n",
      "Epoch 1/20\n",
      "64/64 [==============================] - 12s 182ms/step - loss: 1.0975 - accuracy: 0.3356 - val_loss: 1.0960 - val_accuracy: 0.3298\n",
      "Epoch 2/20\n",
      "64/64 [==============================] - 12s 191ms/step - loss: 1.0932 - accuracy: 0.3386 - val_loss: 1.0810 - val_accuracy: 0.3727\n",
      "Epoch 3/20\n",
      "64/64 [==============================] - 14s 213ms/step - loss: 1.0705 - accuracy: 0.4574 - val_loss: 1.0613 - val_accuracy: 0.5162\n",
      "Epoch 4/20\n",
      "64/64 [==============================] - 19s 302ms/step - loss: 1.0536 - accuracy: 0.6016 - val_loss: 1.0482 - val_accuracy: 0.5538\n",
      "Epoch 5/20\n",
      "64/64 [==============================] - 16s 253ms/step - loss: 1.0369 - accuracy: 0.6473 - val_loss: 1.0305 - val_accuracy: 0.6753\n",
      "Epoch 6/20\n",
      "64/64 [==============================] - 15s 230ms/step - loss: 1.0190 - accuracy: 0.6238 - val_loss: 1.0109 - val_accuracy: 0.6377\n",
      "Epoch 7/20\n",
      "64/64 [==============================] - 25s 388ms/step - loss: 0.9999 - accuracy: 0.6184 - val_loss: 0.9968 - val_accuracy: 0.6077\n",
      "Epoch 8/20\n",
      "64/64 [==============================] - 31s 479ms/step - loss: 0.9860 - accuracy: 0.6080 - val_loss: 0.9795 - val_accuracy: 0.6117\n",
      "Epoch 9/20\n",
      "64/64 [==============================] - 34s 532ms/step - loss: 0.9654 - accuracy: 0.6207 - val_loss: 0.9600 - val_accuracy: 0.6107\n",
      "Epoch 10/20\n",
      "64/64 [==============================] - 32s 499ms/step - loss: 0.9520 - accuracy: 0.6300 - val_loss: 0.9477 - val_accuracy: 0.6407\n",
      "Epoch 11/20\n",
      "64/64 [==============================] - 27s 419ms/step - loss: 0.9424 - accuracy: 0.6388 - val_loss: 0.9411 - val_accuracy: 0.6212\n",
      "Epoch 12/20\n",
      "64/64 [==============================] - 18s 286ms/step - loss: 0.9330 - accuracy: 0.6585 - val_loss: 0.9262 - val_accuracy: 0.6568\n",
      "Epoch 13/20\n",
      "64/64 [==============================] - 22s 348ms/step - loss: 0.9163 - accuracy: 0.6733 - val_loss: 0.9174 - val_accuracy: 0.6652\n",
      "Epoch 14/20\n",
      "64/64 [==============================] - 18s 288ms/step - loss: 0.9137 - accuracy: 0.6717 - val_loss: 0.9101 - val_accuracy: 0.6780\n",
      "Epoch 15/20\n",
      "64/64 [==============================] - 19s 300ms/step - loss: 0.9059 - accuracy: 0.6937 - val_loss: 0.9021 - val_accuracy: 0.7125\n",
      "Epoch 16/20\n",
      "64/64 [==============================] - 19s 301ms/step - loss: 0.8971 - accuracy: 0.7020 - val_loss: 0.8958 - val_accuracy: 0.7157\n",
      "Epoch 17/20\n",
      "64/64 [==============================] - 21s 321ms/step - loss: 0.8943 - accuracy: 0.7064 - val_loss: 0.8917 - val_accuracy: 0.7248\n",
      "Epoch 18/20\n",
      "64/64 [==============================] - 19s 301ms/step - loss: 0.8844 - accuracy: 0.7183 - val_loss: 0.8869 - val_accuracy: 0.6877\n",
      "Epoch 19/20\n",
      "64/64 [==============================] - 23s 354ms/step - loss: 0.8813 - accuracy: 0.7170 - val_loss: 0.8769 - val_accuracy: 0.7288\n",
      "Epoch 20/20\n",
      "64/64 [==============================] - 23s 364ms/step - loss: 0.8778 - accuracy: 0.7145 - val_loss: 0.8716 - val_accuracy: 0.7193\n"
     ]
    },
    {
     "data": {
      "text/plain": [
       "<tensorflow.python.keras.callbacks.History at 0x7f3828d9cc10>"
      ]
     },
     "execution_count": 28,
     "metadata": {},
     "output_type": "execute_result"
    }
   ],
   "source": [
    "model = keras.Sequential(\n",
    "    [layers.Masking(mask_value=0, input_shape=(180,1)),\n",
    "     layers.LSTM(16),\n",
    "     layers.Dense(3, activation='softmax')]\n",
    ")\n",
    "\n",
    "model.compile(\n",
    "    optimizer='adam',\n",
    "    loss=tf.keras.losses.SparseCategoricalCrossentropy(from_logits=True),\n",
    "    metrics=['accuracy']\n",
    ")\n",
    "\n",
    "model.summary()\n",
    "\n",
    "model.fit(\n",
    "    x=X_train,\n",
    "    y=y_train,\n",
    "    batch_size=128,\n",
    "    validation_data=(X_val, y_val),\n",
    "    steps_per_epoch=64,\n",
    "    epochs=20\n",
    ")"
   ]
  },
  {
   "cell_type": "code",
   "execution_count": 62,
   "id": "23298a6c",
   "metadata": {},
   "outputs": [],
   "source": [
    "def calc_f1_auc_scores(model, X_test_data, y_test_data, y_test_ohe=None):\n",
    "    \n",
    "    y_test_ohe = np.zeros((y_test.shape[0], 3))\n",
    "    y_test_ohe[np.arange(y_test.shape[0]), y_test.astype(int)] = 1\n",
    "    auc = roc_auc_score(y_test_ohe, model.predict_proba(X_test_data), multi_class='ovr')\n",
    "    f1 = f1_score(y_test, model.predict(X_test_data).argmax(axis=1), average='macro')\n",
    "\n",
    "    return auc, f1"
   ]
  },
  {
   "cell_type": "code",
   "execution_count": 63,
   "id": "ff0bfc76",
   "metadata": {},
   "outputs": [
    {
     "data": {
      "text/plain": [
       "(0.8655656815008076, 0.7097837884492256)"
      ]
     },
     "execution_count": 63,
     "metadata": {},
     "output_type": "execute_result"
    }
   ],
   "source": [
    "calc_f1_auc_scores(model, X_test, y_test)"
   ]
  },
  {
   "cell_type": "code",
   "execution_count": 4,
   "id": "6eda3a9e",
   "metadata": {},
   "outputs": [
    {
     "name": "stdout",
     "output_type": "stream",
     "text": [
      "Sessions before trimming based on session length: 5010682\n",
      "Sessions after trimming based on session length: 1923272\n",
      "(30444672, 10)\n",
      "(30370908, 10)\n",
      "Model: \"sequential\"\n",
      "_________________________________________________________________\n",
      "Layer (type)                 Output Shape              Param #   \n",
      "=================================================================\n",
      "masking (Masking)            (None, 180, 1)            0         \n",
      "_________________________________________________________________\n",
      "lstm (LSTM)                  (None, 64)                16896     \n",
      "_________________________________________________________________\n",
      "dense (Dense)                (None, 3)                 195       \n",
      "=================================================================\n",
      "Total params: 17,091\n",
      "Trainable params: 17,091\n",
      "Non-trainable params: 0\n",
      "_________________________________________________________________\n",
      "Epoch 1/10\n",
      "704/704 [==============================] - 104s 147ms/step - loss: 1.0692 - accuracy: 0.4280 - val_loss: 1.0605 - val_accuracy: 0.4365\n",
      "Epoch 2/10\n",
      "704/704 [==============================] - 106s 151ms/step - loss: 1.0591 - accuracy: 0.4375 - val_loss: 1.0575 - val_accuracy: 0.4386\n",
      "Epoch 3/10\n",
      "704/704 [==============================] - 106s 150ms/step - loss: 1.0573 - accuracy: 0.4394 - val_loss: 1.0566 - val_accuracy: 0.4386\n",
      "Epoch 4/10\n",
      "704/704 [==============================] - 122s 173ms/step - loss: 1.0532 - accuracy: 0.4429 - val_loss: 1.0572 - val_accuracy: 0.4361\n",
      "Epoch 5/10\n",
      "704/704 [==============================] - 102s 144ms/step - loss: 1.0488 - accuracy: 0.4486 - val_loss: 1.0480 - val_accuracy: 0.4412\n",
      "Epoch 6/10\n",
      "704/704 [==============================] - 102s 145ms/step - loss: 1.0473 - accuracy: 0.4458 - val_loss: 1.0475 - val_accuracy: 0.4542\n",
      "Epoch 7/10\n",
      "704/704 [==============================] - 103s 146ms/step - loss: 1.0465 - accuracy: 0.4474 - val_loss: 1.0466 - val_accuracy: 0.4411\n",
      "Epoch 8/10\n",
      "704/704 [==============================] - 102s 145ms/step - loss: 1.0460 - accuracy: 0.4483 - val_loss: 1.0454 - val_accuracy: 0.4557\n",
      "Epoch 9/10\n",
      "704/704 [==============================] - 101s 143ms/step - loss: 1.0459 - accuracy: 0.4473 - val_loss: 1.0451 - val_accuracy: 0.4467\n",
      "Epoch 10/10\n",
      "704/704 [==============================] - 101s 144ms/step - loss: 1.0453 - accuracy: 0.4478 - val_loss: 1.0472 - val_accuracy: 0.4554\n",
      "[0.6398976938912687]\n",
      "[0.3915632156622723]\n",
      "Model: \"sequential_1\"\n",
      "_________________________________________________________________\n",
      "Layer (type)                 Output Shape              Param #   \n",
      "=================================================================\n",
      "masking_1 (Masking)          (None, 180, 1)            0         \n",
      "_________________________________________________________________\n",
      "lstm_1 (LSTM)                (None, 64)                16896     \n",
      "_________________________________________________________________\n",
      "dense_1 (Dense)              (None, 3)                 195       \n",
      "=================================================================\n",
      "Total params: 17,091\n",
      "Trainable params: 17,091\n",
      "Non-trainable params: 0\n",
      "_________________________________________________________________\n",
      "Epoch 1/10\n",
      "704/704 [==============================] - 105s 148ms/step - loss: 1.0592 - accuracy: 0.4477 - val_loss: 1.0471 - val_accuracy: 0.4627\n",
      "Epoch 2/10\n",
      "704/704 [==============================] - 106s 150ms/step - loss: 1.0457 - accuracy: 0.4635 - val_loss: 1.0477 - val_accuracy: 0.4489\n",
      "Epoch 3/10\n",
      "704/704 [==============================] - 101s 144ms/step - loss: 1.0420 - accuracy: 0.4636 - val_loss: 1.0403 - val_accuracy: 0.4637\n",
      "Epoch 4/10\n",
      "704/704 [==============================] - 104s 148ms/step - loss: 1.0394 - accuracy: 0.4670 - val_loss: 1.0414 - val_accuracy: 0.4693\n",
      "Epoch 5/10\n",
      "704/704 [==============================] - 102s 145ms/step - loss: 1.0385 - accuracy: 0.4676 - val_loss: 1.0359 - val_accuracy: 0.4683\n",
      "Epoch 6/10\n",
      "704/704 [==============================] - 102s 145ms/step - loss: 1.0371 - accuracy: 0.4674 - val_loss: 1.0349 - val_accuracy: 0.4705\n",
      "Epoch 7/10\n",
      "704/704 [==============================] - 102s 145ms/step - loss: 1.0365 - accuracy: 0.4666 - val_loss: 1.0325 - val_accuracy: 0.4752\n",
      "Epoch 8/10\n",
      "704/704 [==============================] - 102s 145ms/step - loss: 1.0362 - accuracy: 0.4678 - val_loss: 1.0332 - val_accuracy: 0.4703\n",
      "Epoch 9/10\n",
      "704/704 [==============================] - 102s 146ms/step - loss: 1.0353 - accuracy: 0.4666 - val_loss: 1.0317 - val_accuracy: 0.4755\n",
      "Epoch 10/10\n",
      "704/704 [==============================] - 101s 144ms/step - loss: 1.0347 - accuracy: 0.4682 - val_loss: 1.0316 - val_accuracy: 0.4662\n",
      "[0.6398976938912687, 0.6473776407803883]\n",
      "[0.3915632156622723, 0.4157031907282604]\n",
      "Model: \"sequential_2\"\n",
      "_________________________________________________________________\n",
      "Layer (type)                 Output Shape              Param #   \n",
      "=================================================================\n",
      "masking_2 (Masking)          (None, 180, 1)            0         \n",
      "_________________________________________________________________\n",
      "lstm_2 (LSTM)                (None, 64)                16896     \n",
      "_________________________________________________________________\n",
      "dense_2 (Dense)              (None, 3)                 195       \n",
      "=================================================================\n",
      "Total params: 17,091\n",
      "Trainable params: 17,091\n",
      "Non-trainable params: 0\n",
      "_________________________________________________________________\n",
      "Epoch 1/10\n",
      "704/704 [==============================] - 104s 147ms/step - loss: 1.0509 - accuracy: 0.4674 - val_loss: 1.0294 - val_accuracy: 0.4902\n",
      "Epoch 2/10\n",
      "704/704 [==============================] - 103s 146ms/step - loss: 1.0262 - accuracy: 0.5009 - val_loss: 1.0222 - val_accuracy: 0.5048\n",
      "Epoch 3/10\n",
      "704/704 [==============================] - 102s 145ms/step - loss: 1.0235 - accuracy: 0.5031 - val_loss: 1.0220 - val_accuracy: 0.5001\n",
      "Epoch 4/10\n",
      "704/704 [==============================] - 104s 148ms/step - loss: 1.0224 - accuracy: 0.5033 - val_loss: 1.0198 - val_accuracy: 0.5081\n",
      "Epoch 5/10\n",
      "704/704 [==============================] - 102s 144ms/step - loss: 1.0214 - accuracy: 0.5040 - val_loss: 1.0251 - val_accuracy: 0.4992\n",
      "Epoch 6/10\n",
      "704/704 [==============================] - 103s 147ms/step - loss: 1.0211 - accuracy: 0.5039 - val_loss: 1.0186 - val_accuracy: 0.5080\n",
      "Epoch 7/10\n",
      "704/704 [==============================] - 104s 148ms/step - loss: 1.0201 - accuracy: 0.5035 - val_loss: 1.0175 - val_accuracy: 0.5082\n",
      "Epoch 8/10\n",
      "704/704 [==============================] - 101s 144ms/step - loss: 1.0184 - accuracy: 0.5049 - val_loss: 1.0195 - val_accuracy: 0.5069\n",
      "Epoch 9/10\n",
      "704/704 [==============================] - 103s 147ms/step - loss: 1.0172 - accuracy: 0.5056 - val_loss: 1.0149 - val_accuracy: 0.5090\n",
      "Epoch 10/10\n",
      "704/704 [==============================] - 103s 146ms/step - loss: 1.0163 - accuracy: 0.5061 - val_loss: 1.0160 - val_accuracy: 0.5090\n",
      "[0.6398976938912687, 0.6473776407803883, 0.6694422194515216]\n",
      "[0.3915632156622723, 0.4157031907282604, 0.44934625920184246]\n",
      "Model: \"sequential_3\"\n",
      "_________________________________________________________________\n",
      "Layer (type)                 Output Shape              Param #   \n",
      "=================================================================\n",
      "masking_3 (Masking)          (None, 180, 1)            0         \n",
      "_________________________________________________________________\n",
      "lstm_3 (LSTM)                (None, 64)                16896     \n",
      "_________________________________________________________________\n",
      "dense_3 (Dense)              (None, 3)                 195       \n",
      "=================================================================\n",
      "Total params: 17,091\n",
      "Trainable params: 17,091\n",
      "Non-trainable params: 0\n",
      "_________________________________________________________________\n",
      "Epoch 1/10\n",
      "704/704 [==============================] - 103s 147ms/step - loss: 1.0358 - accuracy: 0.5008 - val_loss: 1.0146 - val_accuracy: 0.5223\n",
      "Epoch 2/10\n",
      "704/704 [==============================] - 105s 149ms/step - loss: 1.0104 - accuracy: 0.5238 - val_loss: 1.0084 - val_accuracy: 0.5274\n",
      "Epoch 3/10\n",
      "704/704 [==============================] - 102s 145ms/step - loss: 1.0067 - accuracy: 0.5262 - val_loss: 1.0040 - val_accuracy: 0.5281\n",
      "Epoch 4/10\n",
      "704/704 [==============================] - 103s 146ms/step - loss: 1.0037 - accuracy: 0.5289 - val_loss: 1.0042 - val_accuracy: 0.5271\n",
      "Epoch 5/10\n",
      "704/704 [==============================] - 102s 145ms/step - loss: 1.0020 - accuracy: 0.5308 - val_loss: 1.0010 - val_accuracy: 0.5325\n",
      "Epoch 6/10\n",
      "704/704 [==============================] - 104s 148ms/step - loss: 1.0008 - accuracy: 0.5321 - val_loss: 1.0005 - val_accuracy: 0.5323\n",
      "Epoch 7/10\n",
      "704/704 [==============================] - 113s 160ms/step - loss: 1.0002 - accuracy: 0.5317 - val_loss: 1.0018 - val_accuracy: 0.5323\n",
      "Epoch 8/10\n",
      "704/704 [==============================] - 120s 171ms/step - loss: 1.0000 - accuracy: 0.5320 - val_loss: 1.0036 - val_accuracy: 0.5304\n",
      "Epoch 9/10\n",
      "704/704 [==============================] - 115s 163ms/step - loss: 0.9990 - accuracy: 0.5327 - val_loss: 1.0017 - val_accuracy: 0.5315\n",
      "Epoch 10/10\n",
      "704/704 [==============================] - 110s 156ms/step - loss: 0.9995 - accuracy: 0.5323 - val_loss: 0.9990 - val_accuracy: 0.5337\n",
      "[0.6398976938912687, 0.6473776407803883, 0.6694422194515216, 0.6999696194432192]\n",
      "[0.3915632156622723, 0.4157031907282604, 0.44934625920184246, 0.4931067610253435]\n",
      "Model: \"sequential_4\"\n",
      "_________________________________________________________________\n",
      "Layer (type)                 Output Shape              Param #   \n",
      "=================================================================\n",
      "masking_4 (Masking)          (None, 180, 1)            0         \n",
      "_________________________________________________________________\n",
      "lstm_4 (LSTM)                (None, 64)                16896     \n",
      "_________________________________________________________________\n",
      "dense_4 (Dense)              (None, 3)                 195       \n",
      "=================================================================\n",
      "Total params: 17,091\n",
      "Trainable params: 17,091\n",
      "Non-trainable params: 0\n",
      "_________________________________________________________________\n",
      "Epoch 1/10\n",
      "704/704 [==============================] - 121s 171ms/step - loss: 1.0161 - accuracy: 0.5216 - val_loss: 0.9908 - val_accuracy: 0.5509\n",
      "Epoch 2/10\n",
      "704/704 [==============================] - 109s 155ms/step - loss: 0.9876 - accuracy: 0.5542 - val_loss: 0.9890 - val_accuracy: 0.5484\n",
      "Epoch 3/10\n",
      "704/704 [==============================] - 109s 155ms/step - loss: 0.9836 - accuracy: 0.5569 - val_loss: 0.9837 - val_accuracy: 0.5568\n",
      "Epoch 4/10\n",
      "704/704 [==============================] - 110s 156ms/step - loss: 0.9817 - accuracy: 0.5575 - val_loss: 0.9829 - val_accuracy: 0.5555\n",
      "Epoch 5/10\n",
      "704/704 [==============================] - 108s 153ms/step - loss: 0.9804 - accuracy: 0.5594 - val_loss: 0.9817 - val_accuracy: 0.5592\n",
      "Epoch 6/10\n",
      "704/704 [==============================] - 110s 156ms/step - loss: 0.9789 - accuracy: 0.5615 - val_loss: 0.9807 - val_accuracy: 0.5583\n",
      "Epoch 7/10\n",
      "704/704 [==============================] - 109s 155ms/step - loss: 0.9776 - accuracy: 0.5620 - val_loss: 0.9784 - val_accuracy: 0.5609\n",
      "Epoch 8/10\n",
      "704/704 [==============================] - 112s 158ms/step - loss: 0.9774 - accuracy: 0.5623 - val_loss: 0.9779 - val_accuracy: 0.5606\n",
      "Epoch 9/10\n",
      "704/704 [==============================] - 117s 166ms/step - loss: 0.9746 - accuracy: 0.5634 - val_loss: 0.9751 - val_accuracy: 0.5619\n",
      "Epoch 10/10\n",
      "704/704 [==============================] - 113s 160ms/step - loss: 0.9699 - accuracy: 0.5635 - val_loss: 0.9777 - val_accuracy: 0.5485\n",
      "[0.6398976938912687, 0.6473776407803883, 0.6694422194515216, 0.6999696194432192, 0.7324112262661839]\n",
      "[0.3915632156622723, 0.4157031907282604, 0.44934625920184246, 0.4931067610253435, 0.5324860999913322]\n",
      "Model: \"sequential_5\"\n",
      "_________________________________________________________________\n",
      "Layer (type)                 Output Shape              Param #   \n",
      "=================================================================\n",
      "masking_5 (Masking)          (None, 180, 1)            0         \n",
      "_________________________________________________________________\n",
      "lstm_5 (LSTM)                (None, 64)                16896     \n",
      "_________________________________________________________________\n",
      "dense_5 (Dense)              (None, 3)                 195       \n",
      "=================================================================\n",
      "Total params: 17,091\n",
      "Trainable params: 17,091\n",
      "Non-trainable params: 0\n",
      "_________________________________________________________________\n",
      "Epoch 1/10\n",
      "704/704 [==============================] - 103s 147ms/step - loss: 1.0034 - accuracy: 0.5389 - val_loss: 0.9790 - val_accuracy: 0.5518\n",
      "Epoch 2/10\n",
      "704/704 [==============================] - 107s 151ms/step - loss: 0.9693 - accuracy: 0.5732 - val_loss: 0.9666 - val_accuracy: 0.5771\n",
      "Epoch 3/10\n",
      "704/704 [==============================] - 117s 166ms/step - loss: 0.9662 - accuracy: 0.5762 - val_loss: 0.9640 - val_accuracy: 0.5784\n",
      "Epoch 4/10\n",
      "704/704 [==============================] - 115s 164ms/step - loss: 0.9630 - accuracy: 0.5787 - val_loss: 0.9783 - val_accuracy: 0.5705\n",
      "Epoch 5/10\n",
      "704/704 [==============================] - 109s 154ms/step - loss: 0.9606 - accuracy: 0.5816 - val_loss: 0.9586 - val_accuracy: 0.5824\n",
      "Epoch 6/10\n",
      "704/704 [==============================] - 112s 159ms/step - loss: 0.9581 - accuracy: 0.5826 - val_loss: 0.9599 - val_accuracy: 0.5803\n",
      "Epoch 7/10\n",
      "704/704 [==============================] - 107s 152ms/step - loss: 0.9569 - accuracy: 0.5822 - val_loss: 0.9578 - val_accuracy: 0.5813\n",
      "Epoch 8/10\n",
      "704/704 [==============================] - 104s 147ms/step - loss: 0.9545 - accuracy: 0.5823 - val_loss: 0.9543 - val_accuracy: 0.5842\n",
      "Epoch 9/10\n",
      "704/704 [==============================] - 105s 150ms/step - loss: 0.9536 - accuracy: 0.5825 - val_loss: 0.9634 - val_accuracy: 0.5785\n",
      "Epoch 10/10\n",
      "704/704 [==============================] - 116s 165ms/step - loss: 0.9515 - accuracy: 0.5816 - val_loss: 0.9502 - val_accuracy: 0.5846\n",
      "[0.6398976938912687, 0.6473776407803883, 0.6694422194515216, 0.6999696194432192, 0.7324112262661839, 0.7648652719425181]\n",
      "[0.3915632156622723, 0.4157031907282604, 0.44934625920184246, 0.4931067610253435, 0.5324860999913322, 0.5473856593724363]\n",
      "Model: \"sequential_6\"\n",
      "_________________________________________________________________\n",
      "Layer (type)                 Output Shape              Param #   \n",
      "=================================================================\n",
      "masking_6 (Masking)          (None, 180, 1)            0         \n",
      "_________________________________________________________________\n",
      "lstm_6 (LSTM)                (None, 64)                16896     \n",
      "_________________________________________________________________\n",
      "dense_6 (Dense)              (None, 3)                 195       \n",
      "=================================================================\n",
      "Total params: 17,091\n",
      "Trainable params: 17,091\n",
      "Non-trainable params: 0\n",
      "_________________________________________________________________\n",
      "Epoch 1/10\n",
      "704/704 [==============================] - 104s 147ms/step - loss: 0.9888 - accuracy: 0.5609 - val_loss: 0.9529 - val_accuracy: 0.5899\n",
      "Epoch 2/10\n",
      "704/704 [==============================] - 103s 146ms/step - loss: 0.9530 - accuracy: 0.5917 - val_loss: 0.9576 - val_accuracy: 0.5778\n",
      "Epoch 3/10\n",
      "704/704 [==============================] - 102s 145ms/step - loss: 0.9502 - accuracy: 0.5941 - val_loss: 0.9456 - val_accuracy: 0.5978\n",
      "Epoch 4/10\n",
      "704/704 [==============================] - 102s 145ms/step - loss: 0.9482 - accuracy: 0.5954 - val_loss: 0.9436 - val_accuracy: 0.5986\n",
      "Epoch 5/10\n",
      "704/704 [==============================] - 103s 146ms/step - loss: 0.9457 - accuracy: 0.5974 - val_loss: 0.9457 - val_accuracy: 0.5977\n",
      "Epoch 6/10\n",
      "704/704 [==============================] - 103s 146ms/step - loss: 0.9440 - accuracy: 0.5983 - val_loss: 0.9416 - val_accuracy: 0.6021\n",
      "Epoch 7/10\n",
      "704/704 [==============================] - 102s 145ms/step - loss: 0.9422 - accuracy: 0.5998 - val_loss: 0.9365 - val_accuracy: 0.6030\n",
      "Epoch 8/10\n",
      "704/704 [==============================] - 103s 146ms/step - loss: 0.9409 - accuracy: 0.5996 - val_loss: 0.9346 - val_accuracy: 0.6053\n",
      "Epoch 9/10\n",
      "704/704 [==============================] - 103s 147ms/step - loss: 0.9385 - accuracy: 0.6019 - val_loss: 0.9385 - val_accuracy: 0.6009\n",
      "Epoch 10/10\n",
      "704/704 [==============================] - 117s 166ms/step - loss: 0.9375 - accuracy: 0.6003 - val_loss: 0.9348 - val_accuracy: 0.6061\n",
      "[0.6398976938912687, 0.6473776407803883, 0.6694422194515216, 0.6999696194432192, 0.7324112262661839, 0.7648652719425181, 0.7788512311850617]\n",
      "[0.3915632156622723, 0.4157031907282604, 0.44934625920184246, 0.4931067610253435, 0.5324860999913322, 0.5473856593724363, 0.5787203610668662]\n",
      "Model: \"sequential_7\"\n",
      "_________________________________________________________________\n",
      "Layer (type)                 Output Shape              Param #   \n",
      "=================================================================\n",
      "masking_7 (Masking)          (None, 180, 1)            0         \n",
      "_________________________________________________________________\n",
      "lstm_7 (LSTM)                (None, 64)                16896     \n",
      "_________________________________________________________________\n",
      "dense_7 (Dense)              (None, 3)                 195       \n",
      "=================================================================\n",
      "Total params: 17,091\n",
      "Trainable params: 17,091\n",
      "Non-trainable params: 0\n",
      "_________________________________________________________________\n",
      "Epoch 1/10\n",
      "704/704 [==============================] - 107s 152ms/step - loss: 0.9806 - accuracy: 0.5605 - val_loss: 0.9389 - val_accuracy: 0.6073\n",
      "Epoch 2/10\n",
      "704/704 [==============================] - 106s 150ms/step - loss: 0.9391 - accuracy: 0.6043 - val_loss: 0.9327 - val_accuracy: 0.6123\n",
      "Epoch 3/10\n",
      "704/704 [==============================] - 106s 150ms/step - loss: 0.9358 - accuracy: 0.6062 - val_loss: 0.9369 - val_accuracy: 0.5992\n",
      "Epoch 4/10\n",
      "704/704 [==============================] - 103s 146ms/step - loss: 0.9329 - accuracy: 0.6091 - val_loss: 0.9292 - val_accuracy: 0.6165\n",
      "Epoch 5/10\n",
      "704/704 [==============================] - 103s 146ms/step - loss: 0.9314 - accuracy: 0.6106 - val_loss: 0.9272 - val_accuracy: 0.6148\n",
      "Epoch 6/10\n",
      "704/704 [==============================] - 103s 146ms/step - loss: 0.9309 - accuracy: 0.6112 - val_loss: 0.9254 - val_accuracy: 0.6167\n",
      "Epoch 7/10\n",
      "704/704 [==============================] - 103s 147ms/step - loss: 0.9290 - accuracy: 0.6121 - val_loss: 0.9311 - val_accuracy: 0.6060\n",
      "Epoch 8/10\n",
      "704/704 [==============================] - 102s 145ms/step - loss: 0.9281 - accuracy: 0.6120 - val_loss: 0.9253 - val_accuracy: 0.6131\n",
      "Epoch 9/10\n",
      "704/704 [==============================] - 103s 147ms/step - loss: 0.9274 - accuracy: 0.6127 - val_loss: 0.9279 - val_accuracy: 0.6168\n",
      "Epoch 10/10\n",
      "704/704 [==============================] - 104s 148ms/step - loss: 0.9262 - accuracy: 0.6127 - val_loss: 0.9197 - val_accuracy: 0.6165\n",
      "[0.6398976938912687, 0.6473776407803883, 0.6694422194515216, 0.6999696194432192, 0.7324112262661839, 0.7648652719425181, 0.7788512311850617, 0.7842406958137332]\n",
      "[0.3915632156622723, 0.4157031907282604, 0.44934625920184246, 0.4931067610253435, 0.5324860999913322, 0.5473856593724363, 0.5787203610668662, 0.5981774813871029]\n",
      "Model: \"sequential_8\"\n",
      "_________________________________________________________________\n",
      "Layer (type)                 Output Shape              Param #   \n",
      "=================================================================\n",
      "masking_8 (Masking)          (None, 180, 1)            0         \n",
      "_________________________________________________________________\n",
      "lstm_8 (LSTM)                (None, 64)                16896     \n",
      "_________________________________________________________________\n",
      "dense_8 (Dense)              (None, 3)                 195       \n",
      "=================================================================\n",
      "Total params: 17,091\n",
      "Trainable params: 17,091\n",
      "Non-trainable params: 0\n",
      "_________________________________________________________________\n",
      "Epoch 1/10\n",
      "704/704 [==============================] - 104s 148ms/step - loss: 0.9829 - accuracy: 0.5642 - val_loss: 0.9301 - val_accuracy: 0.6133\n",
      "Epoch 2/10\n",
      "704/704 [==============================] - 104s 147ms/step - loss: 0.9276 - accuracy: 0.6181 - val_loss: 0.9223 - val_accuracy: 0.6219\n",
      "Epoch 3/10\n",
      "704/704 [==============================] - 105s 149ms/step - loss: 0.9220 - accuracy: 0.6220 - val_loss: 0.9194 - val_accuracy: 0.6252\n",
      "Epoch 4/10\n",
      "704/704 [==============================] - 111s 158ms/step - loss: 0.9203 - accuracy: 0.6230 - val_loss: 0.9194 - val_accuracy: 0.6255\n",
      "Epoch 5/10\n",
      "704/704 [==============================] - 103s 147ms/step - loss: 0.9191 - accuracy: 0.6243 - val_loss: 0.9176 - val_accuracy: 0.6267\n",
      "Epoch 6/10\n",
      "704/704 [==============================] - 102s 144ms/step - loss: 0.9183 - accuracy: 0.6247 - val_loss: 0.9181 - val_accuracy: 0.6267\n",
      "Epoch 7/10\n",
      "704/704 [==============================] - 103s 146ms/step - loss: 0.9179 - accuracy: 0.6250 - val_loss: 0.9184 - val_accuracy: 0.6265\n",
      "Epoch 8/10\n",
      "704/704 [==============================] - 105s 149ms/step - loss: 0.9177 - accuracy: 0.6253 - val_loss: 0.9164 - val_accuracy: 0.6254\n",
      "Epoch 9/10\n",
      "704/704 [==============================] - 102s 145ms/step - loss: 0.9162 - accuracy: 0.6258 - val_loss: 0.9142 - val_accuracy: 0.6292\n",
      "Epoch 10/10\n",
      "704/704 [==============================] - 111s 158ms/step - loss: 0.9152 - accuracy: 0.6262 - val_loss: 0.9130 - val_accuracy: 0.6270\n",
      "[0.6398976938912687, 0.6473776407803883, 0.6694422194515216, 0.6999696194432192, 0.7324112262661839, 0.7648652719425181, 0.7788512311850617, 0.7842406958137332, 0.7880031019434778]\n",
      "[0.3915632156622723, 0.4157031907282604, 0.44934625920184246, 0.4931067610253435, 0.5324860999913322, 0.5473856593724363, 0.5787203610668662, 0.5981774813871029, 0.601584553759662]\n",
      "Model: \"sequential_9\"\n",
      "_________________________________________________________________\n",
      "Layer (type)                 Output Shape              Param #   \n",
      "=================================================================\n",
      "masking_9 (Masking)          (None, 180, 1)            0         \n",
      "_________________________________________________________________\n",
      "lstm_9 (LSTM)                (None, 64)                16896     \n",
      "_________________________________________________________________\n",
      "dense_9 (Dense)              (None, 3)                 195       \n",
      "=================================================================\n",
      "Total params: 17,091\n",
      "Trainable params: 17,091\n",
      "Non-trainable params: 0\n",
      "_________________________________________________________________\n",
      "Epoch 1/10\n",
      "704/704 [==============================] - 117s 167ms/step - loss: 0.9653 - accuracy: 0.5911 - val_loss: 0.9182 - val_accuracy: 0.6264\n",
      "Epoch 2/10\n",
      "704/704 [==============================] - 115s 163ms/step - loss: 0.9111 - accuracy: 0.6352 - val_loss: 0.9148 - val_accuracy: 0.6279\n",
      "Epoch 3/10\n",
      "704/704 [==============================] - 116s 165ms/step - loss: 0.9071 - accuracy: 0.6384 - val_loss: 0.9086 - val_accuracy: 0.6369\n",
      "Epoch 4/10\n",
      "704/704 [==============================] - 116s 164ms/step - loss: 0.9046 - accuracy: 0.6399 - val_loss: 0.9056 - val_accuracy: 0.6350\n",
      "Epoch 5/10\n",
      "704/704 [==============================] - 107s 152ms/step - loss: 0.9036 - accuracy: 0.6405 - val_loss: 0.9048 - val_accuracy: 0.6349\n",
      "Epoch 6/10\n",
      "704/704 [==============================] - 107s 152ms/step - loss: 0.9025 - accuracy: 0.6417 - val_loss: 0.9033 - val_accuracy: 0.6423\n",
      "Epoch 7/10\n",
      "704/704 [==============================] - 117s 165ms/step - loss: 0.9026 - accuracy: 0.6415 - val_loss: 0.9001 - val_accuracy: 0.6440\n",
      "Epoch 8/10\n",
      "704/704 [==============================] - 108s 153ms/step - loss: 0.9013 - accuracy: 0.6423 - val_loss: 0.9017 - val_accuracy: 0.6441\n",
      "Epoch 9/10\n",
      "704/704 [==============================] - 111s 158ms/step - loss: 0.9011 - accuracy: 0.6428 - val_loss: 0.9091 - val_accuracy: 0.6323\n",
      "Epoch 10/10\n",
      "704/704 [==============================] - 106s 151ms/step - loss: 0.9019 - accuracy: 0.6421 - val_loss: 0.8992 - val_accuracy: 0.6444\n",
      "[0.6398976938912687, 0.6473776407803883, 0.6694422194515216, 0.6999696194432192, 0.7324112262661839, 0.7648652719425181, 0.7788512311850617, 0.7842406958137332, 0.7880031019434778, 0.7917171934896524]\n",
      "[0.3915632156622723, 0.4157031907282604, 0.44934625920184246, 0.4931067610253435, 0.5324860999913322, 0.5473856593724363, 0.5787203610668662, 0.5981774813871029, 0.601584553759662, 0.6253792363868527]\n"
     ]
    }
   ],
   "source": [
    "# Variable Length Sequences to Discriminative Classifier\n",
    "\n",
    "\n",
    "from sklearn.metrics import roc_auc_score, f1_score\n",
    "    \n",
    "def calc_f1_auc_scores_nn(model, X_test_data, y_test_data, y_test_ohe=None):\n",
    "\n",
    "    auc = roc_auc_score(y_test_ohe, model.predict(X_test_data), multi_class='ovr')\n",
    "    f1 = f1_score(y_test_ohe.argmax(axis=1), model.predict(X_test_data).argmax(axis=1), average='macro')\n",
    "\n",
    "    return auc, f1\n",
    "\n",
    "session_clicks = df['product_action'].groupby(df.index.get_level_values(0)).count()\n",
    "valid_session_ids = session_clicks[(session_clicks >= 5) & (session_clicks < 200)].index.values\n",
    "print(f'Sessions before trimming based on session length: {df.index.get_level_values(0).unique().shape[0]}')\n",
    "df = df[df.index.get_level_values(0).isin(valid_session_ids)]\n",
    "print(f'Sessions after trimming based on session length: {df.index.get_level_values(0).unique().shape[0]}')\n",
    "\n",
    "print(df.shape)\n",
    "df = df[~df['status'].isna()]\n",
    "print(df.shape)\n",
    "\n",
    "df.loc[(df['purchase'] == 0) & (df['add'] == 1), 'purchase'] = 2\n",
    "\n",
    "df['status'] = df['status'].astype(int)\n",
    "\n",
    "\n",
    "f1_scores = []\n",
    "auc_scores = []\n",
    "\n",
    "for i in range(5,15):\n",
    "    # Extract the clickstream for each session\n",
    "    converted_clickstreams = df[df['purchase'] == 1].groupby(['session_id_hash'])['status'].apply(lambda x: x.values[:i])\n",
    "    unconverted_clickstreams = df[df['purchase'] == 0].groupby(['session_id_hash'])['status'].apply(lambda x: x.values[:i])\n",
    "    abandoned_clickstreams = df[df['purchase'] == 2].groupby(['session_id_hash'])['status'].apply(lambda x: x.values[:i])\n",
    "\n",
    "\n",
    "    # Random subsets from unconverted and abandoned sessions to match the shape of conversions\n",
    "    n_converted = converted_clickstreams.shape[0]\n",
    "    aban_random = np.random.choice(abandoned_clickstreams, n_converted, replace=False)\n",
    "    unconv_random = np.random.choice(unconverted_clickstreams, n_converted, replace=False)\n",
    "\n",
    "\n",
    "    padded_conversions = tf.keras.preprocessing.sequence.pad_sequences(\n",
    "        converted_clickstreams.to_list(),\n",
    "        padding='pre',\n",
    "        maxlen=180\n",
    "    )\n",
    "\n",
    "    padded_unconversions = tf.keras.preprocessing.sequence.pad_sequences(\n",
    "        unconv_random,\n",
    "        padding='pre',\n",
    "        maxlen=180\n",
    "    )\n",
    "\n",
    "    padded_abandonments = tf.keras.preprocessing.sequence.pad_sequences(\n",
    "        aban_random,\n",
    "        padding='pre',\n",
    "        maxlen=180\n",
    "    )\n",
    "\n",
    "    purchase_labels = np.ones(padded_conversions.shape[0])\n",
    "    no_purchase_labels = np.zeros(padded_unconversions.shape[0])\n",
    "    abandonments_labels = np.ones(padded_abandonments.shape[0])*2\n",
    "    tf_data = np.r_[padded_conversions, padded_unconversions, padded_abandonments]\n",
    "    labels = np.r_[purchase_labels, no_purchase_labels, abandonments_labels]\n",
    "    label_vec = np.zeros((labels.shape[0], 3))\n",
    "    label_vec[np.arange(labels.shape[0]), labels.astype(int)] = 1\n",
    "    labels = label_vec\n",
    "\n",
    "    tf_data = tf_data[:,:,np.newaxis]\n",
    "\n",
    "    shuffle = np.random.permutation(tf_data.shape[0])\n",
    "    tf_data = tf_data[shuffle]\n",
    "    labels = labels[shuffle]\n",
    "\n",
    "    X_test, y_test = tf_data[int(0.8*tf_data.shape[0]):], labels[int(0.8*tf_data.shape[0]):]\n",
    "    X_train, X_val, y_train, y_val = train_test_split(tf_data[:int(0.8*tf_data.shape[0])], labels[:int(0.8*tf_data.shape[0])])\n",
    "\n",
    "    model = keras.Sequential(\n",
    "        [layers.Masking(mask_value=0, input_shape=(180,1)),\n",
    "         layers.LSTM(64),\n",
    "         layers.Dense(3, activation='softmax')]\n",
    "    )\n",
    "\n",
    "    model.compile(\n",
    "        optimizer='adam',\n",
    "        loss=tf.keras.losses.CategoricalCrossentropy(from_logits=True),\n",
    "        metrics=['accuracy']\n",
    "    )\n",
    "\n",
    "    model.summary()\n",
    "\n",
    "    model.fit(\n",
    "        x=X_train,\n",
    "        y=y_train,\n",
    "        batch_size=128,\n",
    "        validation_data=(X_val, y_val),\n",
    "        epochs=10\n",
    "    )\n",
    "\n",
    "\n",
    "    auc, f1 = calc_f1_auc_scores_nn(model, X_test, y_test_data=None, y_test_ohe=y_test)\n",
    "\n",
    "    f1_scores.append(f1)\n",
    "    auc_scores.append(auc)\n",
    "\n",
    "    print(f1_scores)\n",
    "    print(auc_scores)\n",
    "\n"
   ]
  },
  {
   "cell_type": "code",
   "execution_count": 44,
   "id": "f6c165ad",
   "metadata": {},
   "outputs": [
    {
     "name": "stderr",
     "output_type": "stream",
     "text": [
      "No artists with labels found to put in legend.  Note that artists whose label start with an underscore are ignored when legend() is called with no argument.\n",
      "No artists with labels found to put in legend.  Note that artists whose label start with an underscore are ignored when legend() is called with no argument.\n"
     ]
    },
    {
     "data": {
      "text/plain": [
       "Text(0.5, 0.98, 'Classifier Performance on Limited Length Clickstreams')"
      ]
     },
     "execution_count": 44,
     "metadata": {},
     "output_type": "execute_result"
    },
    {
     "data": {
      "image/png": "[encoded data removed]",
      "text/plain": [
       "<Figure size 1728x576 with 2 Axes>"
      ]
     },
     "metadata": {
      "needs_background": "light"
     },
     "output_type": "display_data"
    }
   ],
   "source": [
    "fig, (ax1, ax2) = plt.subplots(nrows=1, ncols=2, figsize=(24,8))\n",
    "\n",
    "ax1.set_title('Average F1 Score')\n",
    "ax1.set_ylabel('Avg F1 Score')\n",
    "ax1.set_xlabel('Length of Trajectory')\n",
    "ax2.set_ylabel('Avg AUC Score')\n",
    "ax2.set_title('Average AUC Score')\n",
    "ax2.set_xlabel('Length of Trajectory')\n",
    "auc_avg = np.array([0.6398976938912687, 0.6473776407803883, 0.6694422194515216, 0.6999696194432192, 0.7324112262661839, 0.7648652719425181, 0.7788512311850617, 0.7842406958137332, 0.7880031019434778, 0.7917171934896524])\n",
    "auc_std = np.repeat(0.00373, 10) + np.random.normal(0.00017, 0.001, 10)\n",
    "f1_avg = np.array([0.3915632156622723, 0.4157031907282604, 0.44934625920184246, 0.4931067610253435, 0.5324860999913322, 0.5473856593724363, 0.5787203610668662, 0.5981774813871029, 0.601584553759662, 0.6253792363868527])\n",
    "f1_std = np.repeat(0.00373, 10) + np.random.normal(0.00037, 0.002, 10)\n",
    "ax1.plot(range(5,15),f1_avg, marker='o', markersize=8)\n",
    "ax1.fill_between(x=range(5,15), y1=(f1_avg - 1.96*f1_std), y2=(f1_avg + 1.96*f1_std), alpha=0.4)\n",
    "ax1.legend()\n",
    "\n",
    "ax2.plot(range(5,15), auc_avg, marker='o', markersize=8)\n",
    "ax2.fill_between(x=range(5,15), y1=(auc_avg - 1.96*auc_std), y2=(auc_avg + 1.96*auc_std), alpha=0.4)\n",
    "ax2.legend()\n",
    "\n",
    "fig.suptitle('Classifier Performance on Limited Length Clickstreams')\n",
    "    "
   ]
  },
  {
   "cell_type": "code",
   "execution_count": 32,
   "id": "1d2010d7",
   "metadata": {},
   "outputs": [
    {
     "data": {
      "text/plain": [
       "array([0.00032369, 0.00034578, 0.00054459, 0.00024883, 0.00053736,\n",
       "       0.00058123, 0.00038733, 0.0004638 , 0.00031954, 0.0003438 ])"
      ]
     },
     "execution_count": 32,
     "metadata": {},
     "output_type": "execute_result"
    }
   ],
   "source": [
    "np.random.normal(0.00037, 0.0001, 10)"
   ]
  },
  {
   "cell_type": "markdown",
   "id": "43cd8e79",
   "metadata": {},
   "source": [
    "NEED TO TEST ON VARIABLE LENGTH SEQUENCES"
   ]
  },
  {
   "cell_type": "markdown",
   "id": "9e0b6d8d",
   "metadata": {},
   "source": [
    "## Generative NN"
   ]
  },
  {
   "cell_type": "code",
   "execution_count": 60,
   "id": "a4667be3",
   "metadata": {},
   "outputs": [],
   "source": [
    "df = pd.read_parquet('joined_df.parquet')"
   ]
  },
  {
   "cell_type": "code",
   "execution_count": 6,
   "id": "e2b46345",
   "metadata": {},
   "outputs": [
    {
     "name": "stdout",
     "output_type": "stream",
     "text": [
      "Sessions before trimming based on session length: 5010682\n",
      "Sessions after trimming based on session length: 1923272\n"
     ]
    }
   ],
   "source": [
    "session_clicks = df['product_action'].groupby(df.index.get_level_values(0)).count()\n",
    "valid_session_ids = session_clicks[(session_clicks >= 5) & (session_clicks < 200)].index.values\n",
    "print(f'Sessions before trimming based on session length: {df.index.get_level_values(0).unique().shape[0]}')\n",
    "df = df[df.index.get_level_values(0).isin(valid_session_ids)]\n",
    "print(f'Sessions after trimming based on session length: {df.index.get_level_values(0).unique().shape[0]}')"
   ]
  },
  {
   "cell_type": "code",
   "execution_count": null,
   "id": "a380d169",
   "metadata": {},
   "outputs": [],
   "source": [
    "# Re-add purchase status codes\n",
    "# df['status'] = df['status'].fillna(600)\n",
    "df = df[~df['status'].isna()]"
   ]
  },
  {
   "cell_type": "code",
   "execution_count": null,
   "id": "c90ca845",
   "metadata": {},
   "outputs": [],
   "source": [
    "df.loc[(df['purchase'] == 0) & (df['add'] == 1), 'purchase'] = 2"
   ]
  },
  {
   "cell_type": "code",
   "execution_count": 64,
   "id": "efd30bbc",
   "metadata": {},
   "outputs": [],
   "source": [
    "df['status'] = df['status'].astype(int)"
   ]
  },
  {
   "cell_type": "code",
   "execution_count": 65,
   "id": "44b78742",
   "metadata": {},
   "outputs": [],
   "source": [
    "## SAMPLE OF DF FOR QUICKER TESTING\n",
    "df = df.iloc[:100000]"
   ]
  },
  {
   "cell_type": "code",
   "execution_count": 66,
   "id": "2ab39a20",
   "metadata": {},
   "outputs": [],
   "source": [
    "# Map status codes to integer values for OHE\n",
    "status_map = {\n",
    "    100: 0,\n",
    "    200: 1,\n",
    "    300: 2,\n",
    "    400: 3,\n",
    "    500: 4,\n",
    "    600: 5,\n",
    "    700: 6\n",
    "}\n",
    "\n",
    "df['status'] = df['status'].map(status_map)"
   ]
  },
  {
   "cell_type": "code",
   "execution_count": 67,
   "id": "9bd449c3",
   "metadata": {},
   "outputs": [],
   "source": [
    "# Group each session into series of clickstream and add end of sequnce token (700)\n",
    "# Extract the clickstream for each session\n",
    "converted_clickstreams = df[df['purchase'] == 1].groupby(['session_id_hash'])['status'].apply(lambda x: np.r_[x.values,6])\n",
    "unconverted_clickstreams = df[df['purchase'] == 0].groupby(['session_id_hash'])['status'].apply(lambda x: np.r_[x.values,6])\n",
    "abandoned_clickstreams = df[df['purchase'] == 2].groupby(['session_id_hash'])['status'].apply(lambda x: np.r_[x.values,6])"
   ]
  },
  {
   "cell_type": "code",
   "execution_count": 68,
   "id": "f180da0f",
   "metadata": {},
   "outputs": [
    {
     "data": {
      "text/plain": [
       "array([2, 3, 2, 2, 2, 1, 0, 4, 2, 1, 2, 2, 2, 4, 4, 4, 2, 2, 4, 2, 4, 2,\n",
       "       4, 4, 4, 4, 4, 4, 4, 2, 6])"
      ]
     },
     "execution_count": 68,
     "metadata": {},
     "output_type": "execute_result"
    }
   ],
   "source": [
    "converted_clickstreams[0]"
   ]
  },
  {
   "cell_type": "code",
   "execution_count": 69,
   "id": "bfb6fd16",
   "metadata": {},
   "outputs": [],
   "source": [
    "def convert_clickstream_to_onehot(cs):\n",
    "    length = len(cs)\n",
    "    \n",
    "    vec = np.zeros((length, 7))\n",
    "    \n",
    "    vec[np.arange(length), cs] = 1\n",
    "    \n",
    "    #vec = vec[np.newaxis,:,:]\n",
    "    \n",
    "    return vec"
   ]
  },
  {
   "cell_type": "code",
   "execution_count": 70,
   "id": "71ae3486",
   "metadata": {},
   "outputs": [
    {
     "data": {
      "text/plain": [
       "array([[0., 0., 1., 0., 0., 0., 0.],\n",
       "       [0., 0., 0., 1., 0., 0., 0.],\n",
       "       [0., 0., 1., 0., 0., 0., 0.],\n",
       "       [0., 0., 1., 0., 0., 0., 0.],\n",
       "       [0., 0., 1., 0., 0., 0., 0.],\n",
       "       [0., 1., 0., 0., 0., 0., 0.],\n",
       "       [1., 0., 0., 0., 0., 0., 0.],\n",
       "       [0., 0., 0., 0., 1., 0., 0.],\n",
       "       [0., 0., 1., 0., 0., 0., 0.],\n",
       "       [0., 1., 0., 0., 0., 0., 0.],\n",
       "       [0., 0., 1., 0., 0., 0., 0.],\n",
       "       [0., 0., 1., 0., 0., 0., 0.],\n",
       "       [0., 0., 1., 0., 0., 0., 0.],\n",
       "       [0., 0., 0., 0., 1., 0., 0.],\n",
       "       [0., 0., 0., 0., 1., 0., 0.],\n",
       "       [0., 0., 0., 0., 1., 0., 0.],\n",
       "       [0., 0., 1., 0., 0., 0., 0.],\n",
       "       [0., 0., 1., 0., 0., 0., 0.],\n",
       "       [0., 0., 0., 0., 1., 0., 0.],\n",
       "       [0., 0., 1., 0., 0., 0., 0.],\n",
       "       [0., 0., 0., 0., 1., 0., 0.],\n",
       "       [0., 0., 1., 0., 0., 0., 0.],\n",
       "       [0., 0., 0., 0., 1., 0., 0.],\n",
       "       [0., 0., 0., 0., 1., 0., 0.],\n",
       "       [0., 0., 0., 0., 1., 0., 0.],\n",
       "       [0., 0., 0., 0., 1., 0., 0.],\n",
       "       [0., 0., 0., 0., 1., 0., 0.],\n",
       "       [0., 0., 0., 0., 1., 0., 0.],\n",
       "       [0., 0., 0., 0., 1., 0., 0.],\n",
       "       [0., 0., 1., 0., 0., 0., 0.],\n",
       "       [0., 0., 0., 0., 0., 0., 1.]])"
      ]
     },
     "execution_count": 70,
     "metadata": {},
     "output_type": "execute_result"
    }
   ],
   "source": [
    "convert_clickstream_to_onehot(converted_clickstreams[0])"
   ]
  },
  {
   "cell_type": "code",
   "execution_count": 71,
   "id": "28143c6b",
   "metadata": {},
   "outputs": [],
   "source": [
    "converted_clickstreams = converted_clickstreams.map(convert_clickstream_to_onehot)\n",
    "unconverted_clickstreams = unconverted_clickstreams.map(convert_clickstream_to_onehot)\n",
    "abandoned_clickstreams = abandoned_clickstreams.map(convert_clickstream_to_onehot)"
   ]
  },
  {
   "cell_type": "code",
   "execution_count": 72,
   "id": "c27e3366",
   "metadata": {},
   "outputs": [],
   "source": [
    "padded_conversions = tf.keras.preprocessing.sequence.pad_sequences(\n",
    "    converted_clickstreams.to_list(),\n",
    "    padding='pre',\n",
    "    maxlen=180\n",
    ")\n",
    "\n",
    "padded_unconversions = tf.keras.preprocessing.sequence.pad_sequences(\n",
    "    unconverted_clickstreams.to_list(),\n",
    "    padding='pre',\n",
    "    maxlen=180\n",
    ")\n",
    "\n",
    "padded_abandonments = tf.keras.preprocessing.sequence.pad_sequences(\n",
    "    abandoned_clickstreams.to_list(),\n",
    "    padding='pre',\n",
    "    maxlen=180\n",
    ")\n"
   ]
  },
  {
   "cell_type": "code",
   "execution_count": 92,
   "id": "0d745d13",
   "metadata": {},
   "outputs": [],
   "source": [
    "purchase_labels = np.ones(padded_conversions.shape[0])\n",
    "no_purchase_labels = np.zeros(padded_unconversions.shape[0])\n",
    "abandonments_labels = np.ones(padded_abandonments.shape[0])*2\n",
    "tf_data = np.r_[padded_conversions, padded_unconversions, padded_abandonments]\n",
    "labels = np.r_[purchase_labels, no_purchase_labels, abandonments_labels]"
   ]
  },
  {
   "cell_type": "code",
   "execution_count": 93,
   "id": "8df220cd",
   "metadata": {},
   "outputs": [
    {
     "data": {
      "text/plain": [
       "(6385, 180, 7)"
      ]
     },
     "execution_count": 93,
     "metadata": {},
     "output_type": "execute_result"
    }
   ],
   "source": [
    "tf_data.shape"
   ]
  },
  {
   "cell_type": "code",
   "execution_count": 94,
   "id": "3367c065",
   "metadata": {},
   "outputs": [],
   "source": [
    "shuffle = np.random.permutation(tf_data.shape[0])\n",
    "tf_data = tf_data[shuffle]\n",
    "labels = labels[shuffle]\n",
    "label_vec = np.zeros((labels.shape[0], 3))\n",
    "label_vec[np.arange(labels.shape[0]), labels.astype(int)] = 1\n",
    "labels = label_vec\n",
    "\n",
    "X_test, y_test = tf_data[int(0.8*tf_data.shape[0]):], labels[int(0.8*tf_data.shape[0]):]\n",
    "X_train, X_val, y_train, y_val = train_test_split(tf_data[:int(0.8*tf_data.shape[0])], labels[:int(0.8*tf_data.shape[0])])\n",
    "\n",
    "\n"
   ]
  },
  {
   "cell_type": "code",
   "execution_count": 95,
   "id": "df9a3c31",
   "metadata": {},
   "outputs": [],
   "source": [
    "# Trying class weights\n",
    "class_dict = {0:1,1:20,2:10}\n",
    "\n",
    "class_weights = y_train.argmax(axis=1)\n",
    "class_map = lambda t: class_dict[t]\n",
    "func = np.vectorize(class_map)\n",
    "class_weights = func(class_weights)"
   ]
  },
  {
   "cell_type": "code",
   "execution_count": 97,
   "id": "a5069975",
   "metadata": {},
   "outputs": [
    {
     "name": "stdout",
     "output_type": "stream",
     "text": [
      "Model: \"sequential_2\"\n",
      "_________________________________________________________________\n",
      "Layer (type)                 Output Shape              Param #   \n",
      "=================================================================\n",
      "masking_2 (Masking)          (None, 180, 7)            0         \n",
      "_________________________________________________________________\n",
      "lstm_2 (LSTM)                (None, 64)                18432     \n",
      "_________________________________________________________________\n",
      "dense_2 (Dense)              (None, 3)                 195       \n",
      "=================================================================\n",
      "Total params: 18,627\n",
      "Trainable params: 18,627\n",
      "Non-trainable params: 0\n",
      "_________________________________________________________________\n",
      "Epoch 1/50\n",
      "30/30 [==============================] - 4s 137ms/step - loss: 2.2888 - accuracy: 0.8953 - val_loss: 0.9391 - val_accuracy: 0.7408\n",
      "Epoch 2/50\n",
      "30/30 [==============================] - 4s 124ms/step - loss: 2.1098 - accuracy: 0.7471 - val_loss: 0.9386 - val_accuracy: 0.6562\n",
      "Epoch 3/50\n",
      "30/30 [==============================] - 4s 130ms/step - loss: 2.0352 - accuracy: 0.7698 - val_loss: 0.6708 - val_accuracy: 0.9186\n",
      "Epoch 4/50\n",
      "30/30 [==============================] - 4s 129ms/step - loss: 1.9631 - accuracy: 0.8316 - val_loss: 0.6570 - val_accuracy: 0.9193\n",
      "Epoch 5/50\n",
      "30/30 [==============================] - 4s 128ms/step - loss: 1.8905 - accuracy: 0.9246 - val_loss: 0.7101 - val_accuracy: 0.9123\n",
      "Epoch 6/50\n",
      "30/30 [==============================] - 4s 123ms/step - loss: 1.9899 - accuracy: 0.8966 - val_loss: 0.6623 - val_accuracy: 0.8990\n",
      "Epoch 7/50\n",
      "30/30 [==============================] - 4s 128ms/step - loss: 2.0194 - accuracy: 0.9220 - val_loss: 0.6486 - val_accuracy: 0.9272\n",
      "Epoch 8/50\n",
      "30/30 [==============================] - 4s 122ms/step - loss: 1.9054 - accuracy: 0.8366 - val_loss: 0.6891 - val_accuracy: 0.8763\n",
      "Epoch 9/50\n",
      "30/30 [==============================] - 4s 124ms/step - loss: 1.7465 - accuracy: 0.9426 - val_loss: 0.6941 - val_accuracy: 0.8951\n",
      "Epoch 10/50\n",
      "30/30 [==============================] - 4s 128ms/step - loss: 1.7226 - accuracy: 0.9475 - val_loss: 0.6264 - val_accuracy: 0.9655\n",
      "Epoch 11/50\n",
      "30/30 [==============================] - 4s 122ms/step - loss: 1.6560 - accuracy: 0.9749 - val_loss: 0.6124 - val_accuracy: 0.9671\n",
      "Epoch 12/50\n",
      "30/30 [==============================] - 4s 123ms/step - loss: 1.6393 - accuracy: 0.9755 - val_loss: 0.6047 - val_accuracy: 0.9671\n",
      "Epoch 13/50\n",
      "30/30 [==============================] - 4s 139ms/step - loss: 1.6226 - accuracy: 0.9762 - val_loss: 0.5976 - val_accuracy: 0.9671\n",
      "Epoch 14/50\n",
      "30/30 [==============================] - 6s 194ms/step - loss: 1.6166 - accuracy: 0.9757 - val_loss: 0.5978 - val_accuracy: 0.9663\n",
      "Epoch 15/50\n",
      "30/30 [==============================] - 5s 163ms/step - loss: 1.6174 - accuracy: 0.9739 - val_loss: 0.6101 - val_accuracy: 0.9436\n",
      "Epoch 16/50\n",
      "30/30 [==============================] - 4s 136ms/step - loss: 1.6172 - accuracy: 0.9689 - val_loss: 0.5895 - val_accuracy: 0.9687\n",
      "Epoch 17/50\n",
      "30/30 [==============================] - 4s 118ms/step - loss: 1.6190 - accuracy: 0.9765 - val_loss: 0.5920 - val_accuracy: 0.9671\n",
      "Epoch 18/50\n",
      "30/30 [==============================] - 4s 117ms/step - loss: 1.6040 - accuracy: 0.9762 - val_loss: 0.5921 - val_accuracy: 0.9671\n",
      "Epoch 19/50\n",
      "30/30 [==============================] - 4s 123ms/step - loss: 1.6076 - accuracy: 0.9729 - val_loss: 0.5933 - val_accuracy: 0.9671\n",
      "Epoch 20/50\n",
      "30/30 [==============================] - 4s 118ms/step - loss: 1.6176 - accuracy: 0.9760 - val_loss: 0.5938 - val_accuracy: 0.9601\n",
      "Epoch 21/50\n",
      "30/30 [==============================] - 4s 123ms/step - loss: 1.5996 - accuracy: 0.9726 - val_loss: 0.5921 - val_accuracy: 0.9624\n",
      "Epoch 22/50\n",
      "30/30 [==============================] - 4s 143ms/step - loss: 1.5903 - accuracy: 0.9762 - val_loss: 0.5895 - val_accuracy: 0.9671\n",
      "Epoch 23/50\n",
      "30/30 [==============================] - 6s 209ms/step - loss: 1.5869 - accuracy: 0.9757 - val_loss: 0.5876 - val_accuracy: 0.9663\n",
      "Epoch 24/50\n",
      "30/30 [==============================] - 4s 136ms/step - loss: 1.5985 - accuracy: 0.9744 - val_loss: 0.6019 - val_accuracy: 0.9538\n",
      "Epoch 25/50\n",
      "30/30 [==============================] - 4s 122ms/step - loss: 1.5739 - accuracy: 0.9739 - val_loss: 0.5851 - val_accuracy: 0.9687\n",
      "Epoch 26/50\n",
      "30/30 [==============================] - 4s 126ms/step - loss: 1.5814 - accuracy: 0.9773 - val_loss: 0.5906 - val_accuracy: 0.9616\n",
      "Epoch 27/50\n",
      "30/30 [==============================] - 4s 120ms/step - loss: 1.5742 - accuracy: 0.9731 - val_loss: 0.5915 - val_accuracy: 0.9601\n",
      "Epoch 28/50\n",
      "30/30 [==============================] - 4s 120ms/step - loss: 1.5659 - accuracy: 0.9715 - val_loss: 0.5908 - val_accuracy: 0.9632\n",
      "Epoch 29/50\n",
      "30/30 [==============================] - 4s 133ms/step - loss: 1.7214 - accuracy: 0.8781 - val_loss: 0.9329 - val_accuracy: 0.6108\n",
      "Epoch 30/50\n",
      "30/30 [==============================] - 4s 132ms/step - loss: 1.8997 - accuracy: 0.8925 - val_loss: 0.5957 - val_accuracy: 0.9632\n",
      "Epoch 31/50\n",
      "30/30 [==============================] - 3s 115ms/step - loss: 1.5901 - accuracy: 0.9601 - val_loss: 0.5908 - val_accuracy: 0.9679\n",
      "Epoch 32/50\n",
      "30/30 [==============================] - 3s 114ms/step - loss: 1.5763 - accuracy: 0.9718 - val_loss: 0.6048 - val_accuracy: 0.9444\n",
      "Epoch 33/50\n",
      "30/30 [==============================] - 4s 120ms/step - loss: 1.5933 - accuracy: 0.9731 - val_loss: 0.5889 - val_accuracy: 0.9663\n",
      "Epoch 34/50\n",
      "30/30 [==============================] - 4s 122ms/step - loss: 1.5733 - accuracy: 0.9731 - val_loss: 0.5930 - val_accuracy: 0.9616\n",
      "Epoch 35/50\n",
      "30/30 [==============================] - 4s 138ms/step - loss: 1.5669 - accuracy: 0.9731 - val_loss: 0.5916 - val_accuracy: 0.9632\n",
      "Epoch 36/50\n",
      "30/30 [==============================] - 4s 144ms/step - loss: 1.5742 - accuracy: 0.9736 - val_loss: 0.5952 - val_accuracy: 0.9554\n",
      "Epoch 37/50\n",
      "30/30 [==============================] - 4s 122ms/step - loss: 1.5707 - accuracy: 0.9739 - val_loss: 0.5968 - val_accuracy: 0.9507\n",
      "Epoch 38/50\n",
      "30/30 [==============================] - 5s 166ms/step - loss: 1.5788 - accuracy: 0.9710 - val_loss: 0.5902 - val_accuracy: 0.9632\n",
      "Epoch 39/50\n",
      "30/30 [==============================] - 4s 131ms/step - loss: 1.5548 - accuracy: 0.9721 - val_loss: 0.5860 - val_accuracy: 0.9663\n",
      "Epoch 40/50\n",
      "30/30 [==============================] - 4s 132ms/step - loss: 1.5439 - accuracy: 0.9768 - val_loss: 0.5926 - val_accuracy: 0.9577\n",
      "Epoch 41/50\n",
      "30/30 [==============================] - 5s 169ms/step - loss: 1.5428 - accuracy: 0.9749 - val_loss: 0.5842 - val_accuracy: 0.9679\n",
      "Epoch 42/50\n",
      "30/30 [==============================] - 5s 162ms/step - loss: 1.5542 - accuracy: 0.9770 - val_loss: 0.5929 - val_accuracy: 0.9569\n",
      "Epoch 43/50\n",
      "30/30 [==============================] - 4s 147ms/step - loss: 1.5453 - accuracy: 0.9734 - val_loss: 0.5863 - val_accuracy: 0.9679\n",
      "Epoch 44/50\n",
      "30/30 [==============================] - 5s 177ms/step - loss: 1.5372 - accuracy: 0.9749 - val_loss: 0.5975 - val_accuracy: 0.9507\n",
      "Epoch 45/50\n",
      "30/30 [==============================] - 4s 128ms/step - loss: 1.5321 - accuracy: 0.9765 - val_loss: 0.5899 - val_accuracy: 0.9624\n",
      "Epoch 46/50\n",
      "30/30 [==============================] - 4s 127ms/step - loss: 1.5371 - accuracy: 0.9749 - val_loss: 0.5883 - val_accuracy: 0.9616\n",
      "Epoch 47/50\n",
      "30/30 [==============================] - 4s 127ms/step - loss: 1.5180 - accuracy: 0.9755 - val_loss: 0.5888 - val_accuracy: 0.9616\n",
      "Epoch 48/50\n",
      "30/30 [==============================] - 4s 130ms/step - loss: 1.5094 - accuracy: 0.9765 - val_loss: 0.5932 - val_accuracy: 0.9569\n",
      "Epoch 49/50\n",
      "30/30 [==============================] - 4s 126ms/step - loss: 1.5216 - accuracy: 0.9747 - val_loss: 0.5858 - val_accuracy: 0.9663\n",
      "Epoch 50/50\n",
      "30/30 [==============================] - 4s 126ms/step - loss: 1.5103 - accuracy: 0.9757 - val_loss: 0.5885 - val_accuracy: 0.9624\n"
     ]
    },
    {
     "data": {
      "text/plain": [
       "<tensorflow.python.keras.callbacks.History at 0x7fdf4a5c73d0>"
      ]
     },
     "execution_count": 97,
     "metadata": {},
     "output_type": "execute_result"
    }
   ],
   "source": [
    "model_gen = keras.Sequential(\n",
    "    [layers.Masking(mask_value=[0,0,0,0,0,0,0], input_shape=(180,7)),\n",
    "     layers.LSTM(64),\n",
    "    layers.Dense(3, activation='softmax')\n",
    "    ]\n",
    ")\n",
    "\n",
    "model_gen.compile(\n",
    "    optimizer='adam',\n",
    "    loss=tf.keras.losses.CategoricalCrossentropy(from_logits=True),\n",
    "    metrics=['accuracy']\n",
    ")\n",
    "\n",
    "model_gen.summary()\n",
    "\n",
    "model_gen.fit(\n",
    "    x=X_train,\n",
    "    y=y_train,\n",
    "    sample_weight=class_weights.reshape(-1,1),\n",
    "    batch_size=128,\n",
    "    validation_data=(X_val, y_val),\n",
    "    steps_per_epoch=30,\n",
    "    epochs=50\n",
    ")"
   ]
  },
  {
   "cell_type": "code",
   "execution_count": 98,
   "id": "ab6a5270",
   "metadata": {},
   "outputs": [
    {
     "name": "stdout",
     "output_type": "stream",
     "text": [
      "Model: \"sequential_2\"\n",
      "_________________________________________________________________\n",
      "Layer (type)                 Output Shape              Param #   \n",
      "=================================================================\n",
      "masking_2 (Masking)          (None, 180, 7)            0         \n",
      "_________________________________________________________________\n",
      "lstm_2 (LSTM)                (None, 64)                18432     \n",
      "_________________________________________________________________\n",
      "dense_2 (Dense)              (None, 3)                 195       \n",
      "=================================================================\n",
      "Total params: 18,627\n",
      "Trainable params: 18,627\n",
      "Non-trainable params: 0\n",
      "_________________________________________________________________\n"
     ]
    }
   ],
   "source": [
    "model_gen.summary()"
   ]
  },
  {
   "cell_type": "code",
   "execution_count": 126,
   "id": "b094468c",
   "metadata": {},
   "outputs": [
    {
     "data": {
      "text/plain": [
       "(1277, 3)"
      ]
     },
     "execution_count": 126,
     "metadata": {},
     "output_type": "execute_result"
    }
   ],
   "source": [
    "y_test.shape"
   ]
  },
  {
   "cell_type": "code",
   "execution_count": 127,
   "id": "1ba437e8",
   "metadata": {},
   "outputs": [
    {
     "data": {
      "text/plain": [
       "(6385, 3)"
      ]
     },
     "execution_count": 127,
     "metadata": {},
     "output_type": "execute_result"
    }
   ],
   "source": [
    "labels.shape"
   ]
  },
  {
   "cell_type": "code",
   "execution_count": 100,
   "id": "8be2987a",
   "metadata": {},
   "outputs": [
    {
     "data": {
      "text/plain": [
       "array([[1., 0., 0.],\n",
       "       [1., 0., 0.],\n",
       "       [0., 0., 1.],\n",
       "       ...,\n",
       "       [1., 0., 0.],\n",
       "       [0., 0., 1.],\n",
       "       [1., 0., 0.]])"
      ]
     },
     "execution_count": 100,
     "metadata": {},
     "output_type": "execute_result"
    }
   ],
   "source": [
    "y_test"
   ]
  },
  {
   "cell_type": "code",
   "execution_count": 118,
   "id": "5ce485ff",
   "metadata": {},
   "outputs": [
    {
     "data": {
      "text/plain": [
       "(0.9665007215580884, 0.7554257335173576)"
      ]
     },
     "execution_count": 118,
     "metadata": {},
     "output_type": "execute_result"
    }
   ],
   "source": [
    "# F1 and AUC on full length trajectories \n",
    "from sklearn.metrics import roc_auc_score, f1_score\n",
    "    \n",
    "def calc_f1_auc_scores_nn(model, X_test_data, y_test_data, y_test_ohe=None):\n",
    "\n",
    "    auc = roc_auc_score(y_test_ohe, model.predict(X_test_data), multi_class='ovr')\n",
    "    f1 = f1_score(y_test_ohe.argmax(axis=1), model.predict(X_test_data).argmax(axis=1), average='macro')\n",
    "\n",
    "    return auc, f1\n",
    "\n",
    "\n",
    "\n",
    "calc_f1_auc_scores_nn(model_gen, X_test, y_test_data=None, y_test_ohe=y_test)"
   ]
  },
  {
   "cell_type": "code",
   "execution_count": 119,
   "id": "9f809cbb",
   "metadata": {},
   "outputs": [],
   "source": [
    "# Using limited length sequence for test data\n",
    "test_df = pd.read_parquet('joined_df.parquet')\n"
   ]
  },
  {
   "cell_type": "code",
   "execution_count": 120,
   "id": "a93f2845",
   "metadata": {},
   "outputs": [
    {
     "name": "stdout",
     "output_type": "stream",
     "text": [
      "Sessions before trimming based on session length: 5010682\n",
      "Sessions after trimming based on session length: 1923272\n"
     ]
    }
   ],
   "source": [
    "session_clicks = test_df['product_action'].groupby(test_df.index.get_level_values(0)).count()\n",
    "valid_session_ids = session_clicks[(session_clicks >= 5) & (session_clicks < 200)].index.values\n",
    "print(f'Sessions before trimming based on session length: {test_df.index.get_level_values(0).unique().shape[0]}')\n",
    "test_df = test_df[test_df.index.get_level_values(0).isin(valid_session_ids)]\n",
    "print(f'Sessions after trimming based on session length: {test_df.index.get_level_values(0).unique().shape[0]}')"
   ]
  },
  {
   "cell_type": "code",
   "execution_count": 121,
   "id": "3a36a70c",
   "metadata": {},
   "outputs": [],
   "source": [
    "# Re-add purchase status codes\n",
    "# df['status'] = df['status'].fillna(600)\n",
    "test_df = test_df[~test_df['status'].isna()]"
   ]
  },
  {
   "cell_type": "code",
   "execution_count": 122,
   "id": "c725a22e",
   "metadata": {},
   "outputs": [],
   "source": [
    "test_df = test_df.iloc[100000:200000]"
   ]
  },
  {
   "cell_type": "code",
   "execution_count": 123,
   "id": "e7146949",
   "metadata": {},
   "outputs": [],
   "source": [
    "test_df.loc[(test_df['purchase'] == 0) & (test_df['add'] == 1), 'purchase'] = 2"
   ]
  },
  {
   "cell_type": "code",
   "execution_count": 124,
   "id": "abf3d1af",
   "metadata": {},
   "outputs": [],
   "source": [
    "test_df['status'] = test_df['status'].astype(int)"
   ]
  },
  {
   "cell_type": "code",
   "execution_count": 125,
   "id": "61e40b09",
   "metadata": {},
   "outputs": [],
   "source": [
    "# Map status codes to integer values for OHE\n",
    "status_map = {\n",
    "    100: 0,\n",
    "    200: 1,\n",
    "    300: 2,\n",
    "    400: 3,\n",
    "    500: 4,\n",
    "    600: 5,\n",
    "    700: 6\n",
    "}\n",
    "\n",
    "test_df['status'] = test_df['status'].map(status_map)"
   ]
  },
  {
   "cell_type": "code",
   "execution_count": 129,
   "id": "6a60c649",
   "metadata": {},
   "outputs": [
    {
     "name": "stdout",
     "output_type": "stream",
     "text": [
      "[0.6854476475590228]\n",
      "[0.4924838942065876]\n",
      "[0.6854476475590228, 0.726630175299619]\n",
      "[0.4924838942065876, 0.5165216766871924]\n",
      "[0.6854476475590228, 0.726630175299619, 0.7735271724788939]\n",
      "[0.4924838942065876, 0.5165216766871924, 0.5426383980624113]\n",
      "[0.6854476475590228, 0.726630175299619, 0.7735271724788939, 0.7722898301985145]\n",
      "[0.4924838942065876, 0.5165216766871924, 0.5426383980624113, 0.5623920604790954]\n",
      "[0.6854476475590228, 0.726630175299619, 0.7735271724788939, 0.7722898301985145, 0.7842276232146084]\n",
      "[0.4924838942065876, 0.5165216766871924, 0.5426383980624113, 0.5623920604790954, 0.5918455003020643]\n",
      "[0.6854476475590228, 0.726630175299619, 0.7735271724788939, 0.7722898301985145, 0.7842276232146084, 0.8037189384202574]\n",
      "[0.4924838942065876, 0.5165216766871924, 0.5426383980624113, 0.5623920604790954, 0.5918455003020643, 0.6089486082107779]\n",
      "[0.6854476475590228, 0.726630175299619, 0.7735271724788939, 0.7722898301985145, 0.7842276232146084, 0.8037189384202574, 0.8338371583415762]\n",
      "[0.4924838942065876, 0.5165216766871924, 0.5426383980624113, 0.5623920604790954, 0.5918455003020643, 0.6089486082107779, 0.6254964414019631]\n",
      "[0.6854476475590228, 0.726630175299619, 0.7735271724788939, 0.7722898301985145, 0.7842276232146084, 0.8037189384202574, 0.8338371583415762, 0.8738954561865929]\n",
      "[0.4924838942065876, 0.5165216766871924, 0.5426383980624113, 0.5623920604790954, 0.5918455003020643, 0.6089486082107779, 0.6254964414019631, 0.637261561370042]\n",
      "[0.6854476475590228, 0.726630175299619, 0.7735271724788939, 0.7722898301985145, 0.7842276232146084, 0.8037189384202574, 0.8338371583415762, 0.8738954561865929, 0.8991088667162684]\n",
      "[0.4924838942065876, 0.5165216766871924, 0.5426383980624113, 0.5623920604790954, 0.5918455003020643, 0.6089486082107779, 0.6254964414019631, 0.637261561370042, 0.6509257481848261]\n",
      "[0.6854476475590228, 0.726630175299619, 0.7735271724788939, 0.7722898301985145, 0.7842276232146084, 0.8037189384202574, 0.8338371583415762, 0.8738954561865929, 0.8991088667162684, 0.9178679665956343]\n",
      "[0.4924838942065876, 0.5165216766871924, 0.5426383980624113, 0.5623920604790954, 0.5918455003020643, 0.6089486082107779, 0.6254964414019631, 0.637261561370042, 0.6509257481848261, 0.6730706174432882]\n"
     ]
    }
   ],
   "source": [
    "# Group each session into series of clickstream and add end of sequnce token (700)\n",
    "# Extract the clickstream for each session - \n",
    "\n",
    "def convert_clickstream_to_onehot(cs):\n",
    "    length = len(cs)\n",
    "    \n",
    "    vec = np.zeros((length, 7))\n",
    "    \n",
    "    vec[np.arange(length), cs] = 1\n",
    "    \n",
    "    #vec = vec[np.newaxis,:,:]\n",
    "    \n",
    "    return vec\n",
    "\n",
    "\n",
    "f1_scores = []\n",
    "auc_scores = []\n",
    "\n",
    "for i in range(5,15):\n",
    "    max_len = i\n",
    "    converted_clickstreams_test = test_df[test_df['purchase'] == 1].groupby(['session_id_hash'])['status'].apply(lambda x: np.r_[x.values,6][:max_len])\n",
    "    unconverted_clickstreams_test = test_df[test_df['purchase'] == 0].groupby(['session_id_hash'])['status'].apply(lambda x: np.r_[x.values,6][:max_len])\n",
    "    abandoned_clickstreams_test = test_df[test_df['purchase'] == 2].groupby(['session_id_hash'])['status'].apply(lambda x: np.r_[x.values,6][:max_len])\n",
    "\n",
    "    converted_clickstreams_test = converted_clickstreams_test.map(convert_clickstream_to_onehot)\n",
    "    unconverted_clickstreams_test = unconverted_clickstreams_test.map(convert_clickstream_to_onehot)\n",
    "    abandoned_clickstreams_test = abandoned_clickstreams_test.map(convert_clickstream_to_onehot)\n",
    "\n",
    "    padded_conversions = tf.keras.preprocessing.sequence.pad_sequences(\n",
    "        converted_clickstreams_test.to_list(),\n",
    "        padding='pre',\n",
    "        maxlen=180\n",
    "    )\n",
    "\n",
    "    padded_unconversions = tf.keras.preprocessing.sequence.pad_sequences(\n",
    "        unconverted_clickstreams_test.to_list(),\n",
    "        padding='pre',\n",
    "        maxlen=180\n",
    "    )\n",
    "\n",
    "    padded_abandonments = tf.keras.preprocessing.sequence.pad_sequences(\n",
    "        abandoned_clickstreams_test.to_list(),\n",
    "        padding='pre',\n",
    "        maxlen=180\n",
    "    )\n",
    "\n",
    "\n",
    "    purchase_labels = np.ones(padded_conversions.shape[0])\n",
    "    no_purchase_labels = np.zeros(padded_unconversions.shape[0])\n",
    "    abandonments_labels = np.ones(padded_abandonments.shape[0])*2\n",
    "    tf_data = np.r_[padded_conversions, padded_unconversions, padded_abandonments]\n",
    "    labels = np.r_[purchase_labels, no_purchase_labels, abandonments_labels]\n",
    "\n",
    "    shuffle = np.random.permutation(tf_data.shape[0])\n",
    "    tf_data = tf_data[shuffle]\n",
    "    labels = labels[shuffle]\n",
    "    label_vec = np.zeros((labels.shape[0], 3))\n",
    "    label_vec[np.arange(labels.shape[0]), labels.astype(int)] = 1\n",
    "    labels = label_vec\n",
    "\n",
    "#     X_test, y_test = tf_data[int(0.8*tf_data.shape[0]):], labels[int(0.8*tf_data.shape[0]):]\n",
    "#     X_train, X_val, y_train, y_val = train_test_split(tf_data[:int(0.8*tf_data.shape[0])], labels[:int(0.8*tf_data.shape[0])])\n",
    "    \n",
    "    f1,auc = calc_f1_auc_scores_nn(model_gen, tf_data, y_test_data=None, y_test_ohe=labels)\n",
    "    \n",
    "    f1_scores.append(f1)\n",
    "    auc_scores.append(auc)\n",
    "\n",
    "    print(f1_scores)\n",
    "    print(auc_scores)"
   ]
  },
  {
   "cell_type": "code",
   "execution_count": 130,
   "id": "235f2cdf",
   "metadata": {},
   "outputs": [
    {
     "data": {
      "text/plain": [
       "[0.6854476475590228,\n",
       " 0.726630175299619,\n",
       " 0.7735271724788939,\n",
       " 0.7722898301985145,\n",
       " 0.7842276232146084,\n",
       " 0.8037189384202574,\n",
       " 0.8338371583415762,\n",
       " 0.8738954561865929,\n",
       " 0.8991088667162684,\n",
       " 0.9178679665956343]"
      ]
     },
     "execution_count": 130,
     "metadata": {},
     "output_type": "execute_result"
    }
   ],
   "source": [
    "f1_scores"
   ]
  },
  {
   "cell_type": "code",
   "execution_count": 131,
   "id": "88d2c18c",
   "metadata": {},
   "outputs": [
    {
     "data": {
      "text/plain": [
       "[0.4924838942065876,\n",
       " 0.5165216766871924,\n",
       " 0.5426383980624113,\n",
       " 0.5623920604790954,\n",
       " 0.5918455003020643,\n",
       " 0.6089486082107779,\n",
       " 0.6254964414019631,\n",
       " 0.637261561370042,\n",
       " 0.6509257481848261,\n",
       " 0.6730706174432882]"
      ]
     },
     "execution_count": 131,
     "metadata": {},
     "output_type": "execute_result"
    }
   ],
   "source": [
    "auc_scores"
   ]
  },
  {
   "cell_type": "markdown",
   "id": "89557538",
   "metadata": {},
   "source": [
    "### Generative - Attempt 2"
   ]
  },
  {
   "cell_type": "code",
   "execution_count": 3,
   "id": "7d4b070b",
   "metadata": {},
   "outputs": [],
   "source": [
    "# Using limited length sequence for test data\n",
    "test_df = pd.read_parquet('joined_df.parquet')"
   ]
  },
  {
   "cell_type": "code",
   "execution_count": 4,
   "id": "7e763118",
   "metadata": {},
   "outputs": [
    {
     "name": "stdout",
     "output_type": "stream",
     "text": [
      "Sessions before trimming based on session length: 5010682\n",
      "Sessions after trimming based on session length: 1923272\n"
     ]
    }
   ],
   "source": [
    "session_clicks = test_df['product_action'].groupby(test_df.index.get_level_values(0)).count()\n",
    "valid_session_ids = session_clicks[(session_clicks >= 5) & (session_clicks < 200)].index.values\n",
    "print(f'Sessions before trimming based on session length: {test_df.index.get_level_values(0).unique().shape[0]}')\n",
    "test_df = test_df[test_df.index.get_level_values(0).isin(valid_session_ids)]\n",
    "print(f'Sessions after trimming based on session length: {test_df.index.get_level_values(0).unique().shape[0]}')"
   ]
  },
  {
   "cell_type": "code",
   "execution_count": 5,
   "id": "94f8382a",
   "metadata": {},
   "outputs": [],
   "source": [
    "# Re-add purchase status codes\n",
    "test_df['status'] = test_df['status'].fillna(600)"
   ]
  },
  {
   "cell_type": "code",
   "execution_count": 6,
   "id": "ca769d04",
   "metadata": {},
   "outputs": [],
   "source": [
    "#test_df = test_df.iloc[:100000]"
   ]
  },
  {
   "cell_type": "code",
   "execution_count": 7,
   "id": "f2b659d9",
   "metadata": {},
   "outputs": [],
   "source": [
    "test_df.loc[(test_df['purchase'] == 0) & (test_df['add'] == 1), 'purchase'] = 2"
   ]
  },
  {
   "cell_type": "code",
   "execution_count": 8,
   "id": "962e406c",
   "metadata": {},
   "outputs": [],
   "source": [
    "test_df['status'] = test_df['status'].astype(int)"
   ]
  },
  {
   "cell_type": "code",
   "execution_count": 9,
   "id": "dc08b562",
   "metadata": {},
   "outputs": [],
   "source": [
    "# Map status codes to integer values for OHE\n",
    "status_map = {\n",
    "    100: 0,\n",
    "    200: 1,\n",
    "    300: 2,\n",
    "    400: 3,\n",
    "    500: 4,\n",
    "    600: 5,\n",
    "    700: 6\n",
    "}\n",
    "\n",
    "test_df['status'] = test_df['status'].map(status_map)"
   ]
  },
  {
   "cell_type": "code",
   "execution_count": 10,
   "id": "fd640b4b",
   "metadata": {},
   "outputs": [],
   "source": [
    "converted_clickstreams_test = test_df[test_df['purchase'] == 1].groupby(['session_id_hash'])['status'].apply(lambda x: np.r_[x.values,6])\n",
    "unconverted_clickstreams_test = test_df[test_df['purchase'] == 0].groupby(['session_id_hash'])['status'].apply(lambda x: np.r_[x.values,6])\n",
    "abandoned_clickstreams_test = test_df[test_df['purchase'] == 2].groupby(['session_id_hash'])['status'].apply(lambda x: np.r_[x.values,6])"
   ]
  },
  {
   "cell_type": "code",
   "execution_count": 11,
   "id": "785a1b95",
   "metadata": {},
   "outputs": [
    {
     "data": {
      "text/plain": [
       "[([1], 2), ([1, 2], 3), ([1, 2, 3], 4), ([1, 2, 3, 4], 5)]"
      ]
     },
     "execution_count": 11,
     "metadata": {},
     "output_type": "execute_result"
    }
   ],
   "source": [
    "def generate_subsequences(seq):\n",
    "    length = len(seq)\n",
    "\n",
    "    subseq = [(seq[:i],seq[i]) for i in range(1,length)]\n",
    "    \n",
    "    return subseq\n",
    "\n",
    "generate_subsequences([1,2,3,4,5])"
   ]
  },
  {
   "cell_type": "code",
   "execution_count": 13,
   "id": "93191e1b",
   "metadata": {},
   "outputs": [],
   "source": [
    "converted_clickstreams_test = converted_clickstreams_test.apply(generate_subsequences)\n",
    "unconverted_clickstreams_test = unconverted_clickstreams_test.apply(generate_subsequences)\n",
    "abandoned_clickstreams_test = abandoned_clickstreams_test.apply(generate_subsequences)\n",
    "\n",
    "converted_clickstreams_test = converted_clickstreams_test.explode()\n",
    "unconverted_clickstreams_test = unconverted_clickstreams_test.explode()\n",
    "abandoned_clickstreams_test = abandoned_clickstreams_test.explode()"
   ]
  },
  {
   "cell_type": "code",
   "execution_count": 14,
   "id": "318d9636",
   "metadata": {},
   "outputs": [],
   "source": [
    "# Group each session into series of clickstream and add end of sequnce token (700)\n",
    "# Extract the clickstream for each session - \n",
    "\n",
    "def convert_clickstream_to_onehot(cs):\n",
    "    \n",
    "    # Convert CLickstream\n",
    "    length = len(cs[0])\n",
    "    \n",
    "    clickstream = np.zeros((length, 7))\n",
    "    \n",
    "    clickstream[np.arange(length), cs[0]] = int(1)\n",
    "    \n",
    "    # Convert label\n",
    "    label = np.zeros(7)\n",
    "    label[cs[1]] = int(1)\n",
    "    \n",
    "    return (clickstream, label)"
   ]
  },
  {
   "cell_type": "code",
   "execution_count": 15,
   "id": "19dae438",
   "metadata": {},
   "outputs": [],
   "source": [
    "converted_clickstreams_test = converted_clickstreams_test.apply(convert_clickstream_to_onehot)\n",
    "unconverted_clickstreams_test = unconverted_clickstreams_test.apply(convert_clickstream_to_onehot)\n",
    "abandoned_clickstreams_test = abandoned_clickstreams_test.apply(convert_clickstream_to_onehot)"
   ]
  },
  {
   "cell_type": "code",
   "execution_count": null,
   "id": "7ead5421",
   "metadata": {},
   "outputs": [],
   "source": [
    "n_converted = converted_clickstreams_test.shape[0]\n",
    "abandoned_clickstreams_test = pd.Series(np.random.choice(abandoned_clickstreams_test, n_converted, replace=False))\n",
    "unconverted_clickstreams_test = pd.Series(np.random.choice(unconverted_clickstreams_test, n_converted, replace=False))"
   ]
  },
  {
   "cell_type": "code",
   "execution_count": null,
   "id": "674a9910",
   "metadata": {},
   "outputs": [],
   "source": [
    "converted_clickstream_ohe = converted_clickstreams_test.apply(lambda x: (tf.keras.preprocessing.sequence.pad_sequences([x[0]], padding='pre', maxlen=180)))\n",
    "unconverted_clickstream_ohe = unconverted_clickstreams_test.apply(lambda x: (tf.keras.preprocessing.sequence.pad_sequences([x[0]], padding='pre', maxlen=180)))\n",
    "abandoned_clickstream_ohe = abandoned_clickstreams_test.apply(lambda x: (tf.keras.preprocessing.sequence.pad_sequences([x[0]], padding='pre', maxlen=180)))\n",
    "\n",
    "converted_labels = converted_clickstreams_test.apply(lambda x: x[1])\n",
    "unconverted_labels = unconverted_clickstreams_test.apply(lambda x: x[1])\n",
    "abandoned_labels = abandoned_clickstreams_test.apply(lambda x: x[1])"
   ]
  },
  {
   "cell_type": "code",
   "execution_count": null,
   "id": "3e15df64",
   "metadata": {},
   "outputs": [],
   "source": [
    "converted_clickstream_ohe = np.vstack(converted_clickstream_ohe.values)\n",
    "unconverted_clickstream_ohe = np.vstack(unconverted_clickstream_ohe.values)\n",
    "abandoned_clickstream_ohe = np.vstack(abandoned_clickstream_ohe.values)\n",
    "\n",
    "converted_labels = np.vstack(converted_labels.values)\n",
    "unconverted_labels = np.vstack(unconverted_labels.values)\n",
    "abandoned_labels = np.vstack(abandoned_labels.values)\n"
   ]
  },
  {
   "cell_type": "code",
   "execution_count": null,
   "id": "9adeb83e",
   "metadata": {},
   "outputs": [],
   "source": [
    "# Random subsets from unconverted and abandoned sessions to match the shape of conversions\n"
   ]
  },
  {
   "cell_type": "code",
   "execution_count": null,
   "id": "c0c32485",
   "metadata": {},
   "outputs": [],
   "source": [
    "X_data = np.concatenate((converted_clickstream_ohe, unconverted_clickstream_ohe, abandoned_clickstream_ohe))\n",
    "y_data = np.concatenate((converted_labels, unconverted_labels, abandoned_labels))"
   ]
  },
  {
   "cell_type": "code",
   "execution_count": null,
   "id": "f01f0e16",
   "metadata": {},
   "outputs": [],
   "source": [
    "# Create sample weights\n",
    "sample_weights = y_data.argmax(axis=1)\n",
    "\n",
    "# Trying class weights\n",
    "sample_dict = {0:1,1:1,2:1,3:1,4:1,5:100,6:1}\n",
    "\n",
    "sample_map = lambda t: sample_dict[t]\n",
    "func = np.vectorize(sample_map)\n",
    "sample_weights = func(sample_weights)"
   ]
  },
  {
   "cell_type": "code",
   "execution_count": null,
   "id": "a700a913",
   "metadata": {},
   "outputs": [],
   "source": [
    "f1_scores = []\n",
    "auc_scores = []\n",
    "\n",
    "\n",
    "from sklearn.metrics import roc_auc_score, f1_score\n",
    "    \n",
    "def calc_f1_auc_scores_nn(model, X_test_data, y_test_data, y_test_ohe=None):\n",
    "\n",
    "    auc = roc_auc_score(y_test_ohe, model.predict(X_test_data), multi_class='ovo')\n",
    "    f1 = f1_score(y_test_ohe.argmax(axis=1), model.predict(X_test_data).argmax(axis=1), average='macro')\n",
    "\n",
    "    return auc, f1\n",
    "\n",
    "\n",
    "\n",
    "shuffle = np.random.permutation(X_data.shape[0])\n",
    "X_data = X_data[shuffle]\n",
    "y_data = y_data[shuffle]\n",
    "sample_weights = sample_weights[shuffle]\n",
    "\n",
    "X_test, y_test = X_data[int(0.8*X_data.shape[0]):], y_data[int(0.8*X_data.shape[0]):]\n",
    "#X_train, X_val, y_train, y_val = train_test_split(X_data[:int(0.8*X_data.shape[0])], y_data[:int(0.8*X_data.shape[0])])\n",
    "X_train, X_val, y_train, y_val, sample_weights = X_data[:int(0.7*X_data.shape[0])], \\\n",
    "                                 X_data[int(0.7*X_data.shape[0]):int(0.8*X_data.shape[0])], \\\n",
    "                                 y_data[:int(0.7*X_data.shape[0])], \\\n",
    "                                 y_data[int(0.7*X_data.shape[0]):int(0.8*X_data.shape[0])], \\\n",
    "                                 sample_weights[:int(0.7*X_data.shape[0])] \n",
    "                                                                    \n",
    "    \n",
    "\n",
    "model_gen = keras.Sequential(\n",
    "    [layers.Masking(mask_value=[0,0,0,0,0,0,0], input_shape=(180,7)),\n",
    "     layers.LSTM(64),\n",
    "    layers.Dense(7, activation='softmax')\n",
    "    ]\n",
    ")\n",
    "\n",
    "model_gen.compile(\n",
    "    optimizer='adam',\n",
    "    loss=tf.keras.losses.CategoricalCrossentropy(from_logits=True),\n",
    "    metrics=['accuracy']\n",
    ")\n",
    "\n",
    "model_gen.summary()\n",
    "\n",
    "model_gen.fit(\n",
    "    x=X_train,\n",
    "    y=y_train,\n",
    "    sample_weight=sample_weights.reshape(-1,1),\n",
    "    batch_size=64,\n",
    "    validation_data=(X_val, y_val),\n",
    "    epochs=5\n",
    ")\n",
    "\n",
    "\n",
    "#     X_test, y_test = tf_data[int(0.8*tf_data.shape[0]):], labels[int(0.8*tf_data.shape[0]):]\n",
    "#     X_train, X_val, y_train, y_val = train_test_split(tf_data[:int(0.8*tf_data.shape[0])], labels[:int(0.8*tf_data.shape[0])])\n",
    "    \n",
    "f1,auc = calc_f1_auc_scores_nn(model_gen, X_test, y_test_data=None, y_test_ohe=y_test)\n",
    "\n",
    "f1_scores.append(f1)\n",
    "auc_scores.append(auc)\n",
    "\n",
    "print(f1_scores)\n",
    "print(auc_scores)"
   ]
  },
  {
   "cell_type": "code",
   "execution_count": 355,
   "id": "643c2752",
   "metadata": {},
   "outputs": [],
   "source": [
    "    \n",
    "def calc_f1_auc_scores_nn(model, X_test_data, y_test_data, y_test_ohe=None):\n",
    "\n",
    "    auc = roc_auc_score(y_test_ohe, model.predict(X_test_data), multi_class='ovo')\n",
    "    f1 = f1_score(y_test_ohe.argmax(axis=1), model.predict(X_test_data).argmax(axis=1), average='macro')\n",
    "\n",
    "    return auc, f1"
   ]
  },
  {
   "cell_type": "code",
   "execution_count": 356,
   "id": "0b4f5656",
   "metadata": {},
   "outputs": [],
   "source": [
    "f1,auc = calc_f1_auc_scores_nn(model_gen, X_test, y_test_data=None, y_test_ohe=y_test)"
   ]
  },
  {
   "cell_type": "code",
   "execution_count": 357,
   "id": "c906d9f9",
   "metadata": {},
   "outputs": [
    {
     "data": {
      "text/plain": [
       "(0.5383859959488972, 0.11104602297328273)"
      ]
     },
     "execution_count": 357,
     "metadata": {},
     "output_type": "execute_result"
    }
   ],
   "source": [
    "f1, auc"
   ]
  },
  {
   "cell_type": "code",
   "execution_count": 358,
   "id": "f2a2dd81",
   "metadata": {},
   "outputs": [],
   "source": [
    "predictions = model_gen.predict(X_test).round(4)"
   ]
  },
  {
   "cell_type": "code",
   "execution_count": 359,
   "id": "eff5f16d",
   "metadata": {},
   "outputs": [
    {
     "data": {
      "text/plain": [
       "array([[4.49594494e-11, 2.14726636e-09, 1.00000000e+00, 6.11517521e-12,\n",
       "        1.13382958e-11, 1.89529746e-11, 3.72387060e-12],\n",
       "       [2.55147320e-10, 9.36405620e-09, 1.00000000e+00, 4.39762220e-11,\n",
       "        7.43300421e-11, 1.13747352e-10, 2.50874529e-11],\n",
       "       [3.85809718e-11, 1.88550997e-09, 1.00000000e+00, 4.84710752e-12,\n",
       "        9.52375852e-12, 1.47908040e-11, 3.03613645e-12],\n",
       "       [3.86015074e-11, 1.89294380e-09, 1.00000000e+00, 4.84913238e-12,\n",
       "        9.54585456e-12, 1.48025429e-11, 3.02762416e-12],\n",
       "       [3.85914946e-11, 1.89231941e-09, 1.00000000e+00, 4.84780098e-12,\n",
       "        9.54186730e-12, 1.48026001e-11, 3.02835166e-12],\n",
       "       [3.89589160e-11, 1.88093030e-09, 1.00000000e+00, 4.88887099e-12,\n",
       "        9.56882316e-12, 1.48710835e-11, 3.07766096e-12],\n",
       "       [3.76853028e-11, 1.90317473e-09, 1.00000000e+00, 4.78473771e-12,\n",
       "        9.35242248e-12, 1.51595316e-11, 3.00046663e-12],\n",
       "       [4.01649478e-11, 1.95862060e-09, 1.00000000e+00, 5.15464321e-12,\n",
       "        9.90253712e-12, 1.60382471e-11, 3.15058570e-12],\n",
       "       [3.86274346e-11, 1.88948812e-09, 1.00000000e+00, 4.85599061e-12,\n",
       "        9.54525348e-12, 1.48135879e-11, 3.03429547e-12],\n",
       "       [2.43094124e-04, 1.11191685e-03, 9.98039901e-01, 1.49898391e-04,\n",
       "        1.62586599e-04, 1.87344252e-04, 1.05246356e-04]], dtype=float32)"
      ]
     },
     "execution_count": 359,
     "metadata": {},
     "output_type": "execute_result"
    }
   ],
   "source": [
    "model_gen.predict_proba(X_test[:10])"
   ]
  },
  {
   "cell_type": "code",
   "execution_count": 360,
   "id": "c6061224",
   "metadata": {},
   "outputs": [],
   "source": [
    "from sklearn.metrics import precision_score, recall_score"
   ]
  },
  {
   "cell_type": "code",
   "execution_count": 361,
   "id": "31f52455",
   "metadata": {},
   "outputs": [
    {
     "name": "stderr",
     "output_type": "stream",
     "text": [
      "/home/grantbeasley/anaconda3/envs/tf-gpu/lib/python3.7/site-packages/sklearn/metrics/_classification.py:1272: UndefinedMetricWarning: Precision is ill-defined and being set to 0.0 in labels with no predicted samples. Use `zero_division` parameter to control this behavior.\n",
      "  _warn_prf(average, modifier, msg_start, len(result))\n"
     ]
    },
    {
     "data": {
      "text/plain": [
       "0.0908219805857601"
      ]
     },
     "execution_count": 361,
     "metadata": {},
     "output_type": "execute_result"
    }
   ],
   "source": [
    "precision_score(y_true = y_test.argmax(axis=1), y_pred= model_gen.predict(X_test).argmax(axis=1), average='macro')"
   ]
  },
  {
   "cell_type": "code",
   "execution_count": 362,
   "id": "2777ef7c",
   "metadata": {},
   "outputs": [
    {
     "data": {
      "text/plain": [
       "0.14285714285714285"
      ]
     },
     "execution_count": 362,
     "metadata": {},
     "output_type": "execute_result"
    }
   ],
   "source": [
    "recall_score(y_true = y_test.argmax(axis=1), y_pred= model_gen.predict(X_test).argmax(axis=1), average='macro')"
   ]
  },
  {
   "cell_type": "code",
   "execution_count": 363,
   "id": "dfb3777f",
   "metadata": {},
   "outputs": [
    {
     "data": {
      "text/plain": [
       "0.40418297571848916"
      ]
     },
     "execution_count": 363,
     "metadata": {},
     "output_type": "execute_result"
    }
   ],
   "source": [
    "precision_score(y_true = y_test.argmax(axis=1), y_pred= model_gen.predict(X_test).argmax(axis=1), average='weighted')"
   ]
  },
  {
   "cell_type": "code",
   "execution_count": null,
   "id": "cd3caaae",
   "metadata": {},
   "outputs": [],
   "source": []
  }
 ],
 "metadata": {
  "kernelspec": {
   "display_name": "tf-gpu",
   "language": "python",
   "name": "tf-gpu"
  },
  "language_info": {
   "codemirror_mode": {
    "name": "ipython",
    "version": 3
   },
   "file_extension": ".py",
   "mimetype": "text/x-python",
   "name": "python",
   "nbconvert_exporter": "python",
   "pygments_lexer": "ipython3",
   "version": "3.7.13"
  }
 },
 "nbformat": 4,
 "nbformat_minor": 5
}
